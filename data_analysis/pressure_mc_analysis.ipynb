{
 "cells": [
  {
   "cell_type": "code",
   "execution_count": null,
   "id": "f057f1aa",
   "metadata": {},
   "outputs": [],
   "source": [
    "import os\n",
    "import numpy as np\n",
    "import matplotlib.pyplot as plt\n",
    "%matplotlib inline\n",
    "import glob\n",
    "import re\n",
    "from tkinter import filedialog as fd\n",
    "from tkinter import *"
   ]
  },
  {
   "cell_type": "code",
   "execution_count": null,
   "id": "026beaee",
   "metadata": {},
   "outputs": [],
   "source": [
    "def readFile(path):\n",
    "    return np.loadtxt(path, dtype=float, skiprows = 1)\n",
    "\n",
    "def getFilePathFromDialog(_initialdir):\n",
    "    root = Tk()\n",
    "    FilePath = fd.askopenfilename(initialdir = _initialdir)\n",
    "    root.destroy()\n",
    "    return FilePath\n",
    "\n",
    "def readFileFromDialog():\n",
    "    return readFile(getFilePathFromDialog(dataPath))\n",
    "\n",
    "def getDirectoryPathFromDialog(_initialdir):\n",
    "    root = Tk()\n",
    "    Directory = fd.askdirectory(initialdir = _initialdir)\n",
    "    root.destroy()\n",
    "    return Directory"
   ]
  },
  {
   "cell_type": "code",
   "execution_count": null,
   "id": "6bebc53e",
   "metadata": {},
   "outputs": [],
   "source": [
    "def readParticleConfig(path,ConfigurationNumber):\n",
    "    TotalNumberOfParticles = int(re.search(r'(?<=N=)[\\d]*',path).group())\n",
    "    with open(path,'r') as F:\n",
    "        Data = F.read()\n",
    "    RowOffset = ConfigurationNumber*(TotalNumberOfParticles+1)\n",
    "    print(\"RowOffset: \",RowOffset)\n",
    "    Data = Data.strip()\n",
    "    FirstRow = Data.split(sep='\\n')[RowOffset]\n",
    "    NumberOfAParticles = int(FirstRow.split()[6].strip('|'))\n",
    "    NumberOfBParticles = int(FirstRow.split()[8].strip('|'))\n",
    "    ListOfRows = Data.split(sep='\\n')[RowOffset+1:RowOffset+1+TotalNumberOfParticles]\n",
    "    if (len(ListOfRows) > 0):\n",
    "        NumberOfColumns = len(ListOfRows[0].split()) - 2 \n",
    "    else:\n",
    "        NumberOfColumns = 0\n",
    "    APositions = np.empty((NumberOfAParticles, NumberOfColumns))\n",
    "    BPositions = np.empty((NumberOfBParticles, NumberOfColumns))\n",
    "    AIndex = 0\n",
    "    BIndex = 0\n",
    "    \n",
    "    for i in range(len(ListOfRows)):\n",
    "        if (ListOfRows[i].split()[NumberOfColumns + 1] == 'A'):\n",
    "            for j in range(NumberOfColumns):\n",
    "                APositions[AIndex,j] = ListOfRows[i].split()[j+1]\n",
    "            AIndex += 1\n",
    "        else:\n",
    "            for j in range(NumberOfColumns):\n",
    "                BPositions[BIndex,j] = ListOfRows[i].split()[j+1]\n",
    "            BIndex += 1\n",
    "    return APositions, BPositions\n",
    "\n",
    "def readParticleConfigFromDialog(ConfigurationNumber):\n",
    "    return readParticleConfig(getFilePathFromDialog(dataPath),ConfigurationNumber)"
   ]
  },
  {
   "cell_type": "code",
   "execution_count": null,
   "id": "c63726b8",
   "metadata": {},
   "outputs": [],
   "source": [
    "def plotMultipleDensityAndPotEnergySeries(Directory,plotDiagrams=False):\n",
    "    Temperature = re.search(r'(?<=T=).*',Directory).group()\n",
    "    AllDensitySeries = sorted(glob.glob(Directory+\"/p=*\"))\n",
    "    NumberOfSeries = len(AllDensitySeries)\n",
    "    if plotDiagrams:\n",
    "        Fig,Ax = plt.subplots(NumberOfSeries,4,squeeze=False, figsize=(17,5*NumberOfSeries))\n",
    "    PressureList = []\n",
    "    DensityList = []\n",
    "    for i in range(NumberOfSeries):\n",
    "        Pressure = re.search(r'(?<=p=).*',AllDensitySeries[i]).group()\n",
    "        PressureList.append(Pressure)\n",
    "        DensitySeries = readFile(glob.glob(AllDensitySeries[i]+\"/density*\")[0])\n",
    "        PotSeries = readFile(glob.glob(AllDensitySeries[i]+\"/PotEnergySeries*\")[0])\n",
    "        PotEnergyAverage = np.mean(PotSeries)\n",
    "        DensityAverage = np.mean(DensitySeries)\n",
    "        DensityList.append(DensityAverage)\n",
    "        if plotDiagrams:\n",
    "            Ax[i,0].plot(DensitySeries,'.')\n",
    "            Ax[i,0].set_title(\"p= \"+str(Pressure))\n",
    "            DensityHistValues, BinEdges, Patches = Ax[i,1].hist(DensitySeries,bins = 20, density = True)\n",
    "            Ax[i,1].vlines(DensityAverage,0,max(DensityHistValues),color='g',label=\"DensityAvg={}\".format(round(DensityAverage,2)))\n",
    "            Ax[i,1].set_xlabel('density')\n",
    "            Ax[i,1].set_ylabel('number of occurences')\n",
    "            Ax[i,2].plot(PotSeries,'.')\n",
    "            PotEnergyHistValues, BinEdges, Patches = Ax[i,3].hist(PotSeries,bins = 20, density = True)\n",
    "            Ax[i,3].vlines(PotEnergyAverage,0,max(PotEnergyHistValues),color='g',label=\"PotEnergyAvg={}\".format(round(PotEnergyAverage,2)))\n",
    "            Ax[i,3].legend()\n",
    "    return Temperature,PressureList,DensityList"
   ]
  },
  {
   "cell_type": "code",
   "execution_count": null,
   "id": "cf6a41e2",
   "metadata": {},
   "outputs": [],
   "source": [
    "def plotPressureDensityDiagramForMultipleTemperatures():\n",
    "    Directory = getDirectoryPathFromDialog(dataPath)\n",
    "    Fig,Ax = plt.subplots(1,1,squeeze=False,figsize=(7,7),dpi=200)\n",
    "    Ax[0,0].set_xlim(0.6,0.91)\n",
    "    Ax[0,0].set_ylim(1.0,3.8)\n",
    "    Ax[0,0].set_ylabel('pressure')\n",
    "    Ax[0,0].set_xlabel('density')\n",
    "    Ax[0,0].set_title('p_vs_roh_finer_scan')\n",
    "    for Directory in sorted(glob.glob(Directory+'/T=*')):\n",
    "        Temperature, PressureList, DensityList = plotMultipleDensityAndPotEnergySeries(Directory,False)\n",
    "        Ax[0,0].plot(np.array(DensityList),np.array(PressureList,dtype=float),'.-',label=('T='+str(Temperature)))\n",
    "    Ax[0,0].legend(bbox_to_anchor=(1,1), loc=\"upper left\")\n",
    "    Fig.savefig('plots/p_vs_roh_finer_scan.png',format='png',dpi=200)"
   ]
  },
  {
   "cell_type": "code",
   "execution_count": null,
   "id": "a6234ac8",
   "metadata": {},
   "outputs": [],
   "source": [
    "dataPath = getDirectoryPathFromDialog('')"
   ]
  },
  {
   "cell_type": "markdown",
   "id": "084a301b",
   "metadata": {},
   "source": [
    "## Plot single temperature p vs roh diagram"
   ]
  },
  {
   "cell_type": "code",
   "execution_count": null,
   "id": "33779d60",
   "metadata": {
    "scrolled": false
   },
   "outputs": [],
   "source": [
    "Temperature, PressureList, DensityList = plotMultipleDensityAndPotEnergySeries(getDirectoryPathFromDialog(dataPath),True)"
   ]
  },
  {
   "cell_type": "code",
   "execution_count": null,
   "id": "d011eb11",
   "metadata": {},
   "outputs": [],
   "source": [
    "Fig,Ax = plt.subplots(1,1,squeeze=False,figsize=(5,5))\n",
    "Ax[0,0].plot(np.array(DensityList),np.array(PressureList,dtype=float),'.')\n",
    "#Ax[0,0].set_yscale('log')\n",
    "Ax[0,0].set_ylabel('pressure')\n",
    "Ax[0,0].set_xlabel('density')\n",
    "Ax[0,0].set_title('T='+str(Temperature)+'_p_vs_roh_finer_scan')\n",
    "Ax[0,0].set_xlim(0.7,0.91)\n",
    "#Ax[0,0].set_ylim(0.5,4.0)\n",
    "Fig.savefig('plots/T='+str(Temperature)+'_p_vs_roh_finer_scan.png',format='png',dpi=200)"
   ]
  },
  {
   "cell_type": "markdown",
   "id": "d9bcf234",
   "metadata": {},
   "source": [
    "## Plot multiple temperature p vs roh diagram"
   ]
  },
  {
   "cell_type": "code",
   "execution_count": null,
   "id": "23078d9b",
   "metadata": {},
   "outputs": [],
   "source": [
    "plotPressureDensityDiagramForMultipleTemperatures()"
   ]
  },
  {
   "cell_type": "markdown",
   "id": "5723388b",
   "metadata": {},
   "source": [
    "## Plot single density series"
   ]
  },
  {
   "cell_type": "code",
   "execution_count": null,
   "id": "68c6fa42",
   "metadata": {},
   "outputs": [],
   "source": [
    "DensitySeries = readFileFromDialog()"
   ]
  },
  {
   "cell_type": "code",
   "execution_count": null,
   "id": "b66557df",
   "metadata": {},
   "outputs": [],
   "source": [
    "Fig, Ax = plt.subplots(1,1,squeeze=False, figsize=(5,5))\n",
    "Ax[0,0].plot(DensitySeries)"
   ]
  },
  {
   "cell_type": "markdown",
   "id": "eeb47bed",
   "metadata": {},
   "source": [
    "## Plot single pot energy series"
   ]
  },
  {
   "cell_type": "code",
   "execution_count": null,
   "id": "060e9dd4",
   "metadata": {},
   "outputs": [],
   "source": [
    "PotEnergySeries = readFileFromDialog()"
   ]
  },
  {
   "cell_type": "code",
   "execution_count": null,
   "id": "74e0818d",
   "metadata": {},
   "outputs": [],
   "source": [
    "Fig, Ax = plt.subplots(1,1,squeeze=False, figsize=(5,5))\n",
    "Ax[0,0].plot(PotEnergySeries)"
   ]
  },
  {
   "cell_type": "markdown",
   "id": "7076252e",
   "metadata": {},
   "source": [
    "## Plot particle position"
   ]
  },
  {
   "cell_type": "code",
   "execution_count": null,
   "id": "5d5def39",
   "metadata": {},
   "outputs": [],
   "source": [
    "APositions, BPositions = readParticleConfigFromDialog(0)"
   ]
  },
  {
   "cell_type": "code",
   "execution_count": null,
   "id": "2d822003",
   "metadata": {},
   "outputs": [],
   "source": [
    "Fig, Host = plt.subplots(1,1,squeeze=False,figsize=(5,5),dpi =100)\n",
    "Host[0,0].plot(APositions[:,0],APositions[:,1],'.',color='b',ms=2)\n",
    "Host[0,0].plot(BPositions[:,0],BPositions[:,1],'.',color='darkorange',ms=2)\n",
    "Host[0,0].set_xlabel('x')\n",
    "Host[0,0].set_ylabel('y')\n",
    "Host[0,0].set_xlim(0,1)\n",
    "Host[0,0].set_ylim(0,1)"
   ]
  },
  {
   "cell_type": "code",
   "execution_count": null,
   "id": "025137e5",
   "metadata": {},
   "outputs": [],
   "source": []
  }
 ],
 "metadata": {
  "kernelspec": {
   "display_name": "Python 3",
   "language": "python",
   "name": "python3"
  },
  "language_info": {
   "codemirror_mode": {
    "name": "ipython",
    "version": 3
   },
   "file_extension": ".py",
   "mimetype": "text/x-python",
   "name": "python",
   "nbconvert_exporter": "python",
   "pygments_lexer": "ipython3",
   "version": "3.8.5"
  }
 },
 "nbformat": 4,
 "nbformat_minor": 5
}
