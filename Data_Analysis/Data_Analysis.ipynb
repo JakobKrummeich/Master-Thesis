{
 "cells": [
  {
   "cell_type": "code",
   "execution_count": null,
   "metadata": {},
   "outputs": [],
   "source": [
    "import numpy as np\n",
    "import os\n",
    "import matplotlib.pyplot as plt\n",
    "from scipy.optimize import curve_fit\n",
    "import glob\n",
    "import re\n",
    "\n",
    "%matplotlib inline"
   ]
  },
  {
   "cell_type": "code",
   "execution_count": null,
   "metadata": {},
   "outputs": [],
   "source": [
    "def Gaussian(x, a, Mean, Sigma):\n",
    "    return a * np.exp(-((x - Mean)**2 / (2 * Sigma**2)))"
   ]
  },
  {
   "cell_type": "code",
   "execution_count": null,
   "metadata": {},
   "outputs": [],
   "source": [
    "def ReadParticleConfig(path):\n",
    "    with open(path,'r') as F:\n",
    "        Data = F.read()\n",
    "    Data = Data.strip()\n",
    "    FirstRow = Data.split(sep='\\n')[0]\n",
    "    NumberOfAParticles = int(FirstRow.split()[6].strip('|'))\n",
    "    NumberOfBParticles = int(FirstRow.split()[8].strip('|'))\n",
    "    ListOfRows = Data.split(sep='\\n')[1:]\n",
    "    if (len(ListOfRows) > 0):\n",
    "        NumberOfColumns = len(ListOfRows[0].split()) - 2 \n",
    "    else:\n",
    "        NumberOfColumns = 0\n",
    "    APositions = np.empty((NumberOfAParticles, NumberOfColumns))\n",
    "    BPositions = np.empty((NumberOfBParticles, NumberOfColumns))\n",
    "    AIndex = 0\n",
    "    BIndex = 0\n",
    "    \n",
    "    for i in range(len(ListOfRows)):\n",
    "        if (ListOfRows[i].split()[NumberOfColumns + 1] == 'A'):\n",
    "            for j in range(NumberOfColumns):\n",
    "                APositions[AIndex,j] = ListOfRows[i].split()[j+1]\n",
    "            AIndex += 1\n",
    "        else:\n",
    "            for j in range(NumberOfColumns):\n",
    "                BPositions[BIndex,j] = ListOfRows[i].split()[j+1]\n",
    "            BIndex += 1\n",
    "    return APositions, BPositions"
   ]
  },
  {
   "cell_type": "code",
   "execution_count": null,
   "metadata": {},
   "outputs": [],
   "source": [
    "def ReadSeries(path):\n",
    "    with open(path,'r') as F:\n",
    "        Data = F.read()\n",
    "    Data = Data.strip()\n",
    "    ListOfData = Data.split(sep='\\n')\n",
    "    NumberOfEntries = len(ListOfData)\n",
    "    Series = np.empty(NumberOfEntries)\n",
    "    for i in range(NumberOfEntries):\n",
    "        Series[i] = ListOfData[i]\n",
    "    return Series"
   ]
  },
  {
   "cell_type": "code",
   "execution_count": null,
   "metadata": {},
   "outputs": [],
   "source": [
    "def computeEquilibriumAverage(Series):\n",
    "    n = 0\n",
    "    while (n < len(Series)):\n",
    "        Average = np.mean(Series[n:])\n",
    "        Deviations = np.abs(Average-Series[n:])\n",
    "        AverageDeviation = np.mean(Deviations)\n",
    "        if (np.abs(Average-Series[n]) < AverageDeviation):\n",
    "            return Average,AverageDeviation,n\n",
    "        n += 1\n",
    "    return np.mean(Series[:]), np.mean(np.abs(np.mean(Series[:])-Series[:])), 0"
   ]
  },
  {
   "cell_type": "markdown",
   "metadata": {},
   "source": [
    "## Plot particle positions"
   ]
  },
  {
   "cell_type": "code",
   "execution_count": null,
   "metadata": {},
   "outputs": [],
   "source": [
    "APositions, BPositions = ReadParticleConfig(glob.glob(\"data/T=0.7/FinalParticleConfig*\")[0])"
   ]
  },
  {
   "cell_type": "code",
   "execution_count": null,
   "metadata": {
    "scrolled": false
   },
   "outputs": [],
   "source": [
    "Fig, Host = plt.subplots(1,1,squeeze=False,figsize=(5,5),dpi =100)\n",
    "Host[0,0].plot(APositions[:,0],APositions[:,1],'.',color='b')\n",
    "Host[0,0].plot(BPositions[:,0],BPositions[:,1],'.',color='darkorange')\n",
    "Host[0,0].set_xlabel('x')\n",
    "Host[0,0].set_ylabel('y')\n",
    "Host[0,0].set_xlim(0,1)\n",
    "Host[0,0].set_ylim(0,1)"
   ]
  },
  {
   "cell_type": "markdown",
   "metadata": {},
   "source": [
    "## Series of particle number"
   ]
  },
  {
   "cell_type": "code",
   "execution_count": null,
   "metadata": {},
   "outputs": [],
   "source": [
    "NumberOfASeries = ReadSeries(glob.glob(\"data/T=0.7/NA*\")[0])"
   ]
  },
  {
   "cell_type": "code",
   "execution_count": null,
   "metadata": {},
   "outputs": [],
   "source": [
    "NumberOfAAverage, AverageNumberDeviation, NumberIndex = computeEquilibriumAverage(NumberOfASeries)\n",
    "print(NumberOfAAverage, AverageNumberDeviation, NumberIndex)"
   ]
  },
  {
   "cell_type": "code",
   "execution_count": null,
   "metadata": {},
   "outputs": [],
   "source": [
    "Fig, Host = plt.subplots(1,1,squeeze=False, figsize = (12,5), dpi = 100)\n",
    "Host[0,0].plot(NumberOfASeries,'.')\n",
    "Host[0,0].plot(np.ones(len(NumberOfASeries))*NumberOfAAverage,color='darkorange',label='Gleichgewichts-Mittel')\n",
    "Host[0,0].plot(np.ones(len(NumberOfASeries))*NumberOfAAverage+AverageNumberDeviation,color='darkorange',alpha= 0.5)\n",
    "Host[0,0].plot(np.ones(len(NumberOfASeries))*NumberOfAAverage-AverageNumberDeviation,color='darkorange',alpha = 0.5)\n",
    "Host[0,0].vlines(NumberIndex, min(NumberOfASeries), max(NumberOfASeries), color = 'k', alpha = 0.5)"
   ]
  },
  {
   "cell_type": "markdown",
   "metadata": {},
   "source": [
    "## Series of potential energy"
   ]
  },
  {
   "cell_type": "code",
   "execution_count": null,
   "metadata": {},
   "outputs": [],
   "source": [
    "PotEnergySeries = ReadSeries(glob.glob(\"data/T=0.7/PotEnergy*\")[0])"
   ]
  },
  {
   "cell_type": "code",
   "execution_count": null,
   "metadata": {},
   "outputs": [],
   "source": [
    "PotEnergyAverage, AverageEnergyDeviation, EnergyIndex = computeEquilibriumAverage(PotEnergySeries)\n",
    "print(PotEnergyAverage, AverageEnergyDeviation, EnergyIndex)"
   ]
  },
  {
   "cell_type": "code",
   "execution_count": null,
   "metadata": {},
   "outputs": [],
   "source": [
    "Fig, Host = plt.subplots(1,1,squeeze=False, figsize = (12,5), dpi = 100)\n",
    "Host[0,0].plot(PotEnergySeries,'.')\n",
    "Host[0,0].plot(np.ones(len(PotEnergySeries))*PotEnergyAverage,color='darkorange',label='Gleichgewichts-Mittel')\n",
    "Host[0,0].plot(np.ones(len(PotEnergySeries))*PotEnergyAverage+AverageEnergyDeviation,color='darkorange',alpha= 0.5)\n",
    "Host[0,0].plot(np.ones(len(PotEnergySeries))*PotEnergyAverage-AverageEnergyDeviation,color='darkorange',alpha = 0.5)\n",
    "Host[0,0].vlines(EnergyIndex, min(PotEnergySeries), max(PotEnergySeries), color = 'k', alpha = 0.5)"
   ]
  },
  {
   "cell_type": "markdown",
   "metadata": {},
   "source": [
    "## Gaussian fit"
   ]
  },
  {
   "cell_type": "code",
   "execution_count": null,
   "metadata": {},
   "outputs": [],
   "source": [
    "def computeHist(Series):\n",
    "    Min = int(np.min(Series))\n",
    "    Max = int(np.max(Series))\n",
    "    yValues = np.zeros(Max - Min + 1)\n",
    "    xValues = np.arange(Min,Max + 1)\n",
    "    for Entry in Series:\n",
    "        yValues[int(Entry)-Min] += 1\n",
    "    return yValues,xValues"
   ]
  },
  {
   "cell_type": "code",
   "execution_count": null,
   "metadata": {},
   "outputs": [],
   "source": [
    "yValues, xValues = computeHist(NumberOfASeries[NumberIndex:])"
   ]
  },
  {
   "cell_type": "code",
   "execution_count": null,
   "metadata": {},
   "outputs": [],
   "source": [
    "popt, pcov = curve_fit(Gaussian,xValues,yValues,p0=[2000,NumberOfAAverage,AverageNumberDeviation],maxfev=1000000)\n",
    "print('mean='+str(round(popt[1],6))+'+-'+str(round(popt[2],5))+' , Max: '+str(round(popt[0],3)))"
   ]
  },
  {
   "cell_type": "code",
   "execution_count": null,
   "metadata": {},
   "outputs": [],
   "source": [
    "Fig, Ax = plt.subplots(1,1,squeeze=False,figsize=(5,5))\n",
    "Ax[0,0].plot(xValues, yValues,'.')\n",
    "Ax[0,0].plot(xValues,Gaussian(xValues,*popt))"
   ]
  },
  {
   "cell_type": "markdown",
   "metadata": {},
   "source": [
    "## Automatized data analysis"
   ]
  },
  {
   "cell_type": "code",
   "execution_count": null,
   "metadata": {},
   "outputs": [],
   "source": [
    "def computeResults():\n",
    "    Temperatures = []\n",
    "    NASeries = []\n",
    "    TotalNumberOfParticles = []\n",
    "    NumberOfDataPoints = 0\n",
    "    for Directory in glob.glob('data/*'):\n",
    "        FileName = glob.glob(Directory+'/NA_Series*')[0]\n",
    "        NASeries.append(ReadSeries(FileName))\n",
    "        Temperatures.append(float(re.search(r'(?<=T=)[\\d]*\\.[\\d]*',FileName).group()))\n",
    "        TotalNumberOfParticles.append(float(re.search(r'(?<=N=)[\\d]*',FileName).group()))\n",
    "        NumberOfDataPoints += 1\n",
    "    FractionsOfA = np.zeros((NumberOfDataPoints,2))\n",
    "    for i in range(NumberOfDataPoints):\n",
    "        NumberOfAAverage, AverageNumberDeviation, NumberIndex = computeEquilibriumAverage(NASeries[i])\n",
    "        yValues, xValues = computeHist(NASeries[i])\n",
    "        popt, pcov = curve_fit(Gaussian,xValues,yValues,p0=[max(yValues),NumberOfAAverage,AverageNumberDeviation],maxfev=1000000)\n",
    "        print('T=',Temperatures[i],':')\n",
    "        print('mean='+str(round(popt[1],6))+'+-'+str(round(popt[2],5))+' , Max: '+str(round(popt[0],3)))\n",
    "        FractionsOfA[i,0] = popt[1]/TotalNumberOfParticles[i]\n",
    "        FractionsOfA[i,1] = popt[2]/TotalNumberOfParticles[i]\n",
    "    return Temperatures, FractionsOfA"
   ]
  },
  {
   "cell_type": "code",
   "execution_count": null,
   "metadata": {},
   "outputs": [],
   "source": [
    "Temperatures, FractionsOfA = computeResults()"
   ]
  },
  {
   "cell_type": "code",
   "execution_count": null,
   "metadata": {},
   "outputs": [],
   "source": [
    "Fig, Host = plt.subplots(1,1,squeeze=False,figsize=(10,5))\n",
    "Host[0,0].errorbar(FractionsOfA[:,0],Temperatures,yerr=None,xerr=FractionsOfA[:,1]*3.0,fmt='.',capsize=5)\n",
    "Host[0,0].set_xlim(0,1.0)"
   ]
  },
  {
   "cell_type": "markdown",
   "metadata": {},
   "source": [
    "## Plot of used potential"
   ]
  },
  {
   "cell_type": "code",
   "execution_count": null,
   "metadata": {},
   "outputs": [],
   "source": [
    "rCut = 2.5\n",
    "NumberOfPoints = 500\n",
    "rValues = np.linspace(0.95,3.0,num=NumberOfPoints)\n",
    "def Potential(r):\n",
    "    return 4.0*(r**(-12) - r**(-6) - rCut**(-12) + rCut**(-6) - (r-rCut)*(-12.0*rCut**(-13)+6.0*rCut**(-7)))\n",
    "PotValues = np.zeros(NumberOfPoints)\n",
    "for i in range(NumberOfPoints):\n",
    "    PotValues[i] = Potential(rValues[i])"
   ]
  },
  {
   "cell_type": "code",
   "execution_count": null,
   "metadata": {},
   "outputs": [],
   "source": [
    "Fig, Host = plt.subplots(1,1,squeeze=False)\n",
    "Host[0,0].plot(rValues,PotValues)"
   ]
  },
  {
   "cell_type": "code",
   "execution_count": null,
   "metadata": {},
   "outputs": [],
   "source": []
  }
 ],
 "metadata": {
  "kernelspec": {
   "display_name": "Python 3",
   "language": "python",
   "name": "python3"
  },
  "language_info": {
   "codemirror_mode": {
    "name": "ipython",
    "version": 3
   },
   "file_extension": ".py",
   "mimetype": "text/x-python",
   "name": "python",
   "nbconvert_exporter": "python",
   "pygments_lexer": "ipython3",
   "version": "3.8.5"
  }
 },
 "nbformat": 4,
 "nbformat_minor": 2
}
