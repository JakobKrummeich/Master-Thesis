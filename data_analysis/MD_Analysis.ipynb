{
 "cells": [
  {
   "cell_type": "code",
   "execution_count": null,
   "id": "07a84c7c",
   "metadata": {},
   "outputs": [],
   "source": [
    "import numpy as np\n",
    "import os\n",
    "import matplotlib.pyplot as plt\n",
    "import matplotlib\n",
    "matplotlib.use('Qt5Agg')\n",
    "%matplotlib qt\n",
    "from scipy.optimize import curve_fit\n",
    "import glob\n",
    "import re\n",
    "from tkinter import filedialog as fd\n",
    "from tkinter import *"
   ]
  },
  {
   "cell_type": "code",
   "execution_count": null,
   "id": "a3ec0f91",
   "metadata": {},
   "outputs": [],
   "source": [
    "def getFilePathFromDialog(_initialdir):\n",
    "    root = Tk()\n",
    "    FilePath = fd.askopenfilename(initialdir = _initialdir)\n",
    "    root.destroy()\n",
    "    return FilePath\n",
    "\n",
    "def getDirectoryPathFromDialog(_initialdir):\n",
    "    root = Tk()\n",
    "    Directory = fd.askdirectory(initialdir = _initialdir)\n",
    "    root.destroy()\n",
    "    return Directory"
   ]
  },
  {
   "cell_type": "code",
   "execution_count": null,
   "id": "542134ca",
   "metadata": {},
   "outputs": [],
   "source": [
    "def readFile(path, skiprows):\n",
    "    return np.loadtxt(path, dtype=float, skiprows=skiprows)\n",
    "\n",
    "def readFileFromDialog(skiprows):\n",
    "    return readFile(getFilePathFromDialog(dataPath),skiprows)"
   ]
  },
  {
   "cell_type": "code",
   "execution_count": null,
   "id": "1d4d1dce",
   "metadata": {},
   "outputs": [],
   "source": [
    "def readParticleConfig(path,ConfigurationNumber,Skiplines):\n",
    "    TotalNumberOfParticles = int(re.search(r'(?<=N=)[\\d]*',path).group())\n",
    "    with open(path,'r') as F:\n",
    "        Data = F.read()\n",
    "    RowOffset = Skiplines+ConfigurationNumber*(TotalNumberOfParticles+2)\n",
    "    print(\"RowOffset: \",RowOffset)\n",
    "    Data = Data.strip()\n",
    "    FirstRow = Data.split(sep='\\n')[RowOffset]\n",
    "    boxlength = float(re.search(r'(?<=BoxLength: )[\\d]*.[\\d]*',FirstRow).group())\n",
    "    NumberOfAParticles = int(FirstRow.split()[7].strip('|'))\n",
    "    NumberOfBParticles = int(FirstRow.split()[9].strip('|'))\n",
    "    ListOfRows = Data.split(sep='\\n')[RowOffset+1:RowOffset+1+TotalNumberOfParticles]\n",
    "    if (len(ListOfRows) > 0):\n",
    "        NumberOfColumns = len(ListOfRows[0].split()) - 1\n",
    "    else:\n",
    "        NumberOfColumns = 0\n",
    "    APositions = np.empty((NumberOfAParticles, 2))\n",
    "    AVelocities = np.empty((NumberOfAParticles, 2))\n",
    "    BPositions = np.empty((NumberOfBParticles, 2))\n",
    "    BVelocities = np.empty((NumberOfBParticles, 2))\n",
    "    AIndex = 0\n",
    "    BIndex = 0\n",
    "    \n",
    "    for i in range(len(ListOfRows)):\n",
    "        if (ListOfRows[i].split()[NumberOfColumns] == 'A'):\n",
    "            for j in range(2):\n",
    "                APositions[AIndex,j] = ListOfRows[i].split()[j]\n",
    "            for j in range(2):\n",
    "                AVelocities[AIndex,j] = ListOfRows[i].split()[2+j]\n",
    "            AIndex += 1\n",
    "        else:\n",
    "            for j in range(2):\n",
    "                BPositions[BIndex,j] = ListOfRows[i].split()[j]\n",
    "            for j in range(2):\n",
    "                BVelocities[BIndex,j] = ListOfRows[i].split()[2+j]\n",
    "            BIndex += 1\n",
    "    return APositions*boxlength, AVelocities*boxlength, BPositions*boxlength, BVelocities*boxlength\n",
    "\n",
    "def readParticleConfigFromDialog(ConfigurationNumber,Skiplines):\n",
    "    return readParticleConfig(getFilePathFromDialog(dataPath),ConfigurationNumber,Skiplines)"
   ]
  },
  {
   "cell_type": "code",
   "execution_count": null,
   "id": "cd4c29d0",
   "metadata": {},
   "outputs": [],
   "source": [
    "def LinearFunction(x,m,n):\n",
    "    return m*x+n"
   ]
  },
  {
   "cell_type": "code",
   "execution_count": null,
   "id": "6e1c81e5",
   "metadata": {},
   "outputs": [],
   "source": [
    "def extractAngles(structureFactorData):\n",
    "    angleList = []\n",
    "    numberOfEntriesList = []\n",
    "    currentAngle = structureFactorData[0,0]\n",
    "    angleList.append(currentAngle)\n",
    "    numberOfEntries=0\n",
    "    for angle in structureFactorData[:,0]:\n",
    "        if (angle != currentAngle):\n",
    "            angleList.append(angle)\n",
    "            currentAngle = angle\n",
    "            numberOfEntriesList.append(numberOfEntries)\n",
    "            numberOfEntries=1\n",
    "        else:\n",
    "            numberOfEntries+=1\n",
    "    numberOfEntriesList.append(numberOfEntries)\n",
    "    return angleList,numberOfEntriesList"
   ]
  },
  {
   "cell_type": "code",
   "execution_count": null,
   "id": "e07182c6",
   "metadata": {},
   "outputs": [],
   "source": [
    "def extractSeparateAngleArrays(structureFactorData):\n",
    "    angleList, numberOfEntriesList = extractAngles(structureFactorData)\n",
    "    angleArrayList = []\n",
    "    currentIndex = 0\n",
    "    for i in range(len(angleList)):\n",
    "        angleArrayList.append(structureFactorData[currentIndex:currentIndex+numberOfEntriesList[i],1:])\n",
    "        currentIndex+=numberOfEntriesList[i]\n",
    "    return angleList,angleArrayList"
   ]
  },
  {
   "cell_type": "code",
   "execution_count": null,
   "id": "01570ee0",
   "metadata": {},
   "outputs": [],
   "source": [
    "def plotStructureFactors(angleList,angleArrayList,angleIndex):\n",
    "    fig, ax = plt.subplots(4,1,squeeze=False,figsize=(10,12), dpi = 100)\n",
    "    labels = ['$S_{AA}$','$S_{BB}$','$S_{AB}$','$S_{cc}$']\n",
    "    fig.suptitle('angle={}'.format(angleList[angleIndex]))\n",
    "    for i in range(4):\n",
    "        ax[i,0].plot(angleArrayList[angleIndex][:,0],angleArrayList[angleIndex][:,i+1])\n",
    "        ax[i,0].set_ylabel(labels[i])\n",
    "        ax[i,0].set_xlabel('k')\n",
    "    fig.tight_layout()"
   ]
  },
  {
   "cell_type": "code",
   "execution_count": null,
   "id": "fbf9e284",
   "metadata": {},
   "outputs": [],
   "source": [
    "dataPath = getDirectoryPathFromDialog('')"
   ]
  },
  {
   "cell_type": "markdown",
   "id": "df159dbb",
   "metadata": {},
   "source": [
    "## Energy series"
   ]
  },
  {
   "cell_type": "code",
   "execution_count": null,
   "id": "d623badc",
   "metadata": {},
   "outputs": [],
   "source": [
    "EnergySeries = readFileFromDialog(1)"
   ]
  },
  {
   "cell_type": "code",
   "execution_count": null,
   "id": "7e82bd2f",
   "metadata": {
    "scrolled": false
   },
   "outputs": [],
   "source": [
    "Fig, Ax = plt.subplots(2,2,squeeze=False,figsize=(15,9))\n",
    "Ax[0,0].plot(EnergySeries[:1000,2],label='H=U+T')\n",
    "Ax[0,0].plot(EnergySeries[:1000,0],label='U')\n",
    "Ax[0,0].plot(EnergySeries[:1000,1],label='T')\n",
    "Ax[0,0].legend()\n",
    "Ax[0,1].plot(EnergySeries[:,2],label='H=U+T')\n",
    "Ax[0,1].set_ylabel('H=T+U')\n",
    "MeanH = np.mean(EnergySeries[:,2])\n",
    "print(\"H=\",MeanH,'+-',np.std(EnergySeries[:,2]))\n",
    "print(\"U=\",np.mean(EnergySeries[:,0]),'+-',np.std(EnergySeries[:,0]))\n",
    "print(\"T=\",np.mean(EnergySeries[:,1]),'+-',np.std(EnergySeries[:,1]))\n",
    "#Ax[0,1].plot(MeanH*np.ones(len(EnergySeries[:,2])))\n",
    "#Ax[1,1].vlines(MeanH,0,np.max(n),color='darkorange')\n",
    "Ax[1,1].plot(EnergySeries[:,3])\n",
    "Ax[1,1].set_title(\"T_y\")\n",
    "Ax[1,0].plot(EnergySeries[:,1],color='g')\n",
    "Ax[1,0].set_ylabel('T')"
   ]
  },
  {
   "cell_type": "code",
   "execution_count": null,
   "id": "af264626",
   "metadata": {},
   "outputs": [],
   "source": [
    "PotEnergySeriesMC = readFileFromDialog(1)"
   ]
  },
  {
   "cell_type": "code",
   "execution_count": null,
   "id": "aed84166",
   "metadata": {},
   "outputs": [],
   "source": [
    "Fix, Ax = plt.subplots(2,1,squeeze=False,figsize=(10,12))\n",
    "Ax[0,0].plot(PotEnergySeriesMC[5000:,1])\n",
    "Ax[0,0].plot(EnergySeries[5000:,1])\n",
    "print(\"U Monte Carlo = \",np.mean(PotEnergySeriesMC[5000:,1]),\"+-\",np.std(PotEnergySeriesMC[5000:,1]))\n",
    "print(\"U MD = \",np.mean(EnergySeries[5000:,1]),\"+-\",np.std(EnergySeries[5000:,1]))\n",
    "a = Ax[1,0].hist(PotEnergySeriesMC[5000:,1],bins = 41, density = True, alpha = 0.7)\n",
    "a = Ax[1,0].hist(EnergySeries[5000:,1],bins = 41, density = True,alpha =0.7)"
   ]
  },
  {
   "cell_type": "code",
   "execution_count": null,
   "id": "cd1cc8e2",
   "metadata": {},
   "outputs": [],
   "source": [
    "energySeries = readFileFromDialog(1)"
   ]
  },
  {
   "cell_type": "code",
   "execution_count": null,
   "id": "ce6ad1b6",
   "metadata": {},
   "outputs": [],
   "source": [
    "fig, ax = plt.subplots(4,1,squeeze=False,figsize=(10,12))\n",
    "lowerIndex = 10000\n",
    "labelList = ['U','T','H','T_y']\n",
    "for i in range(4):\n",
    "    mean = np.mean(energySeries[lowerIndex:,i])\n",
    "    std = np.std(energySeries[lowerIndex:,i])\n",
    "    z = ax[i,0].hist(energySeries[lowerIndex:,i],bins = 41, density = True,alpha =0.7, label='mean: {:.1f} +- {:.1f}'.format(mean,std))\n",
    "    ax[i,0].legend()\n",
    "    ax[i,0].set_title(labelList[i])"
   ]
  },
  {
   "cell_type": "code",
   "execution_count": null,
   "id": "003f9b4c",
   "metadata": {},
   "outputs": [],
   "source": [
    "energySeriesCorrect = readFileFromDialog(1)\n",
    "energySeriesOld = readFileFromDialog(1)\n",
    "energySeriesNew = readFileFromDialog(1)"
   ]
  },
  {
   "cell_type": "code",
   "execution_count": null,
   "id": "d0a936e0",
   "metadata": {},
   "outputs": [],
   "source": [
    "fig, ax = plt.subplots(4,1,squeeze=False,figsize=(10,12))\n",
    "labelList = ['U','T','H','T_y']\n",
    "for i in range(4):\n",
    "    meanCorrect = np.mean(energySeriesCorrect[5000:,i])\n",
    "    stdCorrect = np.std(energySeriesCorrect[5000:,i])\n",
    "    meanNew = np.mean(energySeriesNew[5000:,i])\n",
    "    stdNew = np.std(energySeriesNew[5000:,i])\n",
    "    meanOld = np.mean(energySeriesOld[5000:,i])\n",
    "    stdOld = np.std(energySeriesOld[5000:,i])\n",
    "    z = ax[i,0].hist(energySeriesCorrect[5000:,i],bins = 41, density = True,alpha =0.7, label='correct: {:.1f} +- {:.1f}'.format(meanCorrect,stdCorrect))\n",
    "    z = ax[i,0].hist(energySeriesOld[5000:,i],bins = 41, density = True,alpha =0.7, label='old: {:.1f} +- {:.1f}'.format(meanOld,stdOld))\n",
    "    z = ax[i,0].hist(energySeriesNew[5000:,i],bins = 41, density = True,alpha =0.7, label='new: {:.1f} +- {:.1f}'.format(meanNew,stdNew))\n",
    "    ax[i,0].legend()\n",
    "    ax[i,0].set_title(labelList[i])"
   ]
  },
  {
   "cell_type": "code",
   "execution_count": null,
   "id": "d0fb5f7f",
   "metadata": {},
   "outputs": [],
   "source": [
    "energyDist = readFileFromDialog(1)"
   ]
  },
  {
   "cell_type": "code",
   "execution_count": null,
   "id": "f830b523",
   "metadata": {},
   "outputs": [],
   "source": [
    "fig, ax = plt.subplots(1,1,squeeze=False,figsize=(10,10))\n",
    "ax[0,0].plot(energyDist[:,0],energyDist[:,1],'.')"
   ]
  },
  {
   "cell_type": "code",
   "execution_count": null,
   "id": "4ccd2076",
   "metadata": {},
   "outputs": [],
   "source": [
    "def logOfK(x,a,b,c):\n",
    "    return a*np.log(x)+b*x+c"
   ]
  },
  {
   "cell_type": "code",
   "execution_count": null,
   "id": "bd56f6ca",
   "metadata": {},
   "outputs": [],
   "source": [
    "energyDistWithoutBoundaries = energyDist[8:-13,:]\n",
    "popt, pcov = curve_fit(logOfK, energyDistWithoutBoundaries[:,0], np.log(energyDistWithoutBoundaries[:,1]))\n",
    "print(popt)\n",
    "print(\"T={:.5f}\".format(-1.0/popt[1]))\n",
    "print(\"N={:d}\".format(round(2*(popt[0]+1))))"
   ]
  },
  {
   "cell_type": "code",
   "execution_count": null,
   "id": "98836505",
   "metadata": {},
   "outputs": [],
   "source": [
    "fig, ax = plt.subplots(1,1,squeeze=False,figsize=(10,10))\n",
    "ax[0,0].plot(energyDistWithoutBoundaries[:,0], np.log(energyDistWithoutBoundaries[:,1]),'.')\n",
    "ax[0,0].plot(energyDistWithoutBoundaries[:,0], logOfK(energyDistWithoutBoundaries[:,0],*popt))"
   ]
  },
  {
   "cell_type": "markdown",
   "id": "78f4023f",
   "metadata": {},
   "source": [
    "## Average velocity"
   ]
  },
  {
   "cell_type": "code",
   "execution_count": null,
   "id": "3b8336f8",
   "metadata": {},
   "outputs": [],
   "source": [
    "avgVelocities = readFileFromDialog(0)"
   ]
  },
  {
   "cell_type": "code",
   "execution_count": null,
   "id": "527a2abd",
   "metadata": {},
   "outputs": [],
   "source": [
    "Fig, Ax = plt.subplots(1,2,squeeze=False,figsize=(10,5), dpi = 100)\n",
    "Ax[0,0].plot(avgVelocities[1],avgVelocities[0],'.')\n",
    "Ax[0,0].set_xlabel('avg $v_x$ [$\\sigma/\\\\tau$]')\n",
    "Ax[0,0].set_ylabel('y / $\\sigma$')\n",
    "popt, pcov = curve_fit(LinearFunction, avgVelocities[1], avgVelocities[0])\n",
    "print('shear rate: {:.3E}'.format(1/popt[0]))\n",
    "Ax[0,0].plot(avgVelocities[1],LinearFunction(avgVelocities[1],*popt))\n",
    "Ax[0,0].set_title('Average $v_x$ vs y')\n",
    "Ax[0,0].ticklabel_format(axis='x', style='sci', scilimits=(-2,2))\n",
    "\n",
    "Ax[0,1].plot(avgVelocities[2],avgVelocities[0],'.')\n",
    "Ax[0,1].set_xlabel('avg $v_y$ [$\\sigma/\\\\tau$]')\n",
    "Ax[0,1].set_ylabel('y / $\\sigma$')\n",
    "Ax[0,1].set_title('Average $v_y$ vs y')\n",
    "Ax[0,1].ticklabel_format(axis='x', style='sci', scilimits=(-2,2))\n",
    "\n",
    "#Fig.savefig(\"plots/shear_analysis/avg_delta_x_field_no_lees_edwards_T=1.png\",format='png')"
   ]
  },
  {
   "cell_type": "markdown",
   "id": "de0fccef",
   "metadata": {},
   "source": [
    "## Stress plotting"
   ]
  },
  {
   "cell_type": "code",
   "execution_count": null,
   "id": "7ca31e1d",
   "metadata": {},
   "outputs": [],
   "source": [
    "shearStressSeries = readFileFromDialog(1)\n",
    "print(np.mean(shearStressSeries[25000:]))"
   ]
  },
  {
   "cell_type": "code",
   "execution_count": null,
   "id": "c9c41489",
   "metadata": {},
   "outputs": [],
   "source": [
    "Fig, Ax = plt.subplots(1,2, squeeze=False, figsize=(12,5))\n",
    "Ax[0,0].plot(shearStressSeries[10000:],alpha=0.4)\n",
    "Ax[0,0].set_xlabel('timestep')\n",
    "Ax[0,0].set_ylabel('shear stress')\n",
    "Ax[0,0].set_title('shear stress vs time')\n",
    "#Ax[0,0].set_xscale('log')\n",
    "Ax[0,0].hlines(np.mean(shearStressSeries[10000:]), 0, len(shearStressSeries[10000:]), color='orange')\n",
    "#Fig.savefig(\"shear_stress_time_series_shear_rate=0.05.png\",format='png')\n",
    "n,bins,patches = Ax[0,1].hist(shearStressSeries[10000:],bins = 41, density = True)\n",
    "Ax[0,1].vlines(np.mean(shearStressSeries),0,np.max(n),color='darkorange')\n",
    "Ax[0,1].set_title('shear stress histogram')\n",
    "Ax[0,1].set_xlabel('shear stress')"
   ]
  },
  {
   "cell_type": "code",
   "execution_count": null,
   "id": "242ecc9c",
   "metadata": {},
   "outputs": [],
   "source": [
    "NumberOfSubdivisions = 14"
   ]
  },
  {
   "cell_type": "code",
   "execution_count": null,
   "id": "2a721315",
   "metadata": {},
   "outputs": [],
   "source": [
    "xStressData = readFileFromDialog(2)"
   ]
  },
  {
   "cell_type": "code",
   "execution_count": null,
   "id": "8ae4f36f",
   "metadata": {
    "scrolled": true
   },
   "outputs": [],
   "source": [
    "Fig, Ax = plt.subplots(NumberOfSubdivisions,2,squeeze=False, figsize= (10,2.5*NumberOfSubdivisions),dpi =100)\n",
    "xAxis = np.linspace(1.0/(2.0*NumberOfSubdivisions),1.0-1.0/(2.0*NumberOfSubdivisions),num = NumberOfSubdivisions)\n",
    "for i in range(NumberOfSubdivisions):\n",
    "    Ax[i,0].plot(xAxis,xStressData[NumberOfSubdivisions-1-i::NumberOfSubdivisions,3],label='y={}'.format(xStressData[NumberOfSubdivisions-1-i,0]))\n",
    "    Ax[i,0].plot(xAxis,np.ones(len(xAxis))*np.mean(xStressData[NumberOfSubdivisions-1-i::NumberOfSubdivisions,3]))\n",
    "    Ax[i,0].legend()\n",
    "    Ax[i,1].plot(xAxis,xStressData[NumberOfSubdivisions-1-i::NumberOfSubdivisions,4],label='y={}'.format(xStressData[NumberOfSubdivisions-1-i,0]))\n",
    "    MeanShear = np.mean(xStressData[NumberOfSubdivisions-1-i::NumberOfSubdivisions,4])\n",
    "    Ax[i,1].plot(xAxis,np.ones(len(xAxis))*MeanShear,label='Avg = {:.4f}'.format(MeanShear))\n",
    "    Ax[i,1].legend()\n",
    "Fig.suptitle(\"Stresses of cuts in x direction (left column normal stresses, right column shear stresses)\",y= 0.90)"
   ]
  },
  {
   "cell_type": "code",
   "execution_count": null,
   "id": "b92cc9f4",
   "metadata": {},
   "outputs": [],
   "source": [
    "Mean = 0\n",
    "for i in range(NumberOfSubdivisions-1):\n",
    "    Mean += np.mean(xStressData[NumberOfSubdivisions-i-2::NumberOfSubdivisions,4])\n",
    "print(\"Avg shear stress except top layer: {:.4f}\".format(Mean/(NumberOfSubdivisions-1)))"
   ]
  },
  {
   "cell_type": "code",
   "execution_count": null,
   "id": "71b0e559",
   "metadata": {},
   "outputs": [],
   "source": [
    "Fig, Ax = plt.subplots(1,1,squeeze=False, figsize= (10,6),dpi =100)\n",
    "xAxis = np.linspace(1.0/(2.0*NumberOfSubdivisions),1.0-1.0/(2.0*NumberOfSubdivisions),num = NumberOfSubdivisions)\n",
    "for i in range(NumberOfSubdivisions):\n",
    "    line = Ax[0,0].plot(xAxis,xStressData[NumberOfSubdivisions-1-i::NumberOfSubdivisions,4])\n",
    "    MeanShear = np.mean(xStressData[NumberOfSubdivisions-1-i::NumberOfSubdivisions,4])\n",
    "    Ax[0,0].plot(xAxis,np.ones(len(xAxis))*MeanShear,color = line[0].get_color(), label='y={}, Avg = {:.4f}'.format(xStressData[NumberOfSubdivisions-1-i,0],MeanShear))\n",
    "Ax[0,0].legend()\n",
    "#Ax[0,0].set_ylim(-0.154,-0.146)\n",
    "Ax[0,0].set_xlabel('x')\n",
    "Ax[0,0].set_ylabel('shear stress')\n",
    "Ax[0,0].set_title('dt=0.0010')"
   ]
  },
  {
   "cell_type": "code",
   "execution_count": null,
   "id": "59dfa129",
   "metadata": {},
   "outputs": [],
   "source": [
    "Fig, Ax = plt.subplots(1,1,squeeze=False, figsize= (10,6),dpi =100)\n",
    "xAxis = np.linspace(1.0/NumberOfSubdivisions,1.0,num = NumberOfSubdivisions)\n",
    "for i in range(NumberOfSubdivisions):\n",
    "    line = Ax[0,0].plot(xAxis,xStressData[NumberOfSubdivisions*i:NumberOfSubdivisions*(i+1),4])\n",
    "    MeanShear = np.mean(xStressData[NumberOfSubdivisions*i:NumberOfSubdivisions*(i+1),4])\n",
    "    Ax[0,0].plot(xAxis,np.ones(len(xAxis))*MeanShear,color = line[0].get_color(),label='x={}'.format(xAxis[i]))\n",
    "Ax[0,0].legend()\n",
    "Ax[0,0].set_xlim(0,1)"
   ]
  },
  {
   "cell_type": "code",
   "execution_count": null,
   "id": "e1ce198e",
   "metadata": {},
   "outputs": [],
   "source": [
    "yStressData = readFileFromDialog(2)"
   ]
  },
  {
   "cell_type": "code",
   "execution_count": null,
   "id": "1260c79c",
   "metadata": {
    "scrolled": true
   },
   "outputs": [],
   "source": [
    "Fig, Ax = plt.subplots(NumberOfSubdivisions,2,squeeze=False, figsize= (10,2.5*NumberOfSubdivisions),dpi =100)\n",
    "xAxis = np.linspace(1.0/(2.0*NumberOfSubdivisions),1.0-1.0/(2.0*NumberOfSubdivisions),num = NumberOfSubdivisions)\n",
    "for i in range(NumberOfSubdivisions):\n",
    "    Ax[i,0].plot(xAxis,yStressData[i::NumberOfSubdivisions,3],label='x={}'.format(yStressData[i,0]))\n",
    "    MeanNormal = np.mean(yStressData[i::NumberOfSubdivisions,3])\n",
    "    Ax[i,0].plot(xAxis,np.ones(len(xAxis))*MeanNormal)\n",
    "    Ax[i,0].legend()\n",
    "    Ax[i,1].plot(xAxis,yStressData[i::NumberOfSubdivisions,4],label='x={}'.format(yStressData[i,0]))\n",
    "    MeanShear = np.mean(yStressData[i::NumberOfSubdivisions,4])\n",
    "    Ax[i,1].plot(xAxis,np.ones(len(xAxis))*MeanShear,label='Avg={:.3f}'.format(MeanShear))\n",
    "    Ax[i,1].legend()\n",
    "Fig.suptitle(\"Stresses of cuts in y direction (left column normal stresses, right column shear stresses)\",y= 0.90)"
   ]
  },
  {
   "cell_type": "code",
   "execution_count": null,
   "id": "27b1b77e",
   "metadata": {},
   "outputs": [],
   "source": [
    "Fig, Ax = plt.subplots(1,1,squeeze=False, figsize= (10,6),dpi =100)\n",
    "xAxis = np.linspace(1.0/(2.0*NumberOfSubdivisions),1.0-1.0/(2.0*NumberOfSubdivisions),num = NumberOfSubdivisions)\n",
    "for i in range(NumberOfSubdivisions):\n",
    "    line = Ax[0,0].plot(xAxis,yStressData[NumberOfSubdivisions-1-i::NumberOfSubdivisions,4])\n",
    "    MeanShear = np.mean(yStressData[NumberOfSubdivisions-1-i::NumberOfSubdivisions,4])\n",
    "    Ax[0,0].plot(xAxis,np.ones(len(xAxis))*MeanShear,color = line[0].get_color(), label='x={}, Avg = {:.4f}'.format(yStressData[NumberOfSubdivisions-1-i,0],MeanShear))\n",
    "Ax[0,0].legend()"
   ]
  },
  {
   "cell_type": "code",
   "execution_count": null,
   "id": "76786f03",
   "metadata": {},
   "outputs": [],
   "source": [
    "Fig, Ax = plt.subplots(1,1,squeeze=False, figsize= (10,6),dpi =100)\n",
    "xAxis = np.linspace(1.0/NumberOfSubdivisions,1.0,num = NumberOfSubdivisions)\n",
    "for i in range(NumberOfSubdivisions):\n",
    "    line = Ax[0,0].plot(xAxis,yStressData[NumberOfSubdivisions*i:NumberOfSubdivisions*(i+1),4])\n",
    "    MeanShear = np.mean(yStressData[NumberOfSubdivisions*i:NumberOfSubdivisions*(i+1),4])\n",
    "    Ax[0,0].plot(xAxis,np.ones(len(xAxis))*MeanShear,color = line[0].get_color(),label='y={}'.format(xAxis[i]))\n",
    "#Ax[0,0].legend()\n",
    "Ax[0,0].set_xlim(0,1)"
   ]
  },
  {
   "cell_type": "code",
   "execution_count": null,
   "id": "71df3f87",
   "metadata": {},
   "outputs": [],
   "source": [
    "print(\"Avg normal stress perp to x direction: {:.4f}\".format(np.mean(xStressData[:,3])))\n",
    "print(\"Avg normal stress perp to y direction: {:.4f}\".format(np.mean(yStressData[:,3])))\n",
    "print(\"Avg pressure: {:.4f}\".format((np.mean(xStressData[:,3])+np.mean(yStressData[:,3]))*0.5))\n",
    "print(\"Avg shear stress x direction: {:.4f}\".format(np.mean(xStressData[:,4])))\n",
    "print(\"Avg shear stress y direction: {:.4f}\".format(np.mean(yStressData[:,4])))"
   ]
  },
  {
   "cell_type": "markdown",
   "id": "44f45f5d",
   "metadata": {},
   "source": [
    "## Shear stresses vs shear rates"
   ]
  },
  {
   "cell_type": "code",
   "execution_count": null,
   "id": "ccffb4f3",
   "metadata": {},
   "outputs": [],
   "source": [
    "ShearRates = np.array([0.02,0.04,0.06,0.08,0.10])\n",
    "ShearStresses = np.array([0.03509199889127006,0.07003522950514793,0.10447423035233762,0.1384373200171992,0.17166963597510385])"
   ]
  },
  {
   "cell_type": "code",
   "execution_count": null,
   "id": "a49a1271",
   "metadata": {},
   "outputs": [],
   "source": [
    "Fig, Ax = plt.subplots(1,1,squeeze=False, figsize=(6,5), dpi = 100)\n",
    "Ax[0,0].plot(ShearRates, ShearStresses,'.')\n",
    "Ax[0,0].set_xlabel(r'shear rate '+r'[$1/\\tau_0$]')\n",
    "Ax[0,0].set_ylabel('shear stress '+r'[$\\epsilon/\\sigma^2$]')\n",
    "popt, pcov = curve_fit(lambda x,m: LinearFunction(x,m,0.0), ShearRates, ShearStresses)\n",
    "Ax[0,0].plot(ShearRates, LinearFunction(ShearRates, popt,0.0))\n",
    "#Ax[0,0].legend()\n",
    "print('viscosity= {:.4f}'.format(popt[0]), 'epsilon*tau_0 / (sigma^2)')\n",
    "#Fig.savefig(\"avg_shear_stresses_vs_shear_rate_T=2.0.png\",format='png')"
   ]
  },
  {
   "cell_type": "markdown",
   "id": "34d94538",
   "metadata": {},
   "source": [
    "## Number of particles"
   ]
  },
  {
   "cell_type": "code",
   "execution_count": null,
   "id": "e24de469",
   "metadata": {},
   "outputs": [],
   "source": [
    "NAHistequi = readFileFromDialog(1)"
   ]
  },
  {
   "cell_type": "code",
   "execution_count": null,
   "id": "f15c2f30",
   "metadata": {},
   "outputs": [],
   "source": [
    "NAHistshear = []\n",
    "for i in range(5):\n",
    "    newHistshear = readFileFromDialog(1)\n",
    "    NAHistshear.append(newHistshear)"
   ]
  },
  {
   "cell_type": "code",
   "execution_count": null,
   "id": "cb744f6b",
   "metadata": {},
   "outputs": [],
   "source": [
    "Fig, Ax = plt.subplots(1,1,squeeze=False,figsize=(6,6), dpi = 100)\n",
    "Ax[0,0].plot(NAHistequi[:,0],NAHistequi[:,1],label='equilibrium')\n",
    "for i in range(5):\n",
    "    Ax[0,0].plot(NAHistshear[i][:,0],NAHistshear[i][:,1])\n",
    "Ax[0,0].legend()\n",
    "#Ax[0,0].set_xlim(0.1,0.16)\n",
    "#Ax[0,0].set_ylim(2.5,4.5)\n",
    "Ax[0,0].set_xlabel('$x_A$')\n",
    "Ax[0,0].set_ylabel('probability density')"
   ]
  },
  {
   "cell_type": "code",
   "execution_count": null,
   "id": "65c633d0",
   "metadata": {},
   "outputs": [],
   "source": [
    "NAHist = readFileFromDialog(1)"
   ]
  },
  {
   "cell_type": "code",
   "execution_count": null,
   "id": "b6111585",
   "metadata": {},
   "outputs": [],
   "source": [
    "fig, ax = plt.subplots(1,1,squeeze=False,figsize=(6,6),dpi=100)\n",
    "ax[0,0].plot(NAHist[:,0],NAHist[:,1])"
   ]
  },
  {
   "cell_type": "code",
   "execution_count": null,
   "id": "a919d256",
   "metadata": {},
   "outputs": [],
   "source": [
    "fig, ax = plt.subplots(1,1,squeeze=False,figsize=(6,6),dpi=100)\n",
    "ax[0,0].plot(NAHist[:,0],NAHist[:,1],label='shear')\n",
    "ax[0,0].plot(NAHistequi[:,0],NAHistequi[:,1],label='equilibrium')\n",
    "ax[0,0].legend()"
   ]
  },
  {
   "cell_type": "markdown",
   "id": "fc083ae7",
   "metadata": {},
   "source": [
    "## Finite size scaling"
   ]
  },
  {
   "cell_type": "code",
   "execution_count": null,
   "id": "4a2fe221",
   "metadata": {},
   "outputs": [],
   "source": [
    "dataN1000 = readFileFromDialog(1)\n",
    "dataN2000 = readFileFromDialog(1)\n",
    "dataN4000 = readFileFromDialog(1)\n",
    "dataN8000 = readFileFromDialog(1)"
   ]
  },
  {
   "cell_type": "code",
   "execution_count": null,
   "id": "5bda58e1",
   "metadata": {},
   "outputs": [],
   "source": [
    "fig, ax = plt.subplots(1,2,squeeze=False,figsize=(12,6),dpi=100)\n",
    "ax[0,0].plot(dataN1000[:,1],dataN1000[:,0],'.',label='N=1000')\n",
    "ax[0,0].plot(dataN2000[:,1],dataN2000[:,0],'.',label='N=2000')\n",
    "ax[0,0].plot(dataN4000[:,1],dataN4000[:,0],'.',label='N=4000')\n",
    "ax[0,0].plot(dataN8000[:,1],dataN8000[:,0],'.',label='N=8000')\n",
    "ax[0,0].set_xlabel('$x_A$')\n",
    "ax[0,0].set_ylabel('T')\n",
    "ax[0,0].legend()\n",
    "\n",
    "ax[0,1].plot(dataN1000[:,0],dataN1000[:,2],'-',label='N=1000')\n",
    "ax[0,1].plot(dataN2000[:,0],dataN2000[:,2],'-',label='N=2000')\n",
    "ax[0,1].plot(dataN4000[:,0],dataN4000[:,2],'-',label='N=4000')\n",
    "ax[0,1].plot(dataN8000[:,0],dataN8000[:,2],'-',label='N=8000')\n",
    "ax[0,1].set_xlabel('$T$')\n",
    "ax[0,1].set_ylabel('Binder cumulant')\n",
    "ax[0,1].legend()"
   ]
  },
  {
   "cell_type": "markdown",
   "id": "c651bd37",
   "metadata": {},
   "source": [
    "## Binder cumulant and first moment vs shear rate"
   ]
  },
  {
   "cell_type": "code",
   "execution_count": null,
   "id": "89d8cc62",
   "metadata": {},
   "outputs": [],
   "source": [
    "cumulant_vs_shear_rate = readFileFromDialog(1)"
   ]
  },
  {
   "cell_type": "code",
   "execution_count": null,
   "id": "786f2a3d",
   "metadata": {},
   "outputs": [],
   "source": [
    "Fig, Ax = plt.subplots(1,2,squeeze=False,figsize=(12,6), dpi = 100)\n",
    "Ax[0,0].plot(cumulant_vs_shear_rate[:,0],cumulant_vs_shear_rate[:,1])\n",
    "Ax[0,1].plot(cumulant_vs_shear_rate[:,0],cumulant_vs_shear_rate[:,2])\n",
    "Ax[0,0].set_xlabel('$\\dot{\\gamma}$')\n",
    "Ax[0,1].set_xlabel('$\\dot{\\gamma}$')\n",
    "Ax[0,0].set_ylabel('first moment xA')\n",
    "Ax[0,1].set_ylabel('binder cumulant')"
   ]
  },
  {
   "cell_type": "markdown",
   "id": "b7294907",
   "metadata": {},
   "source": [
    "## Im(g_22)"
   ]
  },
  {
   "cell_type": "code",
   "execution_count": null,
   "id": "5ca32c29",
   "metadata": {},
   "outputs": [],
   "source": [
    "img22 = readFileFromDialog(1)"
   ]
  },
  {
   "cell_type": "code",
   "execution_count": null,
   "id": "c2113495",
   "metadata": {},
   "outputs": [],
   "source": [
    "Fig, Ax = plt.subplots(3,1,squeeze=False, figsize= (10, 12), dpi = 100)\n",
    "labelList = ['Im($g_{22}^{AA}$)','Im($g_{22}^{BB}$)','Im($g_{22}^{AB}$)']\n",
    "for i in range(3):\n",
    "    Ax[i,0].plot(img22[:,0],img22[:,i+1])\n",
    "    Ax[i,0].set_ylim(-0.4,0.3)\n",
    "    Ax[i,0].set_xlabel('r [$\\sigma$]')\n",
    "    Ax[i,0].set_ylabel(labelList[i])\n",
    "Fig.tight_layout()\n",
    "#Fig.savefig(\"Img22_shear.png\",format='png')"
   ]
  },
  {
   "cell_type": "markdown",
   "id": "50006e2d",
   "metadata": {},
   "source": [
    "## structure factors"
   ]
  },
  {
   "cell_type": "code",
   "execution_count": null,
   "id": "b04f5be0",
   "metadata": {},
   "outputs": [],
   "source": [
    "structureFactors = readFileFromDialog(1)"
   ]
  },
  {
   "cell_type": "code",
   "execution_count": null,
   "id": "d428bb2f",
   "metadata": {},
   "outputs": [],
   "source": [
    "angleList,angleArrayList = extractSeparateAngleArrays(structureFactors)"
   ]
  },
  {
   "cell_type": "code",
   "execution_count": null,
   "id": "280c3716",
   "metadata": {
    "scrolled": false
   },
   "outputs": [],
   "source": [
    "plotStructureFactors(angleList,angleArrayList,0)"
   ]
  },
  {
   "cell_type": "code",
   "execution_count": null,
   "id": "66408aae",
   "metadata": {},
   "outputs": [],
   "source": [
    "plotStructureFactors(angleList,angleArrayList,10)"
   ]
  },
  {
   "cell_type": "markdown",
   "id": "963388f0",
   "metadata": {},
   "source": [
    "## Avg MSD"
   ]
  },
  {
   "cell_type": "code",
   "execution_count": null,
   "id": "4d167c2b",
   "metadata": {},
   "outputs": [],
   "source": [
    "AvgMSDSeries = readFileFromDialog(0)"
   ]
  },
  {
   "cell_type": "code",
   "execution_count": null,
   "id": "f0da04e8",
   "metadata": {},
   "outputs": [],
   "source": [
    "Fig, Ax = plt.subplots(1,2,squeeze=False, figsize = (12,5), dpi = 100)\n",
    "xdata = np.arange(1,len(AvgMSDSeries)+1)*stepsize\n",
    "AvgMSD_Over_t_squared = AvgMSDSeries/(xdata*xdata)\n",
    "Ax[0,0].plot(xdata,AvgMSD_Over_t_squared,'.')\n",
    "popt, pcov = curve_fit(lambda x,n: LinearFunction(x,0.0,n), xdata[:9], AvgMSD_Over_t_squared[:9])\n",
    "print(popt)\n",
    "Ax[0,0].plot(xdata[:9],LinearFunction(xdata[:9],0.0,*popt))\n",
    "Ax[0,0].set_xscale('log')\n",
    "Ax[0,0].set_yscale('log')\n",
    "Ax[0,0].set_xlabel('$t / \\\\tau$')\n",
    "Ax[0,0].set_ylabel('$MSD/t^2$')\n",
    "\n",
    "Ax[0,1].plot(xdata,AvgMSDSeries/xdata)\n",
    "Ax[0,1].set_xscale('log')\n",
    "Ax[0,1].set_yscale('log')\n",
    "Ax[0,1].set_xlabel('$t / \\\\tau$')\n",
    "Ax[0,1].set_ylabel('$MSD/t$')"
   ]
  },
  {
   "cell_type": "markdown",
   "id": "e8f92467",
   "metadata": {},
   "source": [
    "## Plot state"
   ]
  },
  {
   "cell_type": "code",
   "execution_count": null,
   "id": "6222a74e",
   "metadata": {},
   "outputs": [],
   "source": [
    "APos, AVel, BPos, BVel = readParticleConfigFromDialog(0,0)"
   ]
  },
  {
   "cell_type": "code",
   "execution_count": null,
   "id": "3ad71dcc",
   "metadata": {},
   "outputs": [],
   "source": [
    "Fig, Host = plt.subplots(1,1,squeeze=False,figsize=(5,5),dpi =200)\n",
    "Host[0,0].plot(APos[:,0],APos[:,1],'.',color='b',ms=4)\n",
    "Host[0,0].plot(BPos[:,0],BPos[:,1],'.',color='darkorange',ms=4)\n",
    "Host[0,0].set_xlabel('x')\n",
    "Host[0,0].set_ylabel('y')\n",
    "#Host[0,0].set_xlim(0,1)\n",
    "#Host[0,0].set_ylim(0,1)"
   ]
  },
  {
   "cell_type": "code",
   "execution_count": null,
   "id": "ceb7e339",
   "metadata": {},
   "outputs": [],
   "source": [
    "Fig, Host = plt.subplots(1,1,squeeze=False,figsize=(5,5),dpi =200)\n",
    "Host[0,0].plot(AVel[:,0],APos[:,1],'.',color='b',ms=4)\n",
    "Host[0,0].plot(BVel[:,0],BPos[:,1],'.',color='darkorange',ms=4)\n",
    "Host[0,0].set_ylabel('y')\n",
    "Host[0,0].set_xlabel('$v_x$')\n",
    "#Host[0,0].set_xlim(0,1)\n",
    "#Host[0,0].set_ylim(0,1)"
   ]
  },
  {
   "cell_type": "code",
   "execution_count": null,
   "id": "5ae21888",
   "metadata": {},
   "outputs": [],
   "source": [
    "Fig, Host = plt.subplots(1,1,squeeze=False,figsize=(5,5),dpi =200)\n",
    "Host[0,0].plot(AVel[:,1],APos[:,1],'.',color='b',ms=4)\n",
    "Host[0,0].plot(BVel[:,1],BPos[:,1],'.',color='darkorange',ms=4)\n",
    "Host[0,0].set_ylabel('y')\n",
    "Host[0,0].set_xlabel('$v_y$')\n",
    "#Host[0,0].set_xlim(0,1)\n",
    "#Host[0,0].set_ylim(0,1)"
   ]
  },
  {
   "cell_type": "code",
   "execution_count": null,
   "id": "b402f07f",
   "metadata": {},
   "outputs": [],
   "source": []
  },
  {
   "cell_type": "code",
   "execution_count": null,
   "id": "e257fc8b",
   "metadata": {},
   "outputs": [],
   "source": [
    "raw = \"\"\"44.96460 45.00933 44.97697 44.99330 44.99303 44.92973 45.11713 45.16280 45.15120 45.05103 44.95663 44.96230 45.01110 45.03657\"\"\"\n",
    "raw = raw.replace('\\n',' ')\n",
    "data = np.array([float(i) for i in raw.split(' ')])\n",
    "std = np.std(data)\n",
    "mean = np.mean(data)\n",
    "print(mean,std)"
   ]
  },
  {
   "cell_type": "code",
   "execution_count": null,
   "id": "157bdbe2",
   "metadata": {},
   "outputs": [],
   "source": [
    "raw = \"\"\"44.93757 44.82280 45.01013 45.06047 45.14830 45.14127 45.09090 44.93683 45.07120 44.95727 44.97153 44.86643 44.91967 44.97727 \n",
    "45.01507 44.88150 44.77890 44.84093 44.78807 45.00903 44.89983 44.91023 45.05200 44.92093 45.02517 45.15250 45.08207 45.02213 \n",
    "44.94817 44.95197 45.05153 45.02107 45.02303 44.97627 44.90253 44.85030 44.98813 45.10523 45.02027 45.03160 44.90653 44.93333 \n",
    "44.98323 44.94097 44.95943 45.18380 45.07397 45.16330 45.09483 45.08023 45.17390 45.14820 45.00080 44.93680 44.89710 44.98137 \n",
    "45.09303 44.87323 44.91143 44.98863 45.10380 45.11163 45.14863 45.04277 45.00097 45.05063 45.02427 44.88503 44.95720 44.95823 \n",
    "44.94107 44.80593 44.97117 45.00640 44.92260 45.24463 45.16347 45.17827 44.97520 45.03027 45.02313 44.87993 44.97573 44.78800 \n",
    "44.87477 44.84600 44.84300 44.91267 45.18263 45.02787 45.11150 45.02123 45.21050 45.07553 44.94903 44.73587 44.94967 44.93013 \n",
    "44.84977 44.90367 44.81920 45.00627 44.98190 45.18150 45.06633 45.02817 45.03340 44.99843 44.90230 44.86787 44.95643 44.75753 \n",
    "45.12473 45.08970 45.01210 45.12583 44.91897 44.97857 45.05200 44.95223 45.04997 44.93127 45.12263 45.06253 44.99783 45.09993 \n",
    "44.89560 44.90387 44.95260 45.05743 45.08830 44.99327 44.97420 44.96013 45.01087 44.97553 44.97360 44.93327 44.81583 44.96007 \n",
    "44.98943 45.02120 44.97717 45.00433 44.94153 44.91973 44.88447 44.93010 44.96860 44.91757 45.00113 44.86890 44.96843 44.96600 \n",
    "45.02653 44.90430 44.95460 44.98933 45.01270 44.94067 44.97877 44.88603 45.05540 44.98420 44.85913 44.82233 45.01803 44.98310 \n",
    "45.09843 45.04900 45.06750 45.09103 45.07153 44.93890 45.09197 44.98690 45.04713 45.14107 44.94047 44.82517 44.93970 45.04957\"\"\"\n",
    "data = np.array([float(i) for i in raw.split()])\n",
    "std = np.std(data)\n",
    "mean = np.mean(data)\n",
    "print(mean,std)"
   ]
  },
  {
   "cell_type": "code",
   "execution_count": null,
   "id": "1f3af1be",
   "metadata": {},
   "outputs": [],
   "source": []
  }
 ],
 "metadata": {
  "kernelspec": {
   "display_name": "Python 3",
   "language": "python",
   "name": "python3"
  },
  "language_info": {
   "codemirror_mode": {
    "name": "ipython",
    "version": 3
   },
   "file_extension": ".py",
   "mimetype": "text/x-python",
   "name": "python",
   "nbconvert_exporter": "python",
   "pygments_lexer": "ipython3",
   "version": "3.8.10"
  }
 },
 "nbformat": 4,
 "nbformat_minor": 5
}
