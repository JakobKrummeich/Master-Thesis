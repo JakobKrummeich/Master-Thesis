{
 "cells": [
  {
   "cell_type": "code",
   "execution_count": null,
   "id": "bdfab757",
   "metadata": {},
   "outputs": [],
   "source": [
    "import numpy as np\n",
    "import os\n",
    "%matplotlib inline\n",
    "import matplotlib.pyplot as plt\n",
    "from scipy.optimize import curve_fit\n",
    "import glob\n",
    "import re\n",
    "from tkinter import filedialog as fd\n",
    "from tkinter import *"
   ]
  },
  {
   "cell_type": "code",
   "execution_count": null,
   "id": "53086afa",
   "metadata": {},
   "outputs": [],
   "source": [
    "def getFilePathFromDialog(_initialdir):\n",
    "    root = Tk()\n",
    "    FilePath = fd.askopenfilename(initialdir = _initialdir)\n",
    "    root.destroy()\n",
    "    return FilePath\n",
    "\n",
    "def getDirectoryPathFromDialog(_initialdir):\n",
    "    root = Tk()\n",
    "    Directory = fd.askdirectory(initialdir = _initialdir)\n",
    "    root.destroy()\n",
    "    return Directory"
   ]
  },
  {
   "cell_type": "code",
   "execution_count": null,
   "id": "0621786b",
   "metadata": {},
   "outputs": [],
   "source": [
    "def readFile(path, skiprows):\n",
    "    return np.loadtxt(path, dtype=float, skiprows=skiprows)\n",
    "\n",
    "def readFileFromDialog(skiprows):\n",
    "    return readFile(getFilePathFromDialog(dataPath),skiprows)"
   ]
  },
  {
   "cell_type": "code",
   "execution_count": null,
   "id": "9216780c",
   "metadata": {},
   "outputs": [],
   "source": [
    "def readParticleConfig(path,ConfigurationNumber):\n",
    "    TotalNumberOfParticles = int(re.search(r'(?<=N=)[\\d]*',path).group())\n",
    "    with open(path,'r') as F:\n",
    "        Data = F.read()\n",
    "    RowOffset = 1+ConfigurationNumber*(TotalNumberOfParticles+2)\n",
    "    print(\"RowOffset: \",RowOffset)\n",
    "    Data = Data.strip()\n",
    "    FirstRow = Data.split(sep='\\n')[RowOffset]\n",
    "    NumberOfAParticles = int(FirstRow.split()[5].strip('|'))\n",
    "    NumberOfBParticles = int(FirstRow.split()[7].strip('|'))\n",
    "    ListOfRows = Data.split(sep='\\n')[RowOffset+1:RowOffset+1+TotalNumberOfParticles]\n",
    "    if (len(ListOfRows) > 0):\n",
    "        NumberOfColumns = len(ListOfRows[0].split()) - 1\n",
    "    else:\n",
    "        NumberOfColumns = 0\n",
    "    APositions = np.empty((NumberOfAParticles, NumberOfColumns))\n",
    "    BPositions = np.empty((NumberOfBParticles, NumberOfColumns))\n",
    "    AIndex = 0\n",
    "    BIndex = 0\n",
    "    \n",
    "    for i in range(len(ListOfRows)):\n",
    "        if (ListOfRows[i].split()[NumberOfColumns] == 'A'):\n",
    "            for j in range(NumberOfColumns):\n",
    "                APositions[AIndex,j] = ListOfRows[i].split()[j]\n",
    "            AIndex += 1\n",
    "        else:\n",
    "            for j in range(NumberOfColumns):\n",
    "                BPositions[BIndex,j] = ListOfRows[i].split()[j]\n",
    "            BIndex += 1\n",
    "    return APositions, BPositions\n",
    "\n",
    "def readParticleConfigFromDialog(ConfigurationNumber):\n",
    "    return readParticleConfig(getFilePathFromDialog(dataPath),ConfigurationNumber)"
   ]
  },
  {
   "cell_type": "code",
   "execution_count": null,
   "id": "e65d1760",
   "metadata": {},
   "outputs": [],
   "source": [
    "def LinearFunction(x,m,n):\n",
    "    return m*x+n"
   ]
  },
  {
   "cell_type": "code",
   "execution_count": null,
   "id": "8ca620c1",
   "metadata": {
    "scrolled": true
   },
   "outputs": [],
   "source": [
    "dataPath = getDirectoryPathFromDialog('')"
   ]
  },
  {
   "cell_type": "markdown",
   "id": "ccefbc83",
   "metadata": {},
   "source": [
    "## Average displacement"
   ]
  },
  {
   "cell_type": "code",
   "execution_count": null,
   "id": "7f809d81",
   "metadata": {},
   "outputs": [],
   "source": [
    "traveledData = readFileFromDialog(1)"
   ]
  },
  {
   "cell_type": "code",
   "execution_count": null,
   "id": "59ad3fe6",
   "metadata": {
    "scrolled": true
   },
   "outputs": [],
   "source": [
    "Fig, Ax = plt.subplots(len(traveledData[0]),2,squeeze=False, figsize = (10,6*len(traveledData[0])), dpi = 100)\n",
    "Means = np.zeros(len(traveledData[0]))\n",
    "for i in range(len(traveledData[0])):\n",
    "    Ax[i,0].plot(traveledData[1:,i],'.',label='y={}'.format(traveledData[0,i]))\n",
    "    Means[i] = np.mean(traveledData[1:,i])\n",
    "    Ax[i,0].plot(Means[i]*np.ones(len(traveledData[1:,i])))\n",
    "    Ax[i,0].legend()\n",
    "    n,bins,patches = Ax[i,1].hist(traveledData[1:,i],bins = 41, density = True)\n",
    "    Ax[i,1].vlines(Means[i],0,np.max(n),color='darkorange')"
   ]
  },
  {
   "cell_type": "code",
   "execution_count": null,
   "id": "3b87df29",
   "metadata": {},
   "outputs": [],
   "source": [
    "Fig, Ax = plt.subplots(1,1,squeeze=False,figsize=(5,5), dpi = 100)\n",
    "Ax[0,0].plot(Means,traveledData[0],'.')\n",
    "Ax[0,0].set_xlabel('average $\\Delta x / \\sigma$ per sweep')\n",
    "Ax[0,0].set_ylabel('y / $\\sigma$')\n",
    "#Ax[0,0].set_ylim(0,1)\n",
    "popt, pcov = curve_fit(LinearFunction, Means[:], traveledData[0][:])\n",
    "print(popt)\n",
    "print(popt[1]/popt[0])\n",
    "print('shear rate: {:.3E}'.format(1/popt[0]))\n",
    "Ax[0,0].plot(Means[:],LinearFunction(Means[:],*popt))\n",
    "Ax[0,0].set_title('Average $\\Delta x$ vs y')\n",
    "Ax[0,0].ticklabel_format(axis='x', style='sci', scilimits=(-2,2))\n",
    "#Fig.savefig(\"plots/shear_analysis/avg_delta_x_field_no_lees_edwards_T=1.png\",format='png')"
   ]
  },
  {
   "cell_type": "markdown",
   "id": "824832bd",
   "metadata": {},
   "source": [
    "## Avg MSD"
   ]
  },
  {
   "cell_type": "code",
   "execution_count": null,
   "id": "31b8465c",
   "metadata": {},
   "outputs": [],
   "source": [
    "AvgMSDSeries = readFileFromDialog(1)"
   ]
  },
  {
   "cell_type": "code",
   "execution_count": null,
   "id": "0b3d29de",
   "metadata": {},
   "outputs": [],
   "source": [
    "Fig, Ax = plt.subplots(1,1,squeeze=False, figsize = (12,5), dpi = 100)\n",
    "xdata = np.arange(1,len(AvgMSDSeries)+1)\n",
    "Ax[0,0].plot(xdata,AvgMSDSeries/xdata,'.')\n",
    "popt, pcov = curve_fit(lambda x,n: LinearFunction(x,0.0,n), xdata[:9], AvgMSDSeries[:9]/xdata[:9])\n",
    "print(popt)\n",
    "Ax[0,0].plot(xdata[:9],LinearFunction(xdata[:9],0.0,*popt))\n",
    "Ax[0,0].set_xscale('log')\n",
    "Ax[0,0].set_yscale('log')"
   ]
  },
  {
   "cell_type": "markdown",
   "id": "fd9f49c4",
   "metadata": {},
   "source": [
    "## Stress plotting"
   ]
  },
  {
   "cell_type": "code",
   "execution_count": null,
   "id": "52522243",
   "metadata": {},
   "outputs": [],
   "source": [
    "NumberOfSubdivisions = 14"
   ]
  },
  {
   "cell_type": "code",
   "execution_count": null,
   "id": "3e3c015c",
   "metadata": {},
   "outputs": [],
   "source": [
    "xStressData = readFileFromDialog(2)"
   ]
  },
  {
   "cell_type": "code",
   "execution_count": null,
   "id": "de81341c",
   "metadata": {
    "scrolled": false
   },
   "outputs": [],
   "source": [
    "Fig, Ax = plt.subplots(NumberOfSubdivisions,2,squeeze=False, figsize= (10,2.5*NumberOfSubdivisions),dpi =100)\n",
    "xAxis = np.linspace(1.0/(2.0*NumberOfSubdivisions),1.0-1.0/(2.0*NumberOfSubdivisions),num = NumberOfSubdivisions)\n",
    "for i in range(NumberOfSubdivisions):\n",
    "    Ax[i,0].plot(xAxis,xStressData[NumberOfSubdivisions-1-i::NumberOfSubdivisions,3],'_',label='y={}'.format(xStressData[NumberOfSubdivisions-1-i,0]))\n",
    "    Ax[i,0].plot(xAxis,np.ones(len(xAxis))*np.mean(xStressData[NumberOfSubdivisions-1-i::NumberOfSubdivisions,3]))\n",
    "    Ax[i,0].legend()\n",
    "    Ax[i,1].plot(xAxis,xStressData[NumberOfSubdivisions-1-i::NumberOfSubdivisions,4],'_',label='y={}'.format(xStressData[NumberOfSubdivisions-1-i,0]))\n",
    "    MeanShear = np.mean(xStressData[NumberOfSubdivisions-1-i::NumberOfSubdivisions,4])\n",
    "    Ax[i,1].plot(xAxis,np.ones(len(xAxis))*MeanShear,label='Avg = {:.4f}'.format(MeanShear))\n",
    "    Ax[i,1].legend()\n",
    "Fig.suptitle(\"Stresses of cuts in x direction (left column normal stresses, right column shear stresses)\",y= 0.90)"
   ]
  },
  {
   "cell_type": "code",
   "execution_count": null,
   "id": "105dc834",
   "metadata": {},
   "outputs": [],
   "source": [
    "Mean = 0\n",
    "for i in range(NumberOfSubdivisions-1):\n",
    "    Mean += np.mean(xStressData[NumberOfSubdivisions-i-2::NumberOfSubdivisions,4])\n",
    "print(\"Avg shear stress except top layer: {:.3f}\".format(Mean/(NumberOfSubdivisions-1)))"
   ]
  },
  {
   "cell_type": "code",
   "execution_count": null,
   "id": "847d5198",
   "metadata": {},
   "outputs": [],
   "source": [
    "Fig, Ax = plt.subplots(1,1,squeeze=False, figsize= (10,6),dpi =100)\n",
    "xAxis = np.linspace(1.0/(2.0*NumberOfSubdivisions),1.0-1.0/(2.0*NumberOfSubdivisions),num = NumberOfSubdivisions)\n",
    "for i in range(NumberOfSubdivisions):\n",
    "    line = Ax[0,0].plot(xAxis,xStressData[NumberOfSubdivisions-1-i::NumberOfSubdivisions,4])\n",
    "    MeanShear = np.mean(xStressData[NumberOfSubdivisions-1-i::NumberOfSubdivisions,4])\n",
    "    Ax[0,0].plot(xAxis,np.ones(len(xAxis))*MeanShear,color = line[0].get_color(), label='y={}, Avg = {:.4f}'.format(xStressData[NumberOfSubdivisions-1-i,0],MeanShear))\n",
    "    Ax[0,0].legend()"
   ]
  },
  {
   "cell_type": "code",
   "execution_count": null,
   "id": "5c1f7c55",
   "metadata": {},
   "outputs": [],
   "source": [
    "yStressData = readFileFromDialog(2)"
   ]
  },
  {
   "cell_type": "code",
   "execution_count": null,
   "id": "b7428e9b",
   "metadata": {
    "scrolled": false
   },
   "outputs": [],
   "source": [
    "Fig, Ax = plt.subplots(NumberOfSubdivisions,2,squeeze=False, figsize= (10,2.5*NumberOfSubdivisions),dpi =100)\n",
    "xAxis = np.linspace(1.0/(2.0*NumberOfSubdivisions),1.0-1.0/(2.0*NumberOfSubdivisions),num = NumberOfSubdivisions)\n",
    "for i in range(NumberOfSubdivisions):\n",
    "    Ax[i,0].plot(xAxis,yStressData[i::NumberOfSubdivisions,3],'_',label='x={}'.format(yStressData[i,0]))\n",
    "    MeanNormal = np.mean(yStressData[i::NumberOfSubdivisions,3])\n",
    "    Ax[i,0].plot(xAxis,np.ones(len(xAxis))*MeanNormal)\n",
    "    Ax[i,0].legend()\n",
    "    Ax[i,1].plot(xAxis,yStressData[i::NumberOfSubdivisions,4],'_',label='x={}'.format(yStressData[i,0]))\n",
    "    MeanShear = np.mean(yStressData[i::NumberOfSubdivisions,4])\n",
    "    Ax[i,1].plot(xAxis,np.ones(len(xAxis))*MeanShear,label='Avg={:.3f}'.format(MeanShear))\n",
    "    Ax[i,1].legend()\n",
    "Fig.suptitle(\"Stresses of cuts in y direction (left column normal stresses, right column shear stresses)\",y= 0.90)"
   ]
  },
  {
   "cell_type": "code",
   "execution_count": null,
   "id": "e2e3e304",
   "metadata": {},
   "outputs": [],
   "source": [
    "print(\"Avg pressure: {:.4f}\".format((np.mean(xStressData[:,3])+np.mean(yStressData[:,3]))*0.5))\n",
    "print(\"Avg shear stress x direction: {:.4f}\".format(np.mean(xStressData[:,4])))\n",
    "print(\"Avg shear stress y direction: {:.4f}\".format(np.mean(yStressData[:,4])))"
   ]
  },
  {
   "cell_type": "markdown",
   "id": "badd1331",
   "metadata": {},
   "source": [
    "## Series plotting"
   ]
  },
  {
   "cell_type": "code",
   "execution_count": null,
   "id": "71090cb6",
   "metadata": {},
   "outputs": [],
   "source": [
    "NumberOfASeries = readFileFromDialog()"
   ]
  },
  {
   "cell_type": "code",
   "execution_count": null,
   "id": "3d334bf6",
   "metadata": {},
   "outputs": [],
   "source": [
    "Fig, Host = plt.subplots(1,1,squeeze=False, figsize = (12,5), dpi = 100)\n",
    "Host[0,0].plot(NumberOfASeries,'.')"
   ]
  },
  {
   "cell_type": "code",
   "execution_count": null,
   "id": "1d0cfaba",
   "metadata": {},
   "outputs": [],
   "source": [
    "Fig, Ax = plt.subplots(1,1,squeeze=False, figsize=(5,5))\n",
    "Ax[0,0].hist(NumberOfASeries,bins = 41, density = True)\n",
    "Ax[0,0].set_xlabel(r'$N_A$')\n",
    "Ax[0,0].set_ylabel('number of occurences')"
   ]
  },
  {
   "cell_type": "code",
   "execution_count": null,
   "id": "935bf906",
   "metadata": {},
   "outputs": [],
   "source": [
    "PotEnergySeries = readFileFromDialog()"
   ]
  },
  {
   "cell_type": "code",
   "execution_count": null,
   "id": "40a471a9",
   "metadata": {},
   "outputs": [],
   "source": [
    "Fig, Host = plt.subplots(1,1,squeeze=False, figsize = (12,5), dpi = 100)\n",
    "Host[0,0].plot(PotEnergySeries,'.')"
   ]
  },
  {
   "cell_type": "code",
   "execution_count": null,
   "id": "ac617b47",
   "metadata": {},
   "outputs": [],
   "source": [
    "Fig, Ax = plt.subplots(1,1,squeeze=False, figsize=(5,5))\n",
    "Ax[0,0].hist(PotEnergySeries,bins = 41, density = True)\n",
    "Ax[0,0].set_xlabel(r'$N_A$')\n",
    "Ax[0,0].set_ylabel('number of occurences')"
   ]
  },
  {
   "cell_type": "markdown",
   "id": "e11c43c4",
   "metadata": {},
   "source": [
    "## State plotting"
   ]
  },
  {
   "cell_type": "code",
   "execution_count": null,
   "id": "3b7cd2fe",
   "metadata": {},
   "outputs": [],
   "source": [
    "APositions, BPositions = readParticleConfigFromDialog(0)"
   ]
  },
  {
   "cell_type": "code",
   "execution_count": null,
   "id": "c5dd5cd7",
   "metadata": {},
   "outputs": [],
   "source": [
    "Fig, Host = plt.subplots(1,1,squeeze=False,figsize=(5,5),dpi =200)\n",
    "Host[0,0].plot(APositions[:,0],APositions[:,1],'.',color='b',ms=4)\n",
    "Host[0,0].plot(BPositions[:,0],BPositions[:,1],'.',color='darkorange',ms=4)\n",
    "Host[0,0].set_xlabel('x')\n",
    "Host[0,0].set_ylabel('y')\n",
    "Host[0,0].set_xlim(0,1)\n",
    "Host[0,0].set_ylim(0,1)\n",
    "#Fig.savefig('ParticleConfig_T=0.52_N=16000_multiple_phases present'+'.png',format='png')"
   ]
  },
  {
   "cell_type": "code",
   "execution_count": null,
   "id": "48df1817",
   "metadata": {},
   "outputs": [],
   "source": []
  }
 ],
 "metadata": {
  "kernelspec": {
   "display_name": "Python 3",
   "language": "python",
   "name": "python3"
  },
  "language_info": {
   "codemirror_mode": {
    "name": "ipython",
    "version": 3
   },
   "file_extension": ".py",
   "mimetype": "text/x-python",
   "name": "python",
   "nbconvert_exporter": "python",
   "pygments_lexer": "ipython3",
   "version": "3.8.10"
  }
 },
 "nbformat": 4,
 "nbformat_minor": 5
}
