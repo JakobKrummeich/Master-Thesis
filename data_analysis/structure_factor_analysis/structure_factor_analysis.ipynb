{
 "cells": [
  {
   "cell_type": "code",
   "execution_count": null,
   "metadata": {},
   "outputs": [],
   "source": [
    "import numpy as np\n",
    "import os\n",
    "import matplotlib.pyplot as plt\n",
    "from scipy.optimize import curve_fit\n",
    "import glob\n",
    "import re\n",
    "from tkinter import filedialog as fd\n",
    "from tkinter import *\n",
    "\n",
    "%matplotlib inline"
   ]
  },
  {
   "cell_type": "code",
   "execution_count": null,
   "metadata": {},
   "outputs": [],
   "source": [
    "def readParticleConfig(path,ConfigurationNumber):\n",
    "    TotalNumberOfParticles = int(re.search(r'(?<=N=)[\\d]*',path).group())\n",
    "    with open(path,'r') as F:\n",
    "        Data = F.read()\n",
    "    RowOffset = 1+ConfigurationNumber*(TotalNumberOfParticles+2)\n",
    "    print(\"RowOffset: \",RowOffset)\n",
    "    Data = Data.strip()\n",
    "    FirstRow = Data.split(sep='\\n')[RowOffset]\n",
    "    NumberOfAParticles = int(FirstRow.split()[5].strip('|'))\n",
    "    NumberOfBParticles = int(FirstRow.split()[7].strip('|'))\n",
    "    ListOfRows = Data.split(sep='\\n')[RowOffset+1:RowOffset+1+TotalNumberOfParticles]\n",
    "    if (len(ListOfRows) > 0):\n",
    "        NumberOfColumns = len(ListOfRows[0].split()) - 1\n",
    "    else:\n",
    "        NumberOfColumns = 0\n",
    "    APositions = np.empty((NumberOfAParticles, NumberOfColumns))\n",
    "    BPositions = np.empty((NumberOfBParticles, NumberOfColumns))\n",
    "    AIndex = 0\n",
    "    BIndex = 0\n",
    "    \n",
    "    for i in range(len(ListOfRows)):\n",
    "        if (ListOfRows[i].split()[NumberOfColumns] == 'A'):\n",
    "            for j in range(NumberOfColumns):\n",
    "                APositions[AIndex,j] = ListOfRows[i].split()[j]\n",
    "            AIndex += 1\n",
    "        else:\n",
    "            for j in range(NumberOfColumns):\n",
    "                BPositions[BIndex,j] = ListOfRows[i].split()[j]\n",
    "            BIndex += 1\n",
    "    return APositions, BPositions"
   ]
  },
  {
   "cell_type": "code",
   "execution_count": null,
   "metadata": {},
   "outputs": [],
   "source": [
    "def getFilePathFromDialog(_initialdir):\n",
    "    root = Tk()\n",
    "    FilePath = fd.askopenfilename(initialdir = _initialdir)\n",
    "    root.destroy()\n",
    "    return FilePath\n",
    "\n",
    "def getDirectoryPathFromDialog(_initialdir):\n",
    "    root = Tk()\n",
    "    Directory = fd.askdirectory(initialdir = _initialdir)\n",
    "    root.destroy()\n",
    "    return Directory\n",
    "\n",
    "dataPath = getDirectoryPathFromDialog('')\n",
    "\n",
    "def readParticleConfigFromDialog(ConfigurationNumber):\n",
    "    return readParticleConfig(getFilePathFromDialog(dataPath),ConfigurationNumber)"
   ]
  },
  {
   "cell_type": "code",
   "execution_count": null,
   "metadata": {},
   "outputs": [],
   "source": [
    "def readStructureFactorValues(path, number_of_skipped_rows):\n",
    "    return np.loadtxt(path, dtype=float, skiprows = number_of_skipped_rows)\n",
    "\n",
    "def readStructureFactorValuesFromDialog(skiprows):\n",
    "    return readStructureFactorValues(getFilePathFromDialog(dataPath),skiprows)"
   ]
  },
  {
   "cell_type": "markdown",
   "metadata": {},
   "source": [
    "## Plot pot energy series"
   ]
  },
  {
   "cell_type": "code",
   "execution_count": null,
   "metadata": {},
   "outputs": [],
   "source": [
    "def plotMultiplePotEnergySeries():\n",
    "    Directory = getDirectoryPathFromDialog(dataPath);\n",
    "    AllPotEnergySeries = sorted(glob.glob(Directory+\"/PotEnergy*\"))\n",
    "    NumberOfSeries = len(AllPotEnergySeries)\n",
    "    Temperature = re.search(r'(?<=T=)[\\d]*.[\\d]*',Directory).group()\n",
    "    Fig,Ax = plt.subplots(NumberOfSeries,2,squeeze=False, figsize=(18,5*NumberOfSeries))\n",
    "    Fig.suptitle(\"T=\"+Temperature,y=0.95)\n",
    "    Fig.tight_layout(rect=[0, 0.03, 1, 0.95])    \n",
    "    for i in range(NumberOfSeries):\n",
    "        RunNumber = re.search(r'(?<=_)[\\d]*(?=(.dat))',AllPotEnergySeries[i]).group()\n",
    "        PotSeries = np.loadtxt(glob.glob(Directory+\"/PotEnergy*_\"+RunNumber+\".dat\")[0], dtype=float, skiprows = 1)\n",
    "        PotEnergyAverage = np.mean(PotSeries)\n",
    "        Ax[i,0].plot(PotSeries,'.')\n",
    "        Ax[i,1].hist(PotSeries,bins = 20, density = True)\n",
    "        Ax[i,1].vlines(PotEnergyAverage,0,0.004,color='g',label=\"PotEnergyAvg={}\".format(round(PotEnergyAverage,2)))\n",
    "        Ax[i,0].set_title(\"Run \"+RunNumber)\n",
    "        Ax[i,1].legend()"
   ]
  },
  {
   "cell_type": "code",
   "execution_count": null,
   "metadata": {
    "scrolled": false
   },
   "outputs": [],
   "source": [
    "plotMultiplePotEnergySeries()"
   ]
  },
  {
   "cell_type": "markdown",
   "metadata": {},
   "source": [
    "## Structure factor plotting"
   ]
  },
  {
   "cell_type": "code",
   "execution_count": null,
   "metadata": {},
   "outputs": [],
   "source": [
    "StructureFactorResults = readStructureFactorValuesFromDialog(1)"
   ]
  },
  {
   "cell_type": "code",
   "execution_count": null,
   "metadata": {},
   "outputs": [],
   "source": [
    "Fig, Ax = plt.subplots(1,1,squeeze=False, figsize=(10,6),dpi=200)\n",
    "Ax[0,0].plot(StructureFactorResults[:,0], StructureFactorResults[:,1],'.',label=r'$S_{AA}$')\n",
    "Ax[0,0].plot(StructureFactorResults[:,0], StructureFactorResults[:,2],'+',label=r'$S_{BB}$')\n",
    "Ax[0,0].set_xlabel(r'$k[\\sigma^{-1}]$')\n",
    "Ax[0,0].set_ylabel('strcture factor value')\n",
    "Ax[0,0].legend()\n",
    "Ax[0,0].set_title(r'$S_{AA}$'+' and '+r'$S_{BB}$' + ' as function of k')\n",
    "#Ax[0,0].set_xlim(0,1)\n",
    "#Ax[0,0].set_ylim(0.71,0.74)\n",
    "#Fig.savefig('SAA_SBB'+'.png',format='png')"
   ]
  },
  {
   "cell_type": "code",
   "execution_count": null,
   "metadata": {},
   "outputs": [],
   "source": [
    "Fig, Ax = plt.subplots(1,1,squeeze=False, figsize=(10,6),dpi=200)\n",
    "Ax[0,0].plot(StructureFactorResults[:,0], StructureFactorResults[:,3],'.')\n",
    "Ax[0,0].set_xlabel(r'$k[\\sigma^{-1}]$')\n",
    "Ax[0,0].set_ylabel('$S_{AB}(k)$')\n",
    "Ax[0,0].set_title(r'$S_{AB}$')\n",
    "#Ax[0,0].set_xlim(0,1)\n",
    "#Fig.savefig('SAB'+'.png',format='png')"
   ]
  },
  {
   "cell_type": "code",
   "execution_count": null,
   "metadata": {},
   "outputs": [],
   "source": [
    "Fig, Ax = plt.subplots(1,1,squeeze=False, figsize=(10,6),dpi=200)\n",
    "Ax[0,0].plot(StructureFactorResults[:,0], StructureFactorResults[:,4],'.')\n",
    "Ax[0,0].set_xlabel(r'$k[\\sigma^{-1}]$')\n",
    "Ax[0,0].set_ylabel('$S_{cc}(k)$')\n",
    "Ax[0,0].set_title(r'$S_{cc}$')\n",
    "Ax[0,0].set_xlim(0,1)\n",
    "#Fig.savefig('Scc'+'.png',format='png')"
   ]
  },
  {
   "cell_type": "code",
   "execution_count": null,
   "metadata": {},
   "outputs": [],
   "source": [
    "Fig, Ax = plt.subplots(1,1,squeeze=False, figsize=(10,6),dpi = 200)\n",
    "Ax[0,0].plot(StructureFactorResults[:,0], StructureFactorResults[:,1],'-',label=r'$S_{AA}$')\n",
    "Ax[0,0].plot(StructureFactorResults[:,0], StructureFactorResults[:,2],'-',label=r'$S_{BB}$')\n",
    "Ax[0,0].plot(StructureFactorResults[:,0], StructureFactorResults[:,3],'-',label=r'$S_{AB}$')\n",
    "Ax[0,0].plot(StructureFactorResults[:,0], StructureFactorResults[:,4],'-',label=r'$S_{cc}$')\n",
    "Ax[0,0].legend()"
   ]
  },
  {
   "cell_type": "markdown",
   "metadata": {},
   "source": [
    "## Plot multiple Sccs"
   ]
  },
  {
   "cell_type": "code",
   "execution_count": null,
   "metadata": {},
   "outputs": [],
   "source": [
    "def plotMultipleSccs(Tc,kSquareMin,kSquareMax):\n",
    "    Directory = getDirectoryPathFromDialog(dataPath)\n",
    "    files = glob.glob(Directory+\"/StructureFactors_*\")\n",
    "    Fig, Ax = plt.subplots(2,1,squeeze=False, figsize=(7,15),dpi=100)\n",
    "    Fig.suptitle(r'multiple Scc')\n",
    "    for file in sorted(files):\n",
    "        Temperature = float(re.search(r'(?<=T=)[\\d]*.[\\d]*',file).group())\n",
    "        StructureFactorResults = readStructureFactorValues(file,1)\n",
    "        SccInverse = 1/(StructureFactorResults[:,4])\n",
    "        kSquared = (StructureFactorResults[:,0])**2\n",
    "        Mask = ((kSquared > kSquareMin) & (kSquared < kSquareMax))\n",
    "        i = 0 if (Temperature < Tc) else 1\n",
    "        Ax[i,0].plot(kSquared[Mask], SccInverse[Mask],'.',label='T='+str(Temperature))\n",
    "    for i in range(2):\n",
    "        Ax[i,0].legend()\n",
    "        Ax[i,0].set_xlabel(r'$\\left( k\\sigma \\right)^{2}$')\n",
    "        Ax[i,0].set_ylabel(r'$\\left( S_{cc}(k) \\right)^{-1}$')\n",
    "    Ax[0,0].set_title(r'$T<T_c$')\n",
    "    Ax[1,0].set_title(r'$T>T_c$')"
   ]
  },
  {
   "cell_type": "code",
   "execution_count": null,
   "metadata": {},
   "outputs": [],
   "source": [
    "plotMultipleSccs(0.7469,0.025,0.2)"
   ]
  },
  {
   "cell_type": "markdown",
   "metadata": {},
   "source": [
    "## Finite-size scaling of susceptibility"
   ]
  },
  {
   "cell_type": "code",
   "execution_count": null,
   "metadata": {},
   "outputs": [],
   "source": [
    "def readFiniteSizeScalingSus():\n",
    "    Directory = getDirectoryPathFromDialog(dataPath)\n",
    "    AllDirectories = glob.glob(Directory+\"/N=*\")\n",
    "    Dict = {}\n",
    "    for ParticleNumberDirectory in AllDirectories:\n",
    "        N = int(re.search(r'(?<=N=)[\\d]*',ParticleNumberDirectory).group())\n",
    "        FileName = glob.glob(ParticleNumberDirectory+\"/analyzed_data/structure_factor_from_fluctuations*\")[0]\n",
    "        StructureFactors = np.loadtxt(FileName, dtype=float, skiprows = 1)\n",
    "        StructureFactors[:,1] = StructureFactors[:,1]/StructureFactors[:,0]\n",
    "        Dict[N] = StructureFactors\n",
    "    SortedDict = {}\n",
    "    for i in sorted(Dict):\n",
    "        SortedDict[i] = Dict[i]\n",
    "    return SortedDict"
   ]
  },
  {
   "cell_type": "code",
   "execution_count": null,
   "metadata": {},
   "outputs": [],
   "source": [
    "Dict = readFiniteSizeScalingSus()"
   ]
  },
  {
   "cell_type": "code",
   "execution_count": null,
   "metadata": {},
   "outputs": [],
   "source": [
    "Fig, Ax = plt.subplots(1,1,squeeze=False, figsize=(10,6),dpi=200)\n",
    "for N in Dict:\n",
    "    Ax[0,0].plot(Dict[N][:,0], Dict[N][:,1],'.',label=N)"
   ]
  },
  {
   "cell_type": "code",
   "execution_count": null,
   "metadata": {},
   "outputs": [],
   "source": [
    "TasLabel = {}\n",
    "for T in Dict[500][:,0]:\n",
    "    print(T)\n",
    "    SusvsN = np.zeros((len(Dict),2))\n",
    "    TasLabel[T] = SusvsN\n",
    "\n",
    "TIndex = 0\n",
    "for T in TasLabel:\n",
    "    i = 0\n",
    "    for N in Dict:\n",
    "        TasLabel[T][i,0] = N\n",
    "        TasLabel[T][i,1] = Dict[N][TIndex,1]\n",
    "        i+=1\n",
    "    TIndex+=1"
   ]
  },
  {
   "cell_type": "code",
   "execution_count": null,
   "metadata": {
    "scrolled": true
   },
   "outputs": [],
   "source": [
    "Fig, Ax = plt.subplots(len(TasLabel),1,squeeze=False, figsize=(8,5*len(TasLabel)),dpi=200)\n",
    "i = 0\n",
    "for T in TasLabel:\n",
    "    Ax[i,0].plot(TasLabel[T][:,0], TasLabel[T][:,1],'.')\n",
    "    Ax[i,0].set_title('T={}'.format(T))\n",
    "    i+=1"
   ]
  },
  {
   "cell_type": "code",
   "execution_count": null,
   "metadata": {},
   "outputs": [],
   "source": [
    "y0 = 60\n",
    "yArray = np.array([25.820,36.515,51.640,73.030,103.280,146.059])\n",
    "xAxisArray = yArray/(yArray+y0)\n",
    "Tcrit = 0.7469\n",
    "gamma = 1.75"
   ]
  },
  {
   "cell_type": "code",
   "execution_count": null,
   "metadata": {},
   "outputs": [],
   "source": [
    "epsArray = np.zeros(len(TasLabel))\n",
    "i = 0\n",
    "for T in TasLabel:\n",
    "    epsArray[i] = abs(T-Tcrit)/Tcrit\n",
    "    i += 1"
   ]
  },
  {
   "cell_type": "code",
   "execution_count": null,
   "metadata": {},
   "outputs": [],
   "source": [
    "Fig, Ax = plt.subplots(1,1,squeeze=False, figsize=(10,6),dpi=200)\n",
    "i = 0\n",
    "for N in Dict:\n",
    "    Ax[0,0].plot(np.ones(len(Dict[N][:,0]))*xAxisArray[i], Dict[N][:,1]*(epsArray[:])**(1.75),'.',label=N)\n",
    "    i+=1\n",
    "Ax[0,0].set_xlim(0,1)\n",
    "Ax[0,0].set_ylim(0.14,0.17)"
   ]
  },
  {
   "cell_type": "markdown",
   "metadata": {},
   "source": [
    "## Ornstein-Zernike-fit"
   ]
  },
  {
   "cell_type": "code",
   "execution_count": null,
   "metadata": {},
   "outputs": [],
   "source": [
    "def LinearFunction(x,m,n):\n",
    "    return m*x+n;"
   ]
  },
  {
   "cell_type": "code",
   "execution_count": null,
   "metadata": {},
   "outputs": [],
   "source": [
    "def PowerLaw(x,Amp,Exponent):\n",
    "    return Amp*x**(-Exponent)"
   ]
  },
  {
   "cell_type": "code",
   "execution_count": null,
   "metadata": {},
   "outputs": [],
   "source": [
    "def OrnsteinZernike(k,chikBT,xi):\n",
    "    return (chikBT*(1.0+(k*xi)**2)**(-1))"
   ]
  },
  {
   "cell_type": "code",
   "execution_count": null,
   "metadata": {},
   "outputs": [],
   "source": [
    "StructureFactorResults = readStructureFactorValuesFromDialog(1)"
   ]
  },
  {
   "cell_type": "code",
   "execution_count": null,
   "metadata": {},
   "outputs": [],
   "source": [
    "LowerIndex = 12\n",
    "UpperIndex = 60"
   ]
  },
  {
   "cell_type": "code",
   "execution_count": null,
   "metadata": {},
   "outputs": [],
   "source": [
    "popt, pcov = curve_fit(lambda k,xi: OrnsteinZernike(k,29.2688,xi),StructureFactorResults[LowerIndex:UpperIndex,0],StructureFactorResults[LowerIndex:UpperIndex,4],p0=[1],maxfev=50000,bounds=([0],[np.inf]))\n",
    "print(\"Parameters found: xi=\", popt[0])"
   ]
  },
  {
   "cell_type": "code",
   "execution_count": null,
   "metadata": {},
   "outputs": [],
   "source": [
    "Fig, Ax = plt.subplots(1,1,squeeze=False, figsize=(10,6),dpi=200)\n",
    "Ax[0,0].plot(StructureFactorResults[LowerIndex:UpperIndex,0], StructureFactorResults[LowerIndex:UpperIndex,4],'.')\n",
    "Ax[0,0].plot(StructureFactorResults[LowerIndex:UpperIndex,0],OrnsteinZernike(StructureFactorResults[LowerIndex:UpperIndex,0],29.2688,*popt))\n",
    "Ax[0,0].set_xlabel(r'$\\left( k\\sigma \\right)$')\n",
    "Ax[0,0].set_ylabel(r'$\\left( S_{cc}(k) \\right)$')\n",
    "Ax[0,0].set_title(r'$S_{cc}$')\n",
    "#Ax[0,0].set_xlim(0,1.5)"
   ]
  },
  {
   "cell_type": "code",
   "execution_count": null,
   "metadata": {},
   "outputs": [],
   "source": [
    "def computeMultipleCorrelationLengths(Tc,kMin,kMax,chikBTDict):\n",
    "    Directory = getDirectoryPathFromDialog(dataPath)\n",
    "    files = glob.glob(Directory+\"/StructureFactors_*\")\n",
    "    Temperatures = []\n",
    "    RedTemperatures = []\n",
    "    CorrelationLengths = []\n",
    "    i = 0\n",
    "    Fig, Ax = plt.subplots(len(files),1,squeeze=False, figsize=(7,70),dpi=100)\n",
    "    Fig.subplots_adjust(hspace=0.3)\n",
    "    for file in sorted(files):\n",
    "        Temperature = float(re.search(r'(?<=T=)[\\d]*.[\\d]*',file).group())\n",
    "        Temperatures.append(Temperature)\n",
    "        chikBT = chikBTDict[Temperature]\n",
    "        RedTemperatures.append(abs(Temperature-Tc)/Tc)\n",
    "        StructureFactorResults = readStructureFactorValues(file,1)\n",
    "        k = StructureFactorResults[:,0]\n",
    "        Mask = ((k > kMin) & (k < kMax))\n",
    "        popt, pcov = curve_fit(lambda k,xi: OrnsteinZernike(k,chikBT,xi),k[Mask],StructureFactorResults[:,4][Mask],p0=[1],maxfev=50000,bounds=([0],[np.inf]))\n",
    "        CorrelationLength = popt[0]\n",
    "        CorrelationLengths.append(CorrelationLength)\n",
    "        Ax[i,0].plot(k[Mask], StructureFactorResults[:,4][Mask],'.')\n",
    "        Ax[i,0].plot(k[Mask], OrnsteinZernike(k[Mask],chikBT,*popt),label=r'$\\chi k_B T$='+str(chikBT)+r', $\\frac{\\xi}{\\sigma}=$'+str(CorrelationLength))\n",
    "        #Ax[i,0].text(0.05, 0.75,'m={:.2f}, n={:.3e}'.format(popt[0],popt[1]), transform=Ax[i,0].transAxes, fontsize=14,verticalalignment='top')\n",
    "        Ax[i,0].set_xlabel(r'$\\left( k\\sigma \\right)$')\n",
    "        Ax[i,0].set_ylabel(r'$\\left( S_{cc}(k) \\right)$')\n",
    "        Ax[i,0].set_title(r'T='+str(Temperature))\n",
    "        Ax[i,0].legend(loc='upper left')\n",
    "        #Ax[i,0].set_xlim(0,1.5)\n",
    "        #Ax[i,0].set_xscale('log')\n",
    "        #Ax[i,0].set_yscale('log')\n",
    "        i+=1\n",
    "    #Fig.savefig(\"plots/structure_factor_fits_ornstein_zernike.png\",format='png',dpi=200)\n",
    "    return Temperatures, RedTemperatures, CorrelationLengths"
   ]
  },
  {
   "cell_type": "code",
   "execution_count": null,
   "metadata": {},
   "outputs": [],
   "source": [
    "def getchikBTDict():\n",
    "    TvsSus = readStructureFactorValuesFromDialog(1)\n",
    "    SusDict = {}\n",
    "    for i in range(len(TvsSus[:,0])):\n",
    "        SusDict[TvsSus[i,0]] = TvsSus[i,1]\n",
    "    return SusDict"
   ]
  },
  {
   "cell_type": "code",
   "execution_count": null,
   "metadata": {},
   "outputs": [],
   "source": [
    "chikBTDict = getSusceptibilityDict()"
   ]
  },
  {
   "cell_type": "code",
   "execution_count": null,
   "metadata": {
    "scrolled": true
   },
   "outputs": [],
   "source": [
    "Temperatures, RedTemperatures, CorrelationLengths = computeMultipleCorrelationLengths(0.7469,0.2,0.7,chikBTDict)"
   ]
  },
  {
   "cell_type": "code",
   "execution_count": null,
   "metadata": {},
   "outputs": [],
   "source": [
    "Tcrit = 0.7469\n",
    "Mask = np.array(Temperatures) > Tcrit"
   ]
  },
  {
   "cell_type": "code",
   "execution_count": null,
   "metadata": {},
   "outputs": [],
   "source": [
    "Results = np.column_stack([Temperatures,RedTemperatures,CorrelationLengths])\n",
    "print(Results[Mask])"
   ]
  },
  {
   "cell_type": "code",
   "execution_count": null,
   "metadata": {},
   "outputs": [],
   "source": [
    "popt, pcov = curve_fit(LinearFunction,np.log(Results[Mask,1]),np.log(Results[Mask,2]),p0=[-1.75,-1],maxfev=50000,bounds=([-2.751,-np.inf],[-1.,np.inf]))\n",
    "print(popt)\n",
    "exponent=-popt[0]\n",
    "chi_0 = np.exp(popt[1])\n",
    "print(\"exponent={:.2f}, chi_0={:.4f}\".format(exponent,chi_0))"
   ]
  },
  {
   "cell_type": "code",
   "execution_count": null,
   "metadata": {},
   "outputs": [],
   "source": [
    "Fig, Ax = plt.subplots(1,1,squeeze=False,figsize=(5,3),dpi=200)\n",
    "Ax[0,0].plot(Results[Mask,1],Results[Mask,2],'.')\n",
    "Ax[0,0].plot(Results[Mask,1],PowerLaw(Results[Mask,1],chi_0,exponent))\n",
    "Ax[0,0].set_xscale('log')\n",
    "Ax[0,0].set_yscale('log')\n",
    "Ax[0,0].set_xlabel(r'$  {\\epsilon=\\frac{|T-T_c|}{T_c}} $')\n",
    "Ax[0,0].set_ylabel(r'${\\chi}$')\n",
    "Ax[0,0].text(0.5, 0.95,'$\\gamma$={:.2f}, $\\chi_0$={:.3e}'.format(exponent,chi_0), transform=Ax[0,0].transAxes, fontsize=11,verticalalignment='top')\n",
    "#Fig.savefig(\"plots/susceptibility_scaling_fit_T<Tcrit.png\",format='png',dpi=200)"
   ]
  },
  {
   "cell_type": "code",
   "execution_count": null,
   "metadata": {},
   "outputs": [],
   "source": [
    "popt, pcov = curve_fit(lambda x,n: LinearFunction(x,-1,n),np.log(Results[Mask,1]),np.log(Results[Mask,2]),p0=[-3],maxfev=50000,bounds=([-np.inf],[np.inf]))\n",
    "print(popt)\n",
    "xi_0 = np.exp(popt[0])\n",
    "print(\"exponent={:.2f}, xi_0={:.4f}\".format(1,xi_0))"
   ]
  },
  {
   "cell_type": "code",
   "execution_count": null,
   "metadata": {},
   "outputs": [],
   "source": [
    "Fig, Ax = plt.subplots(1,1,squeeze=False,figsize=(5,3),dpi=200)\n",
    "Ax[0,0].plot(Results[Mask,1],Results[Mask,2],'.')\n",
    "Ax[0,0].plot(Results[Mask,1],PowerLaw(Results[Mask,1],xi_0,1))\n",
    "Ax[0,0].set_xscale('log')\n",
    "Ax[0,0].set_yscale('log')\n",
    "Ax[0,0].set_xlabel(r'$\\epsilon=\\frac{|T-T_c|}{T_c}$')\n",
    "Ax[0,0].set_ylabel(r'$\\frac{\\xi}{\\sigma}$')\n",
    "Ax[0,0].text(0.5, 0.95,'$\\\\nu$={:.2f}, $\\\\xi_0$={:.3e}'.format(1,xi_0), transform=Ax[0,0].transAxes, fontsize=11,verticalalignment='top')\n",
    "Fig.savefig(\"plots/corrlength_scaling_fit_T>Tcrit.png\",format='png',dpi=200)"
   ]
  },
  {
   "cell_type": "markdown",
   "metadata": {},
   "source": [
    "## Anomalous fit"
   ]
  },
  {
   "cell_type": "code",
   "execution_count": null,
   "metadata": {},
   "outputs": [],
   "source": [
    "def anomalousOrnsteinZernike(k,T,chi,xi):\n",
    "    return (T*chi*(1.0+(k*xi)**2)**(-7/8))"
   ]
  },
  {
   "cell_type": "code",
   "execution_count": null,
   "metadata": {},
   "outputs": [],
   "source": [
    "def computeMultipleCorrelationLengthsAnomalous(Tc,kSquareMin,kSquareMax):\n",
    "    Directory = getDirectoryPathFromDialog(dataPath)\n",
    "    files = glob.glob(Directory+\"/StructureFactors_*\")\n",
    "    Temperatures = []\n",
    "    RedTemperatures = []\n",
    "    Susceptibilities = []\n",
    "    CorrelationLengths = []\n",
    "    i = 0\n",
    "    Fig, Ax = plt.subplots(len(files),2,squeeze=False, figsize=(14,70),dpi=100)\n",
    "    Fig.subplots_adjust(hspace=0.3)\n",
    "    for file in sorted(files):\n",
    "        Temperature = float(re.search(r'(?<=T=)[\\d]*.[\\d]*',file).group())\n",
    "        Temperatures.append(Temperature)\n",
    "        RedTemperatures.append(abs(Temperature-Tc)/Tc)\n",
    "        StructureFactorResults = readStructureFactorValues(file,1)\n",
    "        y = (StructureFactorResults[:,4])**(-8.0/7.0)\n",
    "        x = (StructureFactorResults[:,0])**2\n",
    "        Mask = ((x > kSquareMin) & (x < kSquareMax))\n",
    "        popt, pcov = curve_fit(LinearFunction,x[Mask],y[Mask],p0=[1,1],maxfev=50000,bounds=([0,0],[np.inf,np.inf]))\n",
    "        Susceptibility = 1.0/(Temperature*(popt[1]**(7.0/8.0)))\n",
    "        Susceptibilities.append(Susceptibility)\n",
    "        CorrelationLength = np.sqrt(popt[0]/popt[1])\n",
    "        CorrelationLengths.append(CorrelationLength)\n",
    "        Ax[i,0].plot(x[Mask], y[Mask],'.')\n",
    "        Ax[i,0].plot(x[Mask],LinearFunction(x[Mask],*popt),label=r'$\\chi$='+str(Susceptibility)+r', $\\frac{\\xi}{\\sigma}=$'+str(CorrelationLength))\n",
    "        Ax[i,0].text(0.05, 0.75,'m={:.2f}, n={:.3e}'.format(popt[0],popt[1]), transform=Ax[i,0].transAxes, fontsize=14,verticalalignment='top')\n",
    "        Ax[i,0].set_xlabel(r'$\\left( k\\sigma \\right)^{2}$')\n",
    "        Ax[i,0].set_ylabel(r'$\\left( S_{cc}(k) \\right)^{-8/7}$')\n",
    "        Ax[i,0].set_title(r'T='+str(Temperature))\n",
    "        Ax[i,0].legend(loc='upper left')\n",
    "        Ax[i,1].plot(StructureFactorResults[:90,0],StructureFactorResults[:90,4],'.')\n",
    "        Ax[i,1].plot(StructureFactorResults[:90,0],anomalousOrnsteinZernike(StructureFactorResults[:90,0],Temperature,Susceptibility,CorrelationLength))\n",
    "        #Ax[i,0].set_xlim(0,1.5)\n",
    "        #Ax[i,0].set_xscale('log')\n",
    "        #Ax[i,0].set_yscale('log')\n",
    "        i+=1\n",
    "    return Temperatures, RedTemperatures, Susceptibilities, CorrelationLengths"
   ]
  },
  {
   "cell_type": "code",
   "execution_count": null,
   "metadata": {
    "scrolled": false
   },
   "outputs": [],
   "source": [
    "Temperatures, RedTemperatures, Susceptibilities, CorrelationLengths = computeMultipleCorrelationLengthsAnomalous(0.7469,0.04,0.15)"
   ]
  },
  {
   "cell_type": "code",
   "execution_count": null,
   "metadata": {},
   "outputs": [],
   "source": [
    "Tcrit = 0.7469\n",
    "Mask = np.array(Temperatures) > 0.8"
   ]
  },
  {
   "cell_type": "code",
   "execution_count": null,
   "metadata": {},
   "outputs": [],
   "source": [
    "Results = np.column_stack([Temperatures,RedTemperatures,Susceptibilities,CorrelationLengths])\n",
    "print(Results[Mask])"
   ]
  },
  {
   "cell_type": "code",
   "execution_count": null,
   "metadata": {},
   "outputs": [],
   "source": [
    "popt, pcov = curve_fit(LinearFunction,np.log(Results[Mask,1]),np.log(Results[Mask,2]),p0=[-1.75,-1],maxfev=50000,bounds=([-2.751,-np.inf],[-1.75,np.inf]))\n",
    "print(popt)\n",
    "exponent=-popt[0]\n",
    "chi_0 = np.exp(popt[1])\n",
    "print(\"exponent={:.2f}, chi_0={:.4f}\".format(exponent,chi_0))"
   ]
  },
  {
   "cell_type": "code",
   "execution_count": null,
   "metadata": {},
   "outputs": [],
   "source": [
    "Fig, Ax = plt.subplots(1,1,squeeze=False,figsize=(5,3),dpi=200)\n",
    "Ax[0,0].plot(Results[Mask,1],Results[Mask,2],'.')\n",
    "Ax[0,0].plot(Results[Mask,1],PowerLaw(Results[Mask,1],chi_0,exponent))\n",
    "Ax[0,0].set_xscale('log')\n",
    "Ax[0,0].set_yscale('log')\n",
    "Ax[0,0].set_xlabel(r'$  {\\epsilon=\\frac{|T-T_c|}{T_c}} $')\n",
    "Ax[0,0].set_ylabel(r'${\\chi}$')"
   ]
  },
  {
   "cell_type": "code",
   "execution_count": null,
   "metadata": {},
   "outputs": [],
   "source": [
    "popt, pcov = curve_fit(LinearFunction,np.log(Results[Mask,1]),np.log(Results[Mask,3]),p0=[-1.,-3],maxfev=50000,bounds=([-2.01,-np.inf],[-1.0,np.inf]))\n",
    "print(popt)\n",
    "exponent=-popt[0]\n",
    "xi_0 = np.exp(popt[1])\n",
    "print(\"exponent={:.2f}, xi_0={:.4f}\".format(exponent,xi_0))"
   ]
  },
  {
   "cell_type": "code",
   "execution_count": null,
   "metadata": {},
   "outputs": [],
   "source": [
    "Fig, Ax = plt.subplots(1,1,squeeze=False,figsize=(5,3),dpi=200)\n",
    "Ax[0,0].plot(Results[Mask,1],Results[Mask,3],'.')\n",
    "Ax[0,0].plot(Results[Mask,1],PowerLaw(Results[Mask,1],xi_0,exponent))\n",
    "Ax[0,0].set_xscale('log')\n",
    "Ax[0,0].set_yscale('log')\n",
    "Ax[0,0].set_xlabel(r'$\\epsilon=\\frac{|T-T_c|}{T_c}$')\n",
    "Ax[0,0].set_ylabel(r'$\\frac{\\xi}{\\sigma}$')"
   ]
  },
  {
   "cell_type": "markdown",
   "metadata": {},
   "source": [
    "## Positions plotting"
   ]
  },
  {
   "cell_type": "code",
   "execution_count": null,
   "metadata": {},
   "outputs": [],
   "source": [
    "APositions, BPositions = readParticleConfigFromDialog(9)"
   ]
  },
  {
   "cell_type": "code",
   "execution_count": null,
   "metadata": {},
   "outputs": [],
   "source": [
    "Fig, Host = plt.subplots(1,1,squeeze=False,figsize=(7,7),dpi =200)\n",
    "Host[0,0].plot(APositions[:,0],APositions[:,1],'.',color='b',ms=2)\n",
    "Host[0,0].plot(BPositions[:,0],BPositions[:,1],'.',color='darkorange',ms=2)\n",
    "Host[0,0].set_xlabel('x')\n",
    "Host[0,0].set_ylabel('y')\n",
    "Host[0,0].set_xlim(0,1)\n",
    "Host[0,0].set_ylim(0,1)\n",
    "#Host[0,0].set_title('config for T=0.84')\n",
    "#Fig.savefig('Particle_config_T=0.84_structure_factors_not_equilibrated'+'.png',format='png')"
   ]
  }
 ],
 "metadata": {
  "kernelspec": {
   "display_name": "Python 3",
   "language": "python",
   "name": "python3"
  },
  "language_info": {
   "codemirror_mode": {
    "name": "ipython",
    "version": 3
   },
   "file_extension": ".py",
   "mimetype": "text/x-python",
   "name": "python",
   "nbconvert_exporter": "python",
   "pygments_lexer": "ipython3",
   "version": "3.8.5"
  }
 },
 "nbformat": 4,
 "nbformat_minor": 5
}
