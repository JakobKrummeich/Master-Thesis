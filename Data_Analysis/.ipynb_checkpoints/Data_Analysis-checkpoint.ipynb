{
 "cells": [
  {
   "cell_type": "code",
   "execution_count": null,
   "metadata": {},
   "outputs": [],
   "source": [
    "import numpy as np\n",
    "import os\n",
    "import matplotlib.pyplot as plt\n",
    "from scipy.optimize import curve_fit\n",
    "import glob\n",
    "import re\n",
    "\n",
    "%matplotlib inline"
   ]
  },
  {
   "cell_type": "code",
   "execution_count": null,
   "metadata": {},
   "outputs": [],
   "source": [
    "def Gaussian(x, a, Mean, Sigma):\n",
    "    return a * np.exp(-((x - Mean)**2 / (2 * Sigma**2)))"
   ]
  },
  {
   "cell_type": "code",
   "execution_count": null,
   "metadata": {},
   "outputs": [],
   "source": [
    "def ReadParticleConfig(path):\n",
    "    with open(path,'r') as F:\n",
    "        Data = F.read()\n",
    "    Data = Data.strip()\n",
    "    FirstRow = Data.split(sep='\\n')[0]\n",
    "    NumberOfAParticles = int(FirstRow.split()[6].strip('|'))\n",
    "    NumberOfBParticles = int(FirstRow.split()[8].strip('|'))\n",
    "    ListOfRows = Data.split(sep='\\n')[1:]\n",
    "    if (len(ListOfRows) > 0):\n",
    "        NumberOfColumns = len(ListOfRows[0].split()) - 2 \n",
    "    else:\n",
    "        NumberOfColumns = 0\n",
    "    APositions = np.empty((NumberOfAParticles, NumberOfColumns))\n",
    "    BPositions = np.empty((NumberOfBParticles, NumberOfColumns))\n",
    "    AIndex = 0\n",
    "    BIndex = 0\n",
    "    \n",
    "    for i in range(len(ListOfRows)):\n",
    "        if (ListOfRows[i].split()[NumberOfColumns + 1] == 'A'):\n",
    "            for j in range(NumberOfColumns):\n",
    "                APositions[AIndex,j] = ListOfRows[i].split()[j+1]\n",
    "            AIndex += 1\n",
    "        else:\n",
    "            for j in range(NumberOfColumns):\n",
    "                BPositions[BIndex,j] = ListOfRows[i].split()[j+1]\n",
    "            BIndex += 1\n",
    "    return APositions, BPositions"
   ]
  },
  {
   "cell_type": "code",
   "execution_count": null,
   "metadata": {},
   "outputs": [],
   "source": [
    "def ReadParticleNumberEvolution(path):\n",
    "    with open(path,'r') as F:\n",
    "        Data = F.read()\n",
    "    Data = Data.strip()\n",
    "    ListOfData = Data.split(sep='\\n')\n",
    "    NumberOfEntries = len(ListOfData)\n",
    "    Evolution = np.empty(NumberOfEntries)\n",
    "    for i in range(NumberOfEntries):\n",
    "        Evolution[i] = ListOfData[i]\n",
    "    return Evolution"
   ]
  },
  {
   "cell_type": "code",
   "execution_count": null,
   "metadata": {},
   "outputs": [],
   "source": [
    "def computeEquilibriumAverage(Evolution):\n",
    "    n = 0\n",
    "    while (n < len(Evolution)):\n",
    "        Average = np.mean(Evolution[n:])\n",
    "        Deviations = np.abs(Average-Evolution[n:])\n",
    "        AverageDeviation = np.mean(Deviations)\n",
    "        if (np.abs(Average-Evolution[n]) < AverageDeviation):\n",
    "            return Average,AverageDeviation,n\n",
    "        n += 1\n",
    "    return np.mean(Evolution[:]), np.mean(np.abs(np.mean(Evolution[:])-Evolution[:])), 0"
   ]
  },
  {
   "cell_type": "markdown",
   "metadata": {},
   "source": [
    "## Plot particle positions"
   ]
  },
  {
   "cell_type": "code",
   "execution_count": null,
   "metadata": {},
   "outputs": [],
   "source": [
    "APositions, BPositions = ReadParticleConfig(\"data/ParticleConfig.dat\")"
   ]
  },
  {
   "cell_type": "code",
   "execution_count": null,
   "metadata": {
    "scrolled": false
   },
   "outputs": [],
   "source": [
    "Fig, Host = plt.subplots(1,1,squeeze=False,figsize=(5,5),dpi =100)\n",
    "Host[0,0].plot(APositions[:,0],APositions[:,1],'.',color='b')\n",
    "Host[0,0].plot(BPositions[:,0],BPositions[:,1],'.',color='darkorange')\n",
    "Host[0,0].set_xlabel('x')\n",
    "Host[0,0].set_ylabel('y')\n",
    "Host[0,0].set_xlim(0,1)\n",
    "Host[0,0].set_ylim(0,1)"
   ]
  },
  {
   "cell_type": "markdown",
   "metadata": {},
   "source": [
    "## Evolution of Particle number"
   ]
  },
  {
   "cell_type": "code",
   "execution_count": null,
   "metadata": {},
   "outputs": [],
   "source": [
    "NumberOfAEvolution = ReadParticleNumberEvolution(\"data/NumbersOfA_T=0.800000_N=1000_Δµ=0.000000.dat\")"
   ]
  },
  {
   "cell_type": "code",
   "execution_count": null,
   "metadata": {},
   "outputs": [],
   "source": [
    "NumberOfAAverage, AverageNumberDeviation, NumberIndex = computeEquilibriumAverage(NumberOfAEvolution)\n",
    "print(NumberOfAAverage, AverageNumberDeviation, NumberIndex)"
   ]
  },
  {
   "cell_type": "code",
   "execution_count": null,
   "metadata": {},
   "outputs": [],
   "source": [
    "Fig, Host = plt.subplots(1,1,squeeze=False, figsize = (12,5), dpi = 100)\n",
    "Host[0,0].plot(NumberOfAEvolution)\n",
    "Host[0,0].plot(np.ones(len(NumberOfAEvolution))*NumberOfAAverage,color='darkorange',label='Gleichgewichts-Mittel')\n",
    "Host[0,0].plot(np.ones(len(NumberOfAEvolution))*NumberOfAAverage+AverageNumberDeviation,color='darkorange',alpha= 0.5)\n",
    "Host[0,0].plot(np.ones(len(NumberOfAEvolution))*NumberOfAAverage-AverageNumberDeviation,color='darkorange',alpha = 0.5)\n",
    "Host[0,0].vlines(NumberIndex, min(NumberOfAEvolution), max(NumberOfAEvolution), color = 'k', alpha = 0.5)"
   ]
  },
  {
   "cell_type": "markdown",
   "metadata": {},
   "source": [
    "## Gaussian fit"
   ]
  },
  {
   "cell_type": "code",
   "execution_count": null,
   "metadata": {},
   "outputs": [],
   "source": [
    "def computeHist(Evolution):\n",
    "    Min = int(np.min(Evolution))\n",
    "    Max = int(np.max(Evolution))\n",
    "    yValues = np.zeros(Max - Min + 1)\n",
    "    xValues = np.arange(Min,Max + 1)\n",
    "    for Entry in Evolution:\n",
    "        yValues[int(Entry)-Min] += 1\n",
    "    return yValues,xValues"
   ]
  },
  {
   "cell_type": "code",
   "execution_count": null,
   "metadata": {},
   "outputs": [],
   "source": [
    "yValues, xValues = computeHist(NumberOfAEvolution[NumberIndex:])"
   ]
  },
  {
   "cell_type": "code",
   "execution_count": null,
   "metadata": {},
   "outputs": [],
   "source": [
    "popt, pcov = curve_fit(Gaussian,xValues,yValues,p0=[2000,NumberOfAAverage,AverageNumberDeviation],maxfev=100000)\n",
    "print('mean='+str(round(popt[1],6))+'+-'+str(round(popt[2],5))+' , Max: '+str(round(popt[0],3)))"
   ]
  },
  {
   "cell_type": "code",
   "execution_count": null,
   "metadata": {},
   "outputs": [],
   "source": [
    "Fig, Ax = plt.subplots(1,1,squeeze=False,figsize=(5,5))\n",
    "Ax[0,0].plot(xValues, yValues,'.')\n",
    "Ax[0,0].plot(xValues,Gaussian(xValues,*popt))"
   ]
  },
  {
   "cell_type": "code",
   "execution_count": null,
   "metadata": {},
   "outputs": [],
   "source": []
  }
 ],
 "metadata": {
  "kernelspec": {
   "display_name": "Python 3",
   "language": "python",
   "name": "python3"
  },
  "language_info": {
   "codemirror_mode": {
    "name": "ipython",
    "version": 3
   },
   "file_extension": ".py",
   "mimetype": "text/x-python",
   "name": "python",
   "nbconvert_exporter": "python",
   "pygments_lexer": "ipython3",
   "version": "3.8.5"
  }
 },
 "nbformat": 4,
 "nbformat_minor": 2
}
