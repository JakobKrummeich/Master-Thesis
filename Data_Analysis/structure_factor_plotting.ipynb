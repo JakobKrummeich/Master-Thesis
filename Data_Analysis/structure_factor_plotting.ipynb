{
 "cells": [
  {
   "cell_type": "code",
   "execution_count": null,
   "id": "22572406",
   "metadata": {},
   "outputs": [],
   "source": [
    "import numpy as np\n",
    "import os\n",
    "import matplotlib.pyplot as plt\n",
    "from scipy.optimize import curve_fit\n",
    "import glob\n",
    "import re\n",
    "from tkinter import filedialog as fd\n",
    "from tkinter import *\n",
    "\n",
    "%matplotlib inline"
   ]
  },
  {
   "cell_type": "code",
   "execution_count": null,
   "id": "0522dd5d",
   "metadata": {},
   "outputs": [],
   "source": [
    "def readStructureFactorValues(path):\n",
    "    with open(path,'r') as F:\n",
    "        Data = F.read()\n",
    "    Data = Data.strip()\n",
    "    FirstRow = Data.split(sep='\\n')[0]\n",
    "    ListOfRows = Data.split(sep='\\n')[1:]\n",
    "    if (len(ListOfRows) > 0):\n",
    "        NumberOfColumns = len(ListOfRows[0].split()) - 1\n",
    "    else:\n",
    "        NumberOfColumns = 0\n",
    "    AAStructureFactorList = []\n",
    "    BBStructureFactorList = []\n",
    "    ABStructureFactorList = []\n",
    "    ConcentrationStructureFactorList = []\n",
    "    kValueList = []\n",
    "    for Row in ListOfRows:\n",
    "        kValueList.append(Row.split()[0])\n",
    "        AAStructureFactorList.append(Row.split()[1])\n",
    "        BBStructureFactorList.append(Row.split()[2])\n",
    "        ABStructureFactorList.append(Row.split()[3])\n",
    "        ConcentrationStructureFactorList.append(Row.split()[4])\n",
    "    return np.array(kValueList,dtype = float), np.array(AAStructureFactorList, dtype = float), np.array(BBStructureFactorList, dtype = float), np.array(ABStructureFactorList, dtype=float), np.array(ConcentrationStructureFactorList, dtype = float)"
   ]
  },
  {
   "cell_type": "code",
   "execution_count": null,
   "id": "d1cbafe5",
   "metadata": {},
   "outputs": [],
   "source": [
    "kValues, AAStruct, BBStruct, ABStruct, ConcStruct = readStructureFactorValues(\"structure_factor_T=0.9.dat\")"
   ]
  },
  {
   "cell_type": "code",
   "execution_count": null,
   "id": "4cf68684",
   "metadata": {},
   "outputs": [],
   "source": [
    "Fig, Ax = plt.subplots(1,1,squeeze=False, figsize=(6,6))\n",
    "Ax[0,0].plot(kValues, AAStruct)\n",
    "#Ax[0,0].plot(kValues, BBStruct, '.')\n",
    "#Ax[0,0].set_ylim(0.0, 3.0)"
   ]
  },
  {
   "cell_type": "code",
   "execution_count": null,
   "id": "5b211b37",
   "metadata": {},
   "outputs": [],
   "source": [
    "Fig, Ax = plt.subplots(1,1,squeeze=False, figsize=(6,6))\n",
    "Ax[0,0].plot(kValues, BBStruct)\n",
    "#Ax[0,0].set_ylim(0.0, 3.0)"
   ]
  },
  {
   "cell_type": "code",
   "execution_count": null,
   "id": "6ed38c86",
   "metadata": {},
   "outputs": [],
   "source": [
    "Fig, Ax = plt.subplots(1,1,squeeze=False, figsize=(6,6))\n",
    "Ax[0,0].plot(kValues, ABStruct)\n",
    "#Ax[0,0].set_ylim(0.0, 3.0)"
   ]
  },
  {
   "cell_type": "code",
   "execution_count": null,
   "id": "6fffcbfc",
   "metadata": {},
   "outputs": [],
   "source": [
    "Fig, Ax = plt.subplots(1,1,squeeze=False, figsize=(6,6))\n",
    "Ax[0,0].plot(kValues, ConcStruct)\n",
    "#Ax[0,0].set_ylim(0.0, 3.0)"
   ]
  },
  {
   "cell_type": "code",
   "execution_count": null,
   "id": "d85538d8",
   "metadata": {},
   "outputs": [],
   "source": []
  }
 ],
 "metadata": {
  "kernelspec": {
   "display_name": "Python 3",
   "language": "python",
   "name": "python3"
  },
  "language_info": {
   "codemirror_mode": {
    "name": "ipython",
    "version": 3
   },
   "file_extension": ".py",
   "mimetype": "text/x-python",
   "name": "python",
   "nbconvert_exporter": "python",
   "pygments_lexer": "ipython3",
   "version": "3.8.5"
  }
 },
 "nbformat": 4,
 "nbformat_minor": 5
}
