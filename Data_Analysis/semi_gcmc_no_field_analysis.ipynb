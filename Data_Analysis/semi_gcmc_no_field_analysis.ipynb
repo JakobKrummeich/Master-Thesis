{
 "cells": [
  {
   "cell_type": "code",
   "execution_count": null,
   "metadata": {},
   "outputs": [],
   "source": [
    "import numpy as np\n",
    "import os\n",
    "import matplotlib.pyplot as plt\n",
    "from scipy.optimize import curve_fit\n",
    "import glob\n",
    "import re\n",
    "from tkinter import filedialog as fd\n",
    "from tkinter import *\n",
    "from scipy.stats import lognorm\n",
    "\n",
    "%matplotlib inline"
   ]
  },
  {
   "cell_type": "code",
   "execution_count": null,
   "metadata": {},
   "outputs": [],
   "source": [
    "def Gaussian(x, a, Mean, Sigma):\n",
    "    return a * np.exp(-((x - Mean)**2 / (2 * Sigma**2)))\n",
    "\n",
    "def LogNorm(x, a, Mu, Sigma):\n",
    "    return a/(x*Sigma*np.sqrt(2*np.pi))*np.exp(-(np.log(x)-Mu)**2/(2.0*Sigma**2))"
   ]
  },
  {
   "cell_type": "code",
   "execution_count": null,
   "metadata": {},
   "outputs": [],
   "source": [
    "def readParticleConfig(path):\n",
    "    with open(path,'r') as F:\n",
    "        Data = F.read()\n",
    "    Data = Data.strip()\n",
    "    FirstRow = Data.split(sep='\\n')[0]\n",
    "    NumberOfAParticles = int(FirstRow.split()[6].strip('|'))\n",
    "    NumberOfBParticles = int(FirstRow.split()[8].strip('|'))\n",
    "    ListOfRows = Data.split(sep='\\n')[1:]\n",
    "    if (len(ListOfRows) > 0):\n",
    "        NumberOfColumns = len(ListOfRows[0].split()) - 2 \n",
    "    else:\n",
    "        NumberOfColumns = 0\n",
    "    APositions = np.empty((NumberOfAParticles, NumberOfColumns))\n",
    "    BPositions = np.empty((NumberOfBParticles, NumberOfColumns))\n",
    "    AIndex = 0\n",
    "    BIndex = 0\n",
    "    \n",
    "    for i in range(len(ListOfRows)):\n",
    "        if (ListOfRows[i].split()[NumberOfColumns + 1] == 'A'):\n",
    "            for j in range(NumberOfColumns):\n",
    "                APositions[AIndex,j] = ListOfRows[i].split()[j+1]\n",
    "            AIndex += 1\n",
    "        else:\n",
    "            for j in range(NumberOfColumns):\n",
    "                BPositions[BIndex,j] = ListOfRows[i].split()[j+1]\n",
    "            BIndex += 1\n",
    "    return APositions, BPositions\n",
    "\n",
    "def getFilePathFromDialog():\n",
    "    root = Tk()\n",
    "    FilePath = fd.askopenfilename()\n",
    "    root.destroy()\n",
    "    return FilePath\n",
    "\n",
    "def getDirectoryPathFromDialog():\n",
    "    root = Tk()\n",
    "    Directory = fd.askdirectory()\n",
    "    root.destroy()\n",
    "    return Directory\n",
    "\n",
    "def readParticleConfigFromDialog():\n",
    "    return readParticleConfig(getFilePathFromDialog())"
   ]
  },
  {
   "cell_type": "code",
   "execution_count": null,
   "metadata": {},
   "outputs": [],
   "source": [
    "def readSeries(path):\n",
    "    with open(path,'r') as F:\n",
    "        Data = F.read()\n",
    "    Data = Data.strip()\n",
    "    ListOfData = Data.split(sep='\\n')[1:]\n",
    "    NumberOfEntries = len(ListOfData)\n",
    "    Series = np.empty(NumberOfEntries)\n",
    "    for i in range(NumberOfEntries):\n",
    "        Series[i] = ListOfData[i]\n",
    "    return Series\n",
    "\n",
    "def readSeriesFromDialog():\n",
    "    return readSeries(getFilePathFromDialog())"
   ]
  },
  {
   "cell_type": "code",
   "execution_count": null,
   "metadata": {},
   "outputs": [],
   "source": [
    "def computeEquilibriumAverage(Series):\n",
    "    n = 0\n",
    "    while (n < len(Series)):\n",
    "        Average = np.mean(Series[n:])\n",
    "        Deviations = np.abs(Average-Series[n:])\n",
    "        AverageDeviation = np.mean(Deviations)\n",
    "        if (np.abs(Average-Series[n]) < AverageDeviation):\n",
    "            return Average,AverageDeviation,n\n",
    "        n += 1\n",
    "    return np.mean(Series[:]), np.mean(np.abs(np.mean(Series[:])-Series[:])), 0"
   ]
  },
  {
   "cell_type": "markdown",
   "metadata": {},
   "source": [
    "## Plot particle positions"
   ]
  },
  {
   "cell_type": "code",
   "execution_count": null,
   "metadata": {},
   "outputs": [],
   "source": [
    "APositions, BPositions = ReadParticleConfigFromDialog()"
   ]
  },
  {
   "cell_type": "code",
   "execution_count": null,
   "metadata": {
    "scrolled": false
   },
   "outputs": [],
   "source": [
    "Fig, Host = plt.subplots(1,1,squeeze=False,figsize=(5,5),dpi =100)\n",
    "Host[0,0].plot(APositions[:,0],APositions[:,1],'.',color='b')\n",
    "Host[0,0].plot(BPositions[:,0],BPositions[:,1],'.',color='darkorange')\n",
    "Host[0,0].set_xlabel('x')\n",
    "Host[0,0].set_ylabel('y')\n",
    "Host[0,0].set_xlim(0,1)\n",
    "Host[0,0].set_ylim(0,1)"
   ]
  },
  {
   "cell_type": "markdown",
   "metadata": {},
   "source": [
    "## Series of particle number"
   ]
  },
  {
   "cell_type": "code",
   "execution_count": null,
   "metadata": {},
   "outputs": [],
   "source": [
    "NumberOfASeries = ReadSeriesFromDialog()"
   ]
  },
  {
   "cell_type": "code",
   "execution_count": null,
   "metadata": {},
   "outputs": [],
   "source": [
    "NumberOfAAverage, AverageNumberDeviation, NumberIndex = computeEquilibriumAverage(NumberOfASeries)\n",
    "print(NumberOfAAverage, AverageNumberDeviation, NumberIndex)"
   ]
  },
  {
   "cell_type": "code",
   "execution_count": null,
   "metadata": {},
   "outputs": [],
   "source": [
    "Fig, Host = plt.subplots(1,1,squeeze=False, figsize = (12,5), dpi = 100)\n",
    "Host[0,0].plot(NumberOfASeries,'.')\n",
    "Host[0,0].plot(np.ones(len(NumberOfASeries))*NumberOfAAverage,color='darkorange',label='Gleichgewichts-Mittel')\n",
    "Host[0,0].plot(np.ones(len(NumberOfASeries))*NumberOfAAverage+AverageNumberDeviation,color='darkorange',alpha= 0.5)\n",
    "Host[0,0].plot(np.ones(len(NumberOfASeries))*NumberOfAAverage-AverageNumberDeviation,color='darkorange',alpha = 0.5)\n",
    "Host[0,0].vlines(NumberIndex, min(NumberOfASeries), max(NumberOfASeries), color = 'k', alpha = 0.5)"
   ]
  },
  {
   "cell_type": "markdown",
   "metadata": {},
   "source": [
    "## Series of potential energy"
   ]
  },
  {
   "cell_type": "code",
   "execution_count": null,
   "metadata": {},
   "outputs": [],
   "source": [
    "PotEnergySeries = ReadSeriesFromDialog()"
   ]
  },
  {
   "cell_type": "code",
   "execution_count": null,
   "metadata": {},
   "outputs": [],
   "source": [
    "PotEnergyAverage, AverageEnergyDeviation, EnergyIndex = computeEquilibriumAverage(PotEnergySeries)\n",
    "print(PotEnergyAverage, AverageEnergyDeviation, EnergyIndex)"
   ]
  },
  {
   "cell_type": "code",
   "execution_count": null,
   "metadata": {},
   "outputs": [],
   "source": [
    "Fig, Host = plt.subplots(1,1,squeeze=False, figsize = (12,5), dpi = 100)\n",
    "Host[0,0].plot(PotEnergySeries,'.')\n",
    "Host[0,0].plot(np.ones(len(PotEnergySeries))*PotEnergyAverage,color='darkorange',label='Gleichgewichts-Mittel')\n",
    "Host[0,0].plot(np.ones(len(PotEnergySeries))*PotEnergyAverage+AverageEnergyDeviation,color='darkorange',alpha= 0.5)\n",
    "Host[0,0].plot(np.ones(len(PotEnergySeries))*PotEnergyAverage-AverageEnergyDeviation,color='darkorange',alpha = 0.5)\n",
    "Host[0,0].vlines(EnergyIndex, min(PotEnergySeries), max(PotEnergySeries), color = 'k', alpha = 0.5)"
   ]
  },
  {
   "cell_type": "markdown",
   "metadata": {},
   "source": [
    "## Gaussian fits"
   ]
  },
  {
   "cell_type": "code",
   "execution_count": null,
   "metadata": {},
   "outputs": [],
   "source": [
    "def computeHist(Series):\n",
    "    Min = int(np.min(Series))\n",
    "    Max = int(np.max(Series))\n",
    "    yValues = np.zeros(Max - Min + 1)\n",
    "    xValues = np.arange(Min,Max + 1)\n",
    "    for Entry in Series:\n",
    "        yValues[int(Entry)-Min] += 1\n",
    "    return yValues,xValues\n",
    "\n",
    "def smoothCurve(RawCurve,WindowLength):\n",
    "    SmoothedArray = np.zeros(len(RawCurve))\n",
    "    OffsetMax = WindowLength//2\n",
    "    for i in range(len(RawCurve)):\n",
    "        Average = 0.0\n",
    "        NumberOfDataPoints = 0\n",
    "        for Offset in np.arange(-OffsetMax, OffsetMax, 1):\n",
    "            if (i+Offset >= 0 and i+Offset < len(RawCurve)):\n",
    "                Average += RawCurve[i+Offset]\n",
    "                NumberOfDataPoints += 1\n",
    "        SmoothedArray[i] = Average/NumberOfDataPoints\n",
    "    return SmoothedArray\n",
    "\n",
    "def lumpData(yData,xData,WindowLength):\n",
    "    LumpedyData = np.zeros(len(yData) // WindowLength)\n",
    "    LumpedxData = np.zeros(len(yData) // WindowLength)\n",
    "    i = 0\n",
    "    Index = 0\n",
    "    for Index in range(len(LumpedyData)):\n",
    "        LumpedxData[Index] = xData[i]+WindowLength/2\n",
    "        NewAverage = 0.0\n",
    "        NumberOfDataPoints = 0\n",
    "        for j in range(WindowLength):\n",
    "            if (i+j < len(yData)):\n",
    "                NewAverage += yData[i+j]\n",
    "                NumberOfDataPoints += 1\n",
    "        LumpedyData[Index] = NewAverage/NumberOfDataPoints\n",
    "        i += WindowLength\n",
    "    return LumpedyData, LumpedxData\n",
    "\n",
    "def computeLocalMaxima(LumpedyData,LumpedxData):\n",
    "    LocalMaxima = []\n",
    "    for i in range(len(LumpedData)):\n",
    "        if (i-1 >= 0 and i+1 < len(LumpedyData)):\n",
    "            if (LumpedyData[i-1] < LumpedyData[i] and LumpedyData[i+1] < LumpedyData[i]):\n",
    "                LocalMaxima.append(LumpedxData[i])\n",
    "    return LocalMaxima"
   ]
  },
  {
   "cell_type": "code",
   "execution_count": null,
   "metadata": {},
   "outputs": [],
   "source": [
    "yValues, xValues = computeHist(NumberOfASeries[NumberIndex:])"
   ]
  },
  {
   "cell_type": "code",
   "execution_count": null,
   "metadata": {},
   "outputs": [],
   "source": [
    "GaussParameters, GaussCovariance = curve_fit(Gaussian,xValues,yValues,p0=[max(yValues),10,30],bounds = ([0,0,0],[1.2*max(yValues),1000,500]),maxfev=1000000)\n",
    "print('mean='+str(round(GaussParameters[1],3))+'+-'+str(round(GaussParameters[2],3))+' , Max: '+str(round(GaussParameters[0],3)))"
   ]
  },
  {
   "cell_type": "code",
   "execution_count": null,
   "metadata": {},
   "outputs": [],
   "source": [
    "LogNormParameters, LogNormCovariance = curve_fit(LogNorm,xValues,yValues,p0=[max(yValues),5,1],maxfev=1000000)\n",
    "print('a='+str(round(LogNormParameters[0],1))+'| mu = '+str(round(LogNormParameters[1],2))+' | sigma = '+str(round(LogNormParameters[2],3)))\n",
    "print('mode = '+str(round(np.exp(LogNormParameters[1]-LogNormParameters[2]**2),2)))"
   ]
  },
  {
   "cell_type": "code",
   "execution_count": null,
   "metadata": {},
   "outputs": [],
   "source": [
    "def computeUncertaintyPositionsOfLogNormFit(xValues,LogNormParameters,RatioOfMax):\n",
    "    Positions = np.zeros(2)\n",
    "    Mode = np.exp(LogNormParameters[1]-LogNormParameters[2]**2)\n",
    "    Max = LogNorm(Mode,*LogNormParameters)\n",
    "    LeftPos = int(Mode)\n",
    "    while (LogNorm(LeftPos,*LogNormParameters) > Max*RatioOfMax and LeftPos > xValues[0]):\n",
    "        LeftPos -= 1\n",
    "    Positions[0] = LeftPos\n",
    "    RightPos = int(Mode)\n",
    "    while (LogNorm(RightPos,*LogNormParameters) > Max*RatioOfMax and RightPos < xValues[-1]):\n",
    "        RightPos += 1\n",
    "    Positions[1] = RightPos\n",
    "    return Positions"
   ]
  },
  {
   "cell_type": "code",
   "execution_count": null,
   "metadata": {},
   "outputs": [],
   "source": [
    "LogNormUncertaintyPositions = computeUncertaintyPositionsOfLogNormFit(xValues,LogNormParameters, 0.1)\n",
    "print(LogNormUncertaintyPositions)"
   ]
  },
  {
   "cell_type": "code",
   "execution_count": null,
   "metadata": {},
   "outputs": [],
   "source": [
    "Fig, Ax = plt.subplots(1,1,squeeze=False,figsize=(5,5))\n",
    "Ax[0,0].plot(xValues, yValues,'.')\n",
    "Ax[0,0].plot(xValues,Gaussian(xValues,*GaussParameters))\n",
    "Ax[0,0].plot(xValues,LogNorm(xValues,*LogNormParameters))\n",
    "Ax[0,0].vlines(LogNormUncertaintyPositions[0],np.min(yValues),np.max(yValues),color = 'k', alpha = 0.5)\n",
    "if (LogNormUncertaintyPositions[1] < np.max(xValues)):\n",
    "    Ax[0,0].vlines(LogNormUncertaintyPositions[1],np.min(yValues),np.max(yValues),color = 'k', alpha = 0.5)"
   ]
  },
  {
   "cell_type": "markdown",
   "metadata": {},
   "source": [
    "## Automatized data analysis"
   ]
  },
  {
   "cell_type": "code",
   "execution_count": null,
   "metadata": {},
   "outputs": [],
   "source": [
    "def computeResults():\n",
    "    Temperatures = []\n",
    "    NASeries = []\n",
    "    TotalNumberOfParticles = []\n",
    "    NumberOfDataPoints = 0\n",
    "    DirectoryPath = getDirectoryPathFromDialog()\n",
    "    for Directory in glob.glob(DirectoryPath+'/*'):\n",
    "        FileName = glob.glob(Directory+'/NA_Series*')[0]\n",
    "        NASeries.append(ReadSeries(FileName))\n",
    "        Temperatures.append(float(re.search(r'(?<=T=)[\\d]*\\.[\\d]*',FileName).group()))\n",
    "        TotalNumberOfParticles.append(float(re.search(r'(?<=N=)[\\d]*',FileName).group()))\n",
    "        NumberOfDataPoints += 1\n",
    "    FractionsOfA = np.zeros(NumberOfDataPoints)\n",
    "    Deviations = np.zeros((2,NumberOfDataPoints))\n",
    "    for i in range(NumberOfDataPoints):\n",
    "        NumberOfAAverage, AverageNumberDeviation, NumberIndex = computeEquilibriumAverage(NASeries[i])\n",
    "        yValues, xValues = computeHist(NASeries[i])\n",
    "        LogNormParameters, LogNormCovariance = curve_fit(LogNorm,xValues,yValues,p0=[max(yValues),5,1],maxfev=1000000)\n",
    "        LogNormUncertaintyPositions = computeUncertaintyPositionsOfLogNormFit(xValues,LogNormParameters, 0.1)\n",
    "        Mode = np.exp(LogNormParameters[1]-LogNormParameters[2]**2)\n",
    "        print('T=',Temperatures[i],':')\n",
    "        print('a='+str(round(LogNormParameters[0],1))+'| mu = '+str(round(LogNormParameters[1],2))+' | sigma = '+str(round(LogNormParameters[2],3)))\n",
    "        print('mode = '+str(round(Mode,2))+\" , uncertainty positions: \"+str(LogNormUncertaintyPositions))\n",
    "        FractionsOfA[i] = Mode/TotalNumberOfParticles[i]\n",
    "        Deviations[0,i] = (Mode - LogNormUncertaintyPositions[0])/TotalNumberOfParticles[i]\n",
    "        Deviations[1,i] = (LogNormUncertaintyPositions[1] - Mode)/TotalNumberOfParticles[i]\n",
    "    return Temperatures, FractionsOfA, Deviations"
   ]
  },
  {
   "cell_type": "code",
   "execution_count": null,
   "metadata": {},
   "outputs": [],
   "source": [
    "Temperatures, FractionsOfA, Deviations = computeResults()"
   ]
  },
  {
   "cell_type": "code",
   "execution_count": null,
   "metadata": {},
   "outputs": [],
   "source": [
    "Fig, Host = plt.subplots(1,1,squeeze=False,figsize=(10,5))\n",
    "Host[0,0].errorbar(FractionsOfA,Temperatures,yerr=None,xerr=Deviations,fmt='.',capsize=5)\n",
    "Host[0,0].set_xlim(0,0.7)\n",
    "Host[0,0].set_ylim(0.5,0.72)"
   ]
  },
  {
   "cell_type": "code",
   "execution_count": null,
   "metadata": {},
   "outputs": [],
   "source": [
    "def readInResults():\n",
    "    Temperatures = []\n",
    "    NASeries = []\n",
    "    TotalNumberOfParticles = []\n",
    "    NumberOfDataPoints = 0\n",
    "    DirectoryPath = getDirectoryPathFromDialog()\n",
    "    for Directory in sorted(glob.glob(DirectoryPath+'/*')):\n",
    "        FileName = glob.glob(Directory+'/NA_Series*')[0]\n",
    "        NASeries.append(ReadSeries(FileName))\n",
    "        Temperatures.append(float(re.search(r'(?<=T=)[\\d]*\\.[\\d]*',FileName).group()))\n",
    "        TotalNumberOfParticles.append(float(re.search(r'(?<=N=)[\\d]*',FileName).group()))\n",
    "        NumberOfDataPoints += 1\n",
    "    C = np.zeros((len(Temperatures),int(TotalNumberOfParticles[0]+1)))\n",
    "    xEdges = np.linspace(0,TotalNumberOfParticles[0]+1,num = int(TotalNumberOfParticles[0]+1))/TotalNumberOfParticles[0]\n",
    "    yEdges = np.array(Temperatures)\n",
    "    for i in range(NumberOfDataPoints):\n",
    "        NumberOfAAverage, AverageNumberDeviation, NumberIndex = computeEquilibriumAverage(NASeries[i])\n",
    "        yValues, xValues = computeHist(NASeries[i][NumberIndex:])\n",
    "        C[i,xValues[0]:xValues[-1]+1] = yValues\n",
    "        C[i,int(TotalNumberOfParticles[0])-(xValues[-1]+1):int(TotalNumberOfParticles[0])-xValues[0]] = yValues[::-1]\n",
    "    return xEdges,yEdges,C"
   ]
  },
  {
   "cell_type": "code",
   "execution_count": null,
   "metadata": {},
   "outputs": [],
   "source": [
    "xEdges,yEdges,C = readInResults()"
   ]
  },
  {
   "cell_type": "code",
   "execution_count": null,
   "metadata": {},
   "outputs": [],
   "source": [
    "Fig, Ax = plt.subplots(1,1,squeeze=False,figsize=(10,5))\n",
    "plot = Ax[0,0].pcolormesh(xEdges,yEdges,C,shading='nearest',cmap='hot')\n",
    "Fig.colorbar(plot)"
   ]
  },
  {
   "cell_type": "markdown",
   "metadata": {},
   "source": [
    "## Plot of used potential"
   ]
  },
  {
   "cell_type": "code",
   "execution_count": null,
   "metadata": {},
   "outputs": [],
   "source": [
    "rCut = 2.5\n",
    "NumberOfPoints = 500\n",
    "rValues = np.linspace(0.95,3.0,num=NumberOfPoints)\n",
    "def Potential(r):\n",
    "    return 4.0*(r**(-12) - r**(-6) - rCut**(-12) + rCut**(-6) - (r-rCut)*(-12.0*rCut**(-13)+6.0*rCut**(-7)))\n",
    "PotValues = np.zeros(NumberOfPoints)\n",
    "for i in range(NumberOfPoints):\n",
    "    PotValues[i] = Potential(rValues[i])"
   ]
  },
  {
   "cell_type": "code",
   "execution_count": null,
   "metadata": {},
   "outputs": [],
   "source": [
    "Fig, Host = plt.subplots(1,1,squeeze=False)\n",
    "Host[0,0].plot(rValues,PotValues)\n",
    "host[0,0].set_xlabel('$x_A$')\n",
    "host[0,0].set_ylabel(r'temperature $\\left[\\frac{\\epsilon_{AA}}{k_{B}}\\right]$')"
   ]
  },
  {
   "cell_type": "code",
   "execution_count": null,
   "metadata": {},
   "outputs": [],
   "source": []
  }
 ],
 "metadata": {
  "kernelspec": {
   "display_name": "Python 3",
   "language": "python",
   "name": "python3"
  },
  "language_info": {
   "codemirror_mode": {
    "name": "ipython",
    "version": 3
   },
   "file_extension": ".py",
   "mimetype": "text/x-python",
   "name": "python",
   "nbconvert_exporter": "python",
   "pygments_lexer": "ipython3",
   "version": "3.8.5"
  }
 },
 "nbformat": 4,
 "nbformat_minor": 2
}
