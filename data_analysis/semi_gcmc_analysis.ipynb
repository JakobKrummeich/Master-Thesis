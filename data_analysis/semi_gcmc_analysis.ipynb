{
 "cells": [
  {
   "cell_type": "code",
   "execution_count": null,
   "metadata": {},
   "outputs": [],
   "source": [
    "import numpy as np\n",
    "import os\n",
    "import matplotlib.pyplot as plt\n",
    "import matplotlib\n",
    "matplotlib.use('Qt5Agg')\n",
    "%matplotlib qt\n",
    "from scipy.optimize import curve_fit\n",
    "import glob\n",
    "import re\n",
    "from tkinter import filedialog as fd\n",
    "from tkinter import *\n",
    "from scipy.stats import lognorm\n",
    "from matplotlib.colors import PowerNorm\n",
    "plt.rcParams['text.usetex'] = True"
   ]
  },
  {
   "cell_type": "code",
   "execution_count": null,
   "metadata": {},
   "outputs": [],
   "source": [
    "def Gaussian(x, a, Mean, Sigma):\n",
    "    return a * np.exp(-((x - Mean)**2 / (2 * Sigma**2)))\n",
    "\n",
    "def LogNorm(x, a, Mu, Sigma):\n",
    "    return a/(x*Sigma*np.sqrt(2*np.pi))*np.exp(-(np.log(x)-Mu)**2/(2.0*Sigma**2))"
   ]
  },
  {
   "cell_type": "code",
   "execution_count": null,
   "metadata": {},
   "outputs": [],
   "source": [
    "def readParticleConfig(path,ConfigurationNumber):\n",
    "    TotalNumberOfParticles = int(re.search(r'(?<=N=)[\\d]*',path).group())\n",
    "    with open(path,'r') as F:\n",
    "        Data = F.read()\n",
    "    RowOffset = 1+ConfigurationNumber*(TotalNumberOfParticles+2)\n",
    "    print(\"RowOffset: \",RowOffset)\n",
    "    Data = Data.strip()\n",
    "    FirstRow = Data.split(sep='\\n')[RowOffset]\n",
    "    NumberOfAParticles = int(FirstRow.split()[5].strip('|'))\n",
    "    NumberOfBParticles = int(FirstRow.split()[7].strip('|'))\n",
    "    ListOfRows = Data.split(sep='\\n')[RowOffset+1:RowOffset+1+TotalNumberOfParticles]\n",
    "    if (len(ListOfRows) > 0):\n",
    "        NumberOfColumns = len(ListOfRows[0].split()) - 1\n",
    "    else:\n",
    "        NumberOfColumns = 0\n",
    "    APositions = np.empty((NumberOfAParticles, NumberOfColumns))\n",
    "    BPositions = np.empty((NumberOfBParticles, NumberOfColumns))\n",
    "    AIndex = 0\n",
    "    BIndex = 0\n",
    "    \n",
    "    for i in range(len(ListOfRows)):\n",
    "        if (ListOfRows[i].split()[NumberOfColumns] == 'A'):\n",
    "            for j in range(NumberOfColumns):\n",
    "                APositions[AIndex,j] = ListOfRows[i].split()[j]\n",
    "            AIndex += 1\n",
    "        else:\n",
    "            for j in range(NumberOfColumns):\n",
    "                BPositions[BIndex,j] = ListOfRows[i].split()[j]\n",
    "            BIndex += 1\n",
    "    return APositions, BPositions\n",
    "\n",
    "def getFilePathFromDialog(_initialdir):\n",
    "    root = Tk()\n",
    "    FilePath = fd.askopenfilename(initialdir = _initialdir)\n",
    "    root.destroy()\n",
    "    return FilePath\n",
    "\n",
    "def getDirectoryPathFromDialog(_initialdir):\n",
    "    root = Tk()\n",
    "    Directory = fd.askdirectory(initialdir = _initialdir)\n",
    "    root.destroy()\n",
    "    return Directory\n",
    "\n",
    "def readParticleConfigFromDialog(ConfigurationNumber):\n",
    "    return readParticleConfig(getFilePathFromDialog(dataPath),ConfigurationNumber)"
   ]
  },
  {
   "cell_type": "code",
   "execution_count": null,
   "metadata": {},
   "outputs": [],
   "source": [
    "def set_size(width, fraction=1):\n",
    "    \"\"\" Set aesthetic figure dimensions to avoid scaling in latex.\n",
    "\n",
    "    Parameters\n",
    "    ----------\n",
    "    width: float\n",
    "            Width in pts\n",
    "    fraction: float\n",
    "            Fraction of the width which you wish the figure to occupy\n",
    "\n",
    "    Returns\n",
    "    -------\n",
    "    fig_dim: tuple\n",
    "            Dimensions of figure in inches\n",
    "    \"\"\"\n",
    "    # Width of figure\n",
    "    fig_width_pt = width * fraction\n",
    "\n",
    "    # Convert from pt to inches\n",
    "    inches_per_pt = 1 / 72.27\n",
    "\n",
    "    # Golden ratio to set aesthetic figure height\n",
    "    golden_ratio = (5 ** 0.5 - 1) / 2\n",
    "\n",
    "    # Figure width in inches\n",
    "    fig_width_in = fig_width_pt * inches_per_pt\n",
    "    # Figure height in inches\n",
    "    fig_height_in = fig_width_in * golden_ratio\n",
    "\n",
    "    return fig_width_in, fig_height_in"
   ]
  },
  {
   "cell_type": "code",
   "execution_count": null,
   "metadata": {},
   "outputs": [],
   "source": [
    "def readSeries(path):\n",
    "    with open(path,'r') as F:\n",
    "        Data = F.read()\n",
    "    Data = Data.strip()\n",
    "    ListOfData = Data.split(sep='\\n')[1:]\n",
    "    NumberOfEntries = len(ListOfData)\n",
    "    Series = np.empty(NumberOfEntries)\n",
    "    for i in range(NumberOfEntries):\n",
    "        Series[i] = ListOfData[i]\n",
    "    return Series\n",
    "\n",
    "def readSeriesFromDialog():\n",
    "    return readSeries(getFilePathFromDialog(dataPath))\n",
    "\n",
    "def readInResults():\n",
    "    Temperatures = []\n",
    "    NASeries = []\n",
    "    TotalNumberOfParticles = []\n",
    "    DirectoryPath = getDirectoryPathFromDialog(dataPath)\n",
    "    Density = float(re.search(r'(?<=Roh=)[\\d]*.[\\d]*',DirectoryPath).group())\n",
    "    epsAB = float(re.search(r'(?<=epsAB=)[\\d]*.[\\d]*',DirectoryPath).group())\n",
    "    for Directory in sorted(glob.glob(DirectoryPath+'/T=*')):\n",
    "        FileName = glob.glob(Directory+'/NA_Series*')[0]\n",
    "        NASeries.append(readSeries(FileName))\n",
    "        Temperatures.append(float(re.search(r'(?<=T=)[\\d]*\\.[\\d]*',FileName).group()))\n",
    "        TotalNumberOfParticles.append(float(re.search(r'(?<=N=)[\\d]*',FileName).group()))\n",
    "    return Density, Temperatures, NASeries, TotalNumberOfParticles, epsAB"
   ]
  },
  {
   "cell_type": "code",
   "execution_count": null,
   "metadata": {},
   "outputs": [],
   "source": [
    "def computeEquilibriumAverage(Series):\n",
    "    n = 0\n",
    "    while (n < len(Series)):\n",
    "        Average = np.mean(Series[n:])\n",
    "        Deviations = np.abs(Average-Series[n:])\n",
    "        AverageDeviation = np.mean(Deviations)\n",
    "        if (np.abs(Average-Series[n]) < AverageDeviation):\n",
    "            return Average,AverageDeviation,n\n",
    "        n += 1\n",
    "    return np.mean(Series[:]), np.mean(np.abs(np.mean(Series[:])-Series[:])), 0"
   ]
  },
  {
   "cell_type": "code",
   "execution_count": null,
   "metadata": {},
   "outputs": [],
   "source": [
    "def computeHist(Series):\n",
    "    Min = int(np.min(Series))\n",
    "    Max = int(np.max(Series))\n",
    "    yValues = np.zeros(Max - Min + 1)\n",
    "    xValues = np.arange(Min,Max + 1)\n",
    "    for Entry in Series:\n",
    "        yValues[int(Entry)-Min] += 1\n",
    "    return yValues,xValues"
   ]
  },
  {
   "cell_type": "code",
   "execution_count": null,
   "metadata": {},
   "outputs": [],
   "source": [
    "def computeMomentOfDistribution(xValues,yValues,Exponent):\n",
    "    h = xValues[1]-xValues[0]\n",
    "    Moment = 0.5*(xValues[0]**Exponent*yValues[0]+xValues[-1]**Exponent*yValues[-1])\n",
    "    for i in range(1,len(xValues)-1,1):\n",
    "        Moment += xValues[i]**Exponent*yValues[i]\n",
    "    return h*Moment"
   ]
  },
  {
   "cell_type": "code",
   "execution_count": null,
   "metadata": {},
   "outputs": [],
   "source": [
    "def computeNormalizedDistribution(NASeries, TotalNumberOfParticles):\n",
    "    NumberOfAAverage, AverageNumberDeviation, NumberIndex = computeEquilibriumAverage(NASeries)\n",
    "    yValues, xValues = computeHist(NASeries[NumberIndex:])\n",
    "    xValues = xValues/TotalNumberOfParticles\n",
    "    TotalIntegral = computeMomentOfDistribution(xValues,yValues,0.0)\n",
    "    return xValues, yValues/TotalIntegral"
   ]
  },
  {
   "cell_type": "code",
   "execution_count": null,
   "metadata": {},
   "outputs": [],
   "source": [
    "def computeFirstMoments(NASeries,Temperatures,TotalNumberOfParticles):\n",
    "    Fig, Ax = plt.subplots(len(NASeries),1,squeeze=False,figsize=(5,len(NASeries)*3))\n",
    "    FirstMoments = []\n",
    "    i = 0\n",
    "    for OneSeries in NASeries:\n",
    "        print(\"Computing first moment of T=\",Temperatures[i],end='; ')\n",
    "        xValues, yValues = computeNormalizedDistribution(OneSeries,TotalNumberOfParticles)\n",
    "        FirstMoment = computeMomentOfDistribution(xValues,yValues,1.0)\n",
    "        Ax[i,0].plot(xValues,yValues,label='T='+str(Temperatures[i]))\n",
    "        Ax[i,0].legend()\n",
    "        Ax[i,0].vlines(FirstMoment, min(yValues), max(yValues), color='k', alpha = 0.5)\n",
    "        FirstMoments.append(FirstMoment)\n",
    "        i+=1\n",
    "        print(FirstMoment)\n",
    "    return FirstMoments"
   ]
  },
  {
   "cell_type": "code",
   "execution_count": null,
   "metadata": {},
   "outputs": [],
   "source": [
    "def readFile(path):\n",
    "    return np.loadtxt(path, dtype=float, skiprows = 1)\n",
    "\n",
    "def readFileFromDialog():\n",
    "    return readFile(getFilePathFromDialog(dataPath))"
   ]
  },
  {
   "cell_type": "code",
   "execution_count": null,
   "metadata": {},
   "outputs": [],
   "source": [
    "def plotMultipleProbDists():\n",
    "    Directory = getDirectoryPathFromDialog(dataPath);\n",
    "    AllProbDists = sorted(glob.glob(Directory+\"/*ProbDist*\"))\n",
    "    NumberOfDiagrams = len(AllProbDists)\n",
    "    Fig, Ax = plt.subplots(NumberOfDiagrams,1,squeeze=False, figsize=(5,5*NumberOfDiagrams))\n",
    "    for i in range(NumberOfDiagrams):\n",
    "        Temperature = float(re.search(r'(?<=_T=)[\\d]*.[\\d]*',AllProbDists[i]).group())\n",
    "        xAProbDist = readFile(AllProbDists[i])\n",
    "        Ax[i,0].plot(xAProbDist[:,0],xAProbDist[:,1])\n",
    "        Ax[i,0].set_title(\"T=\"+str(Temperature))"
   ]
  },
  {
   "cell_type": "code",
   "execution_count": null,
   "metadata": {},
   "outputs": [],
   "source": [
    "def readMultiplePhaseBinderResults():\n",
    "    Directory = getDirectoryPathFromDialog(dataPath);\n",
    "    AllDirectories = glob.glob(Directory+\"/*\")\n",
    "    NumberOfCurves = len(AllDirectories)\n",
    "    NList = []\n",
    "    PhaseBinderResultsList = []\n",
    "    for i in range(NumberOfCurves):\n",
    "        NList.append(float(re.search(r'(?<=N=)[\\d]*',AllDirectories[i]).group()))\n",
    "        PhaseBinderResultsList.append(readFile(glob.glob(AllDirectories[i]+\"/analyzed_data/first*\")[0]))\n",
    "    return NList,PhaseBinderResultsList"
   ]
  },
  {
   "cell_type": "code",
   "execution_count": null,
   "metadata": {},
   "outputs": [],
   "source": [
    "def plotMultipleNAAndPotEnergySeries():\n",
    "    Directory = getDirectoryPathFromDialog(dataPath);\n",
    "    AllNASeries = glob.glob(Directory+\"/NA*\")\n",
    "    NumberOfSeries = len(AllNASeries)\n",
    "    Fig,Ax = plt.subplots(NumberOfSeries,4,squeeze=False, figsize=(17,5*NumberOfSeries))\n",
    "    for i in range(NumberOfSeries):\n",
    "        RunNumber = re.search(r'(?<=_)[\\d]*(?=(.dat))',AllNASeries[i]).group()\n",
    "        NASeries = readFile(AllNASeries[i])\n",
    "        PotSeries = readFile(glob.glob(Directory+\"/PotEnergy*_\"+RunNumber+\".dat\")[0])\n",
    "        PotEnergyAverage = np.mean(PotSeries)\n",
    "        Ax[i,0].plot(NASeries,'.')\n",
    "        Ax[i,0].set_title(\"Run \"+RunNumber)\n",
    "        yValues, xValues = computeHist(NASeries)\n",
    "        Ax[i,1].plot(xValues,yValues)\n",
    "        Ax[i,1].set_xlabel(r'$N_A$')\n",
    "        Ax[i,1].set_ylabel('number of occurences')\n",
    "        Ax[i,2].plot(PotSeries,'.')\n",
    "        Ax[i,3].hist(PotSeries,bins = 20, density = True)\n",
    "        Ax[i,3].vlines(PotEnergyAverage,0,0.004,color='g',label=\"PotEnergyAvg={}\".format(round(PotEnergyAverage,2)))\n",
    "        Ax[i,3].legend()\n",
    "        print(RunNumber)"
   ]
  },
  {
   "cell_type": "code",
   "execution_count": null,
   "metadata": {},
   "outputs": [],
   "source": [
    "dataPath = getDirectoryPathFromDialog('')"
   ]
  },
  {
   "cell_type": "code",
   "execution_count": null,
   "metadata": {
    "scrolled": false
   },
   "outputs": [],
   "source": [
    "plotMultipleNAAndPotEnergySeries()"
   ]
  },
  {
   "cell_type": "markdown",
   "metadata": {},
   "source": [
    "## Series of particle number"
   ]
  },
  {
   "cell_type": "code",
   "execution_count": null,
   "metadata": {},
   "outputs": [],
   "source": [
    "NumberOfASeries = readSeriesFromDialog()"
   ]
  },
  {
   "cell_type": "code",
   "execution_count": null,
   "metadata": {},
   "outputs": [],
   "source": [
    "Fig, Host = plt.subplots(1,1,squeeze=False, figsize = (12,5), dpi = 100)\n",
    "Host[0,0].plot(NumberOfASeries,'.')"
   ]
  },
  {
   "cell_type": "code",
   "execution_count": null,
   "metadata": {},
   "outputs": [],
   "source": [
    "Fig, Ax = plt.subplots(1,1,squeeze=False, figsize=(5,5))\n",
    "yValues, xValues = computeHist(NumberOfASeries)\n",
    "Ax[0,0].plot(xValues,yValues)\n",
    "Ax[0,0].set_xlabel(r'$N_A$')\n",
    "Ax[0,0].set_ylabel('number of occurences')"
   ]
  },
  {
   "cell_type": "markdown",
   "metadata": {},
   "source": [
    "## Series of potential energy"
   ]
  },
  {
   "cell_type": "code",
   "execution_count": null,
   "metadata": {},
   "outputs": [],
   "source": [
    "PotEnergySeries = readSeriesFromDialog()"
   ]
  },
  {
   "cell_type": "code",
   "execution_count": null,
   "metadata": {},
   "outputs": [],
   "source": [
    "PotEnergyAverage, AverageEnergyDeviation, EnergyIndex = computeEquilibriumAverage(PotEnergySeries)\n",
    "print(PotEnergyAverage, AverageEnergyDeviation, EnergyIndex)"
   ]
  },
  {
   "cell_type": "code",
   "execution_count": null,
   "metadata": {},
   "outputs": [],
   "source": [
    "Fig, Host = plt.subplots(1,1,squeeze=False, figsize = (12,5), dpi = 100)\n",
    "Host[0,0].plot(PotEnergySeries,'.')\n",
    "Host[0,0].plot(np.ones(len(PotEnergySeries))*PotEnergyAverage,color='darkorange',label='Gleichgewichts-Mittel')\n",
    "Host[0,0].plot(np.ones(len(PotEnergySeries))*PotEnergyAverage+AverageEnergyDeviation,color='darkorange',alpha= 0.5)\n",
    "Host[0,0].plot(np.ones(len(PotEnergySeries))*PotEnergyAverage-AverageEnergyDeviation,color='darkorange',alpha = 0.5)\n",
    "Host[0,0].vlines(EnergyIndex, min(PotEnergySeries), max(PotEnergySeries), color = 'k', alpha = 0.5)"
   ]
  },
  {
   "cell_type": "code",
   "execution_count": null,
   "metadata": {},
   "outputs": [],
   "source": [
    "Fig, Ax = plt.subplots(1,1,squeeze=False, figsize=(5,5))\n",
    "Ax[0,0].hist(PotEnergySeries[EnergyIndex:],bins = 20, density = True)\n",
    "Ax[0,0].set_xlabel('potential energy')\n",
    "Ax[0,0].set_ylabel('probability density')"
   ]
  },
  {
   "cell_type": "markdown",
   "metadata": {},
   "source": [
    "## xA probability distributions"
   ]
  },
  {
   "cell_type": "code",
   "execution_count": null,
   "metadata": {
    "scrolled": false
   },
   "outputs": [],
   "source": [
    "plotMultipleProbDists()"
   ]
  },
  {
   "cell_type": "code",
   "execution_count": null,
   "metadata": {},
   "outputs": [],
   "source": [
    "plotMultipleProbDists()"
   ]
  },
  {
   "cell_type": "markdown",
   "metadata": {},
   "source": [
    "## Phase diagram and Binder cumulant"
   ]
  },
  {
   "cell_type": "code",
   "execution_count": null,
   "metadata": {},
   "outputs": [],
   "source": [
    "PhaseBinderResults = readFileFromDialog()"
   ]
  },
  {
   "cell_type": "code",
   "execution_count": null,
   "metadata": {},
   "outputs": [],
   "source": [
    "Fig, Ax = plt.subplots(1,1,squeeze=False, figsize=(5,5))\n",
    "a = Ax[0,0].plot(PhaseBinderResults[:,1],PhaseBinderResults[:,0],'.')\n",
    "Ax[0,0].plot(1.0-PhaseBinderResults[:,1],PhaseBinderResults[:,0],'.',color=a[0].get_color())\n",
    "Ax[0,0].set_ylabel('T')\n",
    "Ax[0,0].set_xlabel('xA')\n",
    "Ax[0,0].set_title('phase diagram')"
   ]
  },
  {
   "cell_type": "code",
   "execution_count": null,
   "metadata": {},
   "outputs": [],
   "source": [
    "Fig, Ax = plt.subplots(1,1,squeeze=False, figsize=(5,5))\n",
    "Ax[0,0].plot(PhaseBinderResults[:,0],PhaseBinderResults[:,2],'.')\n",
    "Ax[0,0].set_xlabel('T')\n",
    "Ax[0,0].set_ylabel('Binder-cumulant')\n",
    "Ax[0,0].set_title('Binder-cumulant vs T')\n",
    "#Ax[0,0].set_xlim(0.58,0.62)\n",
    "#Ax[0,0].set_ylim(0.3,0.68)"
   ]
  },
  {
   "cell_type": "markdown",
   "metadata": {},
   "source": [
    "## Binder cumulant and phase diagram multiple N"
   ]
  },
  {
   "cell_type": "code",
   "execution_count": null,
   "metadata": {},
   "outputs": [],
   "source": [
    "NList, PhaseBinderResultsList = readMultiplePhaseBinderResults()"
   ]
  },
  {
   "cell_type": "code",
   "execution_count": null,
   "metadata": {},
   "outputs": [],
   "source": [
    "NPhaseBinderResultsDict = {}\n",
    "for i in range(len(NList)):\n",
    "    NPhaseBinderResultsDict[NList[i]] = PhaseBinderResultsList[i]\n",
    "NPhaseBinderResultsDictSorted = dict(sorted(NPhaseBinderResultsDict.items(),key=lambda x:x[0]))"
   ]
  },
  {
   "cell_type": "code",
   "execution_count": null,
   "metadata": {},
   "outputs": [],
   "source": [
    "Fig, Ax = plt.subplots(1,1,squeeze=False, figsize=set_size(388),dpi=300)\n",
    "for N in NPhaseBinderResultsDictSorted:\n",
    "    if (N < 16001):\n",
    "        PhaseBinderResults = NPhaseBinderResultsDictSorted[N]\n",
    "        Ax[0,0].plot(PhaseBinderResults[:,0],PhaseBinderResults[:,2],'.-',label=str(int(N)))\n",
    "Ax[0,0].set_ylabel('Binder cumulant')\n",
    "Ax[0,0].set_xlabel(r'T $[\\epsilon / k_{B}]$')\n",
    "#Ax[0,0].set_title('Binder cumulant vs T, long runs 2+3 combined')\n",
    "#Ax[0,0].set_xlim(0.7,0.75)\n",
    "#Ax[0,0].set_ylim(0.6,0.67)\n",
    "Ax[0,0].legend()\n",
    "Fig.tight_layout()\n",
    "#Fig.savefig(\"plots/roh=0.75/roh=0.75_binder_cumulant_long_2_3_combined.png\",format='png',dpi=300)"
   ]
  },
  {
   "cell_type": "code",
   "execution_count": null,
   "metadata": {},
   "outputs": [],
   "source": [
    "Fig, Ax = plt.subplots(1,1,squeeze=False, figsize=(8,8))\n",
    "for i in range(len(NList)):\n",
    "    N = NList[i]\n",
    "    PhaseBinderResults = PhaseBinderResultsList[i]\n",
    "    a = Ax[0,0].plot(PhaseBinderResults[:,1],PhaseBinderResults[:,0],'.-',label=str(N))\n",
    "    Ax[0,0].plot(1.0-PhaseBinderResults[:,1],PhaseBinderResults[:,0],'.-',color=a[0].get_color())\n",
    "Ax[0,0].set_ylabel('T')\n",
    "Ax[0,0].set_xlabel(r'$x_A$')\n",
    "Ax[0,0].set_title('phase diagrams')\n",
    "Ax[0,0].set_xlim(0.16,0.25)\n",
    "#Ax[0,0].set_ylim(0.73,0.775)\n",
    "Ax[0,0].legend()\n",
    "#Fig.savefig(\"plots/roh=0.75/roh=0.75_phase_diagram_long_run_eq_index=10^6.png\",format='png',dpi=200)"
   ]
  },
  {
   "cell_type": "markdown",
   "metadata": {},
   "source": [
    "## Plot particle positions"
   ]
  },
  {
   "cell_type": "code",
   "execution_count": null,
   "metadata": {},
   "outputs": [],
   "source": [
    "APositions, BPositions = readParticleConfigFromDialog(0)"
   ]
  },
  {
   "cell_type": "code",
   "execution_count": null,
   "metadata": {
    "scrolled": false
   },
   "outputs": [],
   "source": [
    "Fig, Host = plt.subplots(1,1,squeeze=False,figsize=(5,5),dpi =200)\n",
    "Host[0,0].plot(APositions[:,0],APositions[:,1],'.',color='b',ms=2)\n",
    "Host[0,0].plot(BPositions[:,0],BPositions[:,1],'.',color='darkorange',ms=2)\n",
    "Host[0,0].set_xlabel('x')\n",
    "Host[0,0].set_ylabel('y')\n",
    "Host[0,0].set_xlim(0,1)\n",
    "Host[0,0].set_ylim(0,1)\n",
    "#Fig.savefig('ParticleConfig_T=0.52_N=16000_multiple_phases present'+'.png',format='png')"
   ]
  },
  {
   "cell_type": "markdown",
   "metadata": {},
   "source": [
    "# Automatized data analysis"
   ]
  },
  {
   "cell_type": "code",
   "execution_count": null,
   "metadata": {},
   "outputs": [],
   "source": [
    "Density, Temperatures, NASeries, TotalNumberOfParticles, epsAB = readInResults()"
   ]
  },
  {
   "cell_type": "markdown",
   "metadata": {},
   "source": [
    "## Phase diagram by moments of distribution"
   ]
  },
  {
   "cell_type": "code",
   "execution_count": null,
   "metadata": {
    "scrolled": false
   },
   "outputs": [],
   "source": [
    "FirstMoments = computeFirstMoments(NASeries, Temperatures, TotalNumberOfParticles[0])"
   ]
  },
  {
   "cell_type": "code",
   "execution_count": null,
   "metadata": {},
   "outputs": [],
   "source": [
    "Fig, Ax = plt.subplots(1,1,squeeze=False,figsize=(10,5),dpi=200)\n",
    "Ax[0,0].errorbar(FirstMoments,Temperatures,yerr=None,xerr=None,fmt='.',capsize=5)\n",
    "Ax[0,0].errorbar(1.0 - np.array(FirstMoments),Temperatures,yerr=None,xerr=None,fmt='.',capsize=5)\n",
    "Ax[0,0].set_xlim(0,1.0)\n",
    "#Ax[0,0].set_ylim(0.3,1.1)\n",
    "Ax[0,0].set_xlabel(r'$x_A$')\n",
    "Ax[0,0].set_ylabel(r'$T \\left[ \\frac{\\epsilon_{AA}}{k_B} \\right]$')\n",
    "Ax[0,0].set_title(r'phase diagram for $\\rho=$'+str(Density)+r', $\\epsilon_{AB}=$'+str(epsAB)+r' $\\epsilon_{AA}$')\n",
    "Fig.savefig('phase-diagram_roh='+str(Density)+'_N=1000_eps_AB='+str(epsAB)+'.png',format='png')"
   ]
  },
  {
   "cell_type": "markdown",
   "metadata": {},
   "source": [
    "## Fits"
   ]
  },
  {
   "cell_type": "code",
   "execution_count": null,
   "metadata": {},
   "outputs": [],
   "source": [
    "def smoothCurve(RawCurve,WindowLength):\n",
    "    SmoothedArray = np.zeros(len(RawCurve))\n",
    "    OffsetMax = WindowLength//2\n",
    "    for i in range(len(RawCurve)):\n",
    "        Average = 0.0\n",
    "        NumberOfDataPoints = 0\n",
    "        for Offset in np.arange(-OffsetMax, OffsetMax, 1):\n",
    "            if (i+Offset >= 0 and i+Offset < len(RawCurve)):\n",
    "                Average += RawCurve[i+Offset]\n",
    "                NumberOfDataPoints += 1\n",
    "        SmoothedArray[i] = Average/NumberOfDataPoints\n",
    "    return SmoothedArray\n",
    "\n",
    "def lumpData(yData,xData,WindowLength):\n",
    "    LumpedyData = np.zeros(len(yData) // WindowLength)\n",
    "    LumpedxData = np.zeros(len(yData) // WindowLength)\n",
    "    i = 0\n",
    "    Index = 0\n",
    "    for Index in range(len(LumpedyData)):\n",
    "        LumpedxData[Index] = xData[i]+WindowLength/2\n",
    "        NewAverage = 0.0\n",
    "        NumberOfDataPoints = 0\n",
    "        for j in range(WindowLength):\n",
    "            if (i+j < len(yData)):\n",
    "                NewAverage += yData[i+j]\n",
    "                NumberOfDataPoints += 1\n",
    "        LumpedyData[Index] = NewAverage/NumberOfDataPoints\n",
    "        i += WindowLength\n",
    "    return LumpedyData, LumpedxData\n",
    "\n",
    "def computeLocalMaxima(LumpedyData,LumpedxData):\n",
    "    LocalMaxima = []\n",
    "    for i in range(len(LumpedData)):\n",
    "        if (i-1 >= 0 and i+1 < len(LumpedyData)):\n",
    "            if (LumpedyData[i-1] < LumpedyData[i] and LumpedyData[i+1] < LumpedyData[i]):\n",
    "                LocalMaxima.append(LumpedxData[i])\n",
    "    return LocalMaxima"
   ]
  },
  {
   "cell_type": "code",
   "execution_count": null,
   "metadata": {},
   "outputs": [],
   "source": [
    "yValues, xValues = computeHist(NumberOfASeries[NumberIndex:])"
   ]
  },
  {
   "cell_type": "code",
   "execution_count": null,
   "metadata": {},
   "outputs": [],
   "source": [
    "GaussParameters, GaussCovariance = curve_fit(Gaussian,xValues,yValues,p0=[max(yValues),10,30],bounds = ([0,0,0],[1.2*max(yValues),1000,500]),maxfev=1000000)\n",
    "print('mean='+str(round(GaussParameters[1],3))+'+-'+str(round(GaussParameters[2],3))+' , Max: '+str(round(GaussParameters[0],3)))"
   ]
  },
  {
   "cell_type": "code",
   "execution_count": null,
   "metadata": {},
   "outputs": [],
   "source": [
    "LogNormParameters, LogNormCovariance = curve_fit(LogNorm,xValues,yValues,p0=[max(yValues),5,1],maxfev=1000000)\n",
    "print('a='+str(round(LogNormParameters[0],1))+'| mu = '+str(round(LogNormParameters[1],2))+' | sigma = '+str(round(LogNormParameters[2],3)))\n",
    "print('mode = '+str(round(np.exp(LogNormParameters[1]-LogNormParameters[2]**2),2)))"
   ]
  },
  {
   "cell_type": "code",
   "execution_count": null,
   "metadata": {},
   "outputs": [],
   "source": [
    "def computeUncertaintyPositionsOfLogNormFit(xValues,LogNormParameters,RatioOfMax):\n",
    "    Positions = np.zeros(2)\n",
    "    Mode = np.exp(LogNormParameters[1]-LogNormParameters[2]**2)\n",
    "    Max = LogNorm(Mode,*LogNormParameters)\n",
    "    LeftPos = int(Mode)\n",
    "    while (LogNorm(LeftPos,*LogNormParameters) > Max*RatioOfMax and LeftPos > xValues[0]):\n",
    "        LeftPos -= 1\n",
    "    Positions[0] = LeftPos\n",
    "    RightPos = int(Mode)\n",
    "    while (LogNorm(RightPos,*LogNormParameters) > Max*RatioOfMax and RightPos < xValues[-1]):\n",
    "        RightPos += 1\n",
    "    Positions[1] = RightPos\n",
    "    return Positions"
   ]
  },
  {
   "cell_type": "code",
   "execution_count": null,
   "metadata": {},
   "outputs": [],
   "source": [
    "LogNormUncertaintyPositions = computeUncertaintyPositionsOfLogNormFit(xValues,LogNormParameters, 0.1)\n",
    "print(LogNormUncertaintyPositions)"
   ]
  },
  {
   "cell_type": "code",
   "execution_count": null,
   "metadata": {},
   "outputs": [],
   "source": [
    "Fig, Ax = plt.subplots(1,1,squeeze=False,figsize=(5,5))\n",
    "Ax[0,0].plot(xValues, yValues,'.')\n",
    "Ax[0,0].plot(xValues,Gaussian(xValues,*GaussParameters))\n",
    "Ax[0,0].plot(xValues,LogNorm(xValues,*LogNormParameters))\n",
    "Ax[0,0].vlines(LogNormUncertaintyPositions[0],np.min(yValues),np.max(yValues),color = 'k', alpha = 0.5)\n",
    "if (LogNormUncertaintyPositions[1] < np.max(xValues)):\n",
    "    Ax[0,0].vlines(LogNormUncertaintyPositions[1],np.min(yValues),np.max(yValues),color = 'k', alpha = 0.5)"
   ]
  },
  {
   "cell_type": "markdown",
   "metadata": {},
   "source": [
    "## Phase diagram by fitting"
   ]
  },
  {
   "cell_type": "code",
   "execution_count": null,
   "metadata": {},
   "outputs": [],
   "source": [
    "def computeResultsByFittingLogNorm(Temperatures, NASeries, TotalNumberOfParticles):\n",
    "    FractionsOfA = np.zeros(len(Temperatures))\n",
    "    Deviations = np.zeros((2,len(Temperatures)))\n",
    "    for i in range(len(Temperatures)):\n",
    "        NumberOfAAverage, AverageNumberDeviation, NumberIndex = computeEquilibriumAverage(NASeries[i])\n",
    "        yValues, xValues = computeHist(NASeries[i])\n",
    "        LogNormParameters, LogNormCovariance = curve_fit(LogNorm,xValues,yValues,p0=[max(yValues),5,1],maxfev=1000000)\n",
    "        LogNormUncertaintyPositions = computeUncertaintyPositionsOfLogNormFit(xValues,LogNormParameters, 0.1)\n",
    "        Mode = np.exp(LogNormParameters[1]-LogNormParameters[2]**2)\n",
    "        print('T=',Temperatures[i],':')\n",
    "        print('a='+str(round(LogNormParameters[0],1))+'| mu = '+str(round(LogNormParameters[1],2))+' | sigma = '+str(round(LogNormParameters[2],3)))\n",
    "        print('mode = '+str(round(Mode,2))+\" , uncertainty positions: \"+str(LogNormUncertaintyPositions))\n",
    "        FractionsOfA[i] = Mode/TotalNumberOfParticles[i]\n",
    "        Deviations[0,i] = (Mode - LogNormUncertaintyPositions[0])/TotalNumberOfParticles[i]\n",
    "        Deviations[1,i] = (LogNormUncertaintyPositions[1] - Mode)/TotalNumberOfParticles[i]\n",
    "    return Temperatures, FractionsOfA, Deviations"
   ]
  },
  {
   "cell_type": "code",
   "execution_count": null,
   "metadata": {},
   "outputs": [],
   "source": [
    "Temperatures, FractionsOfA, Deviations = computeResultsByFittingLogNorm()"
   ]
  },
  {
   "cell_type": "code",
   "execution_count": null,
   "metadata": {},
   "outputs": [],
   "source": [
    "Fig, Host = plt.subplots(1,1,squeeze=False,figsize=(10,5))\n",
    "Host[0,0].errorbar(FractionsOfA,Temperatures,yerr=None,xerr=Deviations,fmt='.',capsize=5)\n",
    "Host[0,0].set_xlim(0,0.7)\n",
    "Host[0,0].set_ylim(0.55,0.71)"
   ]
  },
  {
   "cell_type": "markdown",
   "metadata": {},
   "source": [
    "## Phase diagram as colorplot"
   ]
  },
  {
   "cell_type": "code",
   "execution_count": null,
   "metadata": {},
   "outputs": [],
   "source": [
    "def prepareDataForColorplot(Temperatures, NASeries, TotalNumberOfParticles):\n",
    "    Temperatures, NASeries, TotalNumberOfParticles\n",
    "    C = np.zeros((len(Temperatures),int(TotalNumberOfParticles[0]+1)))\n",
    "    xCenters = np.linspace(0,TotalNumberOfParticles[0],num = int(TotalNumberOfParticles[0]+1))/TotalNumberOfParticles[0]\n",
    "    yCenters = np.array(Temperatures)\n",
    "    for i in range(len(Temperatures)):\n",
    "        NumberOfAAverage, AverageNumberDeviation, NumberIndex = computeEquilibriumAverage(NASeries[i])\n",
    "        yValues, xValues = computeHist(NASeries[i][NumberIndex:])\n",
    "        C[i,xValues[0]:xValues[-1]+1] = yValues\n",
    "        C[i,int(TotalNumberOfParticles[0])-(xValues[-1]+1):int(TotalNumberOfParticles[0])-xValues[0]] = yValues[::-1]\n",
    "    return xCenters,yCenters,C"
   ]
  },
  {
   "cell_type": "code",
   "execution_count": null,
   "metadata": {},
   "outputs": [],
   "source": [
    "xCenters,yCenters,C = readInResultsForColorplot()"
   ]
  },
  {
   "cell_type": "code",
   "execution_count": null,
   "metadata": {},
   "outputs": [],
   "source": [
    "Fig, Ax = plt.subplots(2,1,squeeze=False,figsize=(12,12))\n",
    "AllDataPlot = Ax[0,0].pcolormesh(xGrid,yGrid,C,shading='nearest',cmap='hot',norm=PowerNorm(1.0))\n",
    "Fig.colorbar(AllDataPlot, ax = Ax[0,0])\n",
    "ZoomedInPlot = Ax[1,0].pcolormesh(xCenters[100:-100],yCenters[6:-16],C[6:-16,100:-100],shading='nearest',cmap='hot',norm= PowerNorm(1.0))\n",
    "Fig.colorbar(ZoomedInPlot,ax = Ax[1,0])\n",
    "for i in range(2):\n",
    "    Ax[i,0].set_xlabel('$x_A$')\n",
    "    Ax[i,0].set_ylabel(r'T $\\left[\\frac{\\epsilon_{AA}}{k_{B}}\\right]$')\n",
    "Fig.savefig('phase-diagram_roh=0.8_N=2000.png',format='png')"
   ]
  },
  {
   "cell_type": "markdown",
   "metadata": {},
   "source": [
    "## Plot of used potential"
   ]
  },
  {
   "cell_type": "code",
   "execution_count": null,
   "metadata": {},
   "outputs": [],
   "source": [
    "rCut = 2.5\n",
    "NumberOfPoints = 500\n",
    "rValues = np.linspace(0.6,3.0,num=NumberOfPoints)\n",
    "def Potential(r,eps):\n",
    "    return 4.0*eps*(r**(-12) - r**(-6) - rCut**(-12) + rCut**(-6) - (r-rCut)*(-12.0*rCut**(-13)+6.0*rCut**(-7)))\n",
    "PotValues1 = np.zeros(NumberOfPoints)\n",
    "PotValues2 = np.zeros(NumberOfPoints)\n",
    "for i in range(NumberOfPoints):\n",
    "    PotValues1[i] = Potential(rValues[i],1.0)\n",
    "    PotValues2[i] = Potential(rValues[i],0.1)"
   ]
  },
  {
   "cell_type": "code",
   "execution_count": null,
   "metadata": {},
   "outputs": [],
   "source": [
    "Fig, Ax = plt.subplots(1,1,squeeze=False)\n",
    "Ax[0,0].plot(rValues,PotValues1)\n",
    "Ax[0,0].plot(rValues,PotValues2)\n",
    "Ax[0,0].set_ylim(-1,1.2)"
   ]
  },
  {
   "cell_type": "code",
   "execution_count": null,
   "metadata": {},
   "outputs": [],
   "source": []
  }
 ],
 "metadata": {
  "kernelspec": {
   "display_name": "Python 3",
   "language": "python",
   "name": "python3"
  },
  "language_info": {
   "codemirror_mode": {
    "name": "ipython",
    "version": 3
   },
   "file_extension": ".py",
   "mimetype": "text/x-python",
   "name": "python",
   "nbconvert_exporter": "python",
   "pygments_lexer": "ipython3",
   "version": "3.8.10"
  }
 },
 "nbformat": 4,
 "nbformat_minor": 2
}
