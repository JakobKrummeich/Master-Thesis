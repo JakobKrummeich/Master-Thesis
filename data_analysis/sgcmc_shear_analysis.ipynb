{
 "cells": [
  {
   "cell_type": "code",
   "execution_count": null,
   "id": "af3f3a34",
   "metadata": {},
   "outputs": [],
   "source": [
    "import numpy as np\n",
    "import os\n",
    "%matplotlib inline\n",
    "import matplotlib.pyplot as plt\n",
    "from scipy.optimize import curve_fit\n",
    "import glob\n",
    "import re\n",
    "from tkinter import filedialog as fd\n",
    "from tkinter import *"
   ]
  },
  {
   "cell_type": "code",
   "execution_count": null,
   "id": "f7c88a69",
   "metadata": {},
   "outputs": [],
   "source": [
    "def getFilePathFromDialog(_initialdir):\n",
    "    root = Tk()\n",
    "    FilePath = fd.askopenfilename(initialdir = _initialdir)\n",
    "    root.destroy()\n",
    "    return FilePath\n",
    "\n",
    "def getDirectoryPathFromDialog(_initialdir):\n",
    "    root = Tk()\n",
    "    Directory = fd.askdirectory(initialdir = _initialdir)\n",
    "    root.destroy()\n",
    "    return Directory"
   ]
  },
  {
   "cell_type": "code",
   "execution_count": null,
   "id": "c78c9516",
   "metadata": {},
   "outputs": [],
   "source": [
    "def readFile(path):\n",
    "    return np.loadtxt(path, dtype=float, skiprows = 1)\n",
    "\n",
    "def readFileFromDialog():\n",
    "    return readFile(getFilePathFromDialog(dataPath))"
   ]
  },
  {
   "cell_type": "code",
   "execution_count": null,
   "id": "8579f0b1",
   "metadata": {
    "scrolled": true
   },
   "outputs": [],
   "source": [
    "dataPath = getDirectoryPathFromDialog('')"
   ]
  },
  {
   "cell_type": "code",
   "execution_count": null,
   "id": "7e319073",
   "metadata": {},
   "outputs": [],
   "source": [
    "traveledData = readFileFromDialog()"
   ]
  },
  {
   "cell_type": "code",
   "execution_count": null,
   "id": "58a5b464",
   "metadata": {
    "scrolled": false
   },
   "outputs": [],
   "source": [
    "Fig, Host = plt.subplots(len(traveledData[0]),1,squeeze=False, figsize = (10,6*len(traveledData[0])), dpi = 100)\n",
    "for i in range(len(traveledData[0])):\n",
    "    Host[i,0].plot(traveledData[1:,i],label='y={}'.format(traveledData[0,i]))\n",
    "    Host[i,0].legend()"
   ]
  },
  {
   "cell_type": "code",
   "execution_count": null,
   "id": "855b632b",
   "metadata": {},
   "outputs": [],
   "source": [
    "NumberOfASeries = readFileFromDialog()"
   ]
  },
  {
   "cell_type": "code",
   "execution_count": null,
   "id": "6196ab37",
   "metadata": {},
   "outputs": [],
   "source": [
    "Fig, Host = plt.subplots(1,1,squeeze=False, figsize = (12,5), dpi = 100)\n",
    "Host[0,0].plot(NumberOfASeries,'.')"
   ]
  },
  {
   "cell_type": "code",
   "execution_count": null,
   "id": "f0928ab7",
   "metadata": {},
   "outputs": [],
   "source": [
    "Fig, Ax = plt.subplots(1,1,squeeze=False, figsize=(5,5))\n",
    "Ax[0,0].hist(NumberOfASeries,bins = 41, density = True)\n",
    "Ax[0,0].set_xlabel(r'$N_A$')\n",
    "Ax[0,0].set_ylabel('number of occurences')"
   ]
  },
  {
   "cell_type": "code",
   "execution_count": null,
   "id": "45235328",
   "metadata": {},
   "outputs": [],
   "source": [
    "PotEnergySeries = readFileFromDialog()"
   ]
  },
  {
   "cell_type": "code",
   "execution_count": null,
   "id": "985db5c7",
   "metadata": {},
   "outputs": [],
   "source": [
    "Fig, Host = plt.subplots(1,1,squeeze=False, figsize = (12,5), dpi = 100)\n",
    "Host[0,0].plot(PotEnergySeries,'.')"
   ]
  },
  {
   "cell_type": "code",
   "execution_count": null,
   "id": "f7d8833e",
   "metadata": {},
   "outputs": [],
   "source": [
    "Fig, Ax = plt.subplots(1,1,squeeze=False, figsize=(5,5))\n",
    "Ax[0,0].hist(PotEnergySeries,bins = 41, density = True)\n",
    "Ax[0,0].set_xlabel(r'$N_A$')\n",
    "Ax[0,0].set_ylabel('number of occurences')"
   ]
  },
  {
   "cell_type": "code",
   "execution_count": null,
   "id": "1321ac45",
   "metadata": {},
   "outputs": [],
   "source": []
  }
 ],
 "metadata": {
  "kernelspec": {
   "display_name": "Python 3",
   "language": "python",
   "name": "python3"
  },
  "language_info": {
   "codemirror_mode": {
    "name": "ipython",
    "version": 3
   },
   "file_extension": ".py",
   "mimetype": "text/x-python",
   "name": "python",
   "nbconvert_exporter": "python",
   "pygments_lexer": "ipython3",
   "version": "3.8.10"
  }
 },
 "nbformat": 4,
 "nbformat_minor": 5
}
