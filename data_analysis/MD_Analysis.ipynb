{
 "cells": [
  {
   "cell_type": "code",
   "execution_count": null,
   "metadata": {},
   "outputs": [],
   "source": [
    "import numpy as np\n",
    "import os\n",
    "%matplotlib inline\n",
    "import matplotlib.pyplot as plt\n",
    "from scipy.optimize import curve_fit\n",
    "import glob\n",
    "import re\n",
    "from tkinter import filedialog as fd\n",
    "from tkinter import *"
   ]
  },
  {
   "cell_type": "code",
   "execution_count": null,
   "metadata": {},
   "outputs": [],
   "source": [
    "def getFilePathFromDialog(_initialdir):\n",
    "    root = Tk()\n",
    "    FilePath = fd.askopenfilename(initialdir = _initialdir)\n",
    "    root.destroy()\n",
    "    return FilePath\n",
    "\n",
    "def getDirectoryPathFromDialog(_initialdir):\n",
    "    root = Tk()\n",
    "    Directory = fd.askdirectory(initialdir = _initialdir)\n",
    "    root.destroy()\n",
    "    return Directory"
   ]
  },
  {
   "cell_type": "code",
   "execution_count": null,
   "metadata": {},
   "outputs": [],
   "source": [
    "def readFile(path, skiprows):\n",
    "    return np.loadtxt(path, dtype=float, skiprows=skiprows)\n",
    "\n",
    "def readFileFromDialog(skiprows):\n",
    "    return readFile(getFilePathFromDialog(dataPath),skiprows)"
   ]
  },
  {
   "cell_type": "code",
   "execution_count": null,
   "metadata": {},
   "outputs": [],
   "source": [
    "def readParticleConfig(path,ConfigurationNumber):\n",
    "    TotalNumberOfParticles = int(re.search(r'(?<=N=)[\\d]*',path).group())\n",
    "    with open(path,'r') as F:\n",
    "        Data = F.read()\n",
    "    RowOffset = 1+ConfigurationNumber*(TotalNumberOfParticles+2)\n",
    "    print(\"RowOffset: \",RowOffset)\n",
    "    Data = Data.strip()\n",
    "    FirstRow = Data.split(sep='\\n')[RowOffset]\n",
    "    NumberOfAParticles = int(FirstRow.split()[5].strip('|'))\n",
    "    NumberOfBParticles = int(FirstRow.split()[7].strip('|'))\n",
    "    ListOfRows = Data.split(sep='\\n')[RowOffset+1:RowOffset+1+TotalNumberOfParticles]\n",
    "    if (len(ListOfRows) > 0):\n",
    "        NumberOfColumns = len(ListOfRows[0].split()) - 1\n",
    "    else:\n",
    "        NumberOfColumns = 0\n",
    "    APositions = np.empty((NumberOfAParticles, NumberOfColumns))\n",
    "    BPositions = np.empty((NumberOfBParticles, NumberOfColumns))\n",
    "    AIndex = 0\n",
    "    BIndex = 0\n",
    "    \n",
    "    for i in range(len(ListOfRows)):\n",
    "        if (ListOfRows[i].split()[NumberOfColumns] == 'A'):\n",
    "            for j in range(NumberOfColumns):\n",
    "                APositions[AIndex,j] = ListOfRows[i].split()[j]\n",
    "            AIndex += 1\n",
    "        else:\n",
    "            for j in range(NumberOfColumns):\n",
    "                BPositions[BIndex,j] = ListOfRows[i].split()[j]\n",
    "            BIndex += 1\n",
    "    return APositions, BPositions\n",
    "\n",
    "def readParticleConfigFromDialog(ConfigurationNumber):\n",
    "    return readParticleConfig(getFilePathFromDialog(dataPath),ConfigurationNumber)"
   ]
  },
  {
   "cell_type": "code",
   "execution_count": null,
   "metadata": {},
   "outputs": [],
   "source": [
    "def LinearFunction(x,m,n):\n",
    "    return m*x+n"
   ]
  },
  {
   "cell_type": "code",
   "execution_count": null,
   "metadata": {},
   "outputs": [],
   "source": [
    "dataPath = getDirectoryPathFromDialog('')"
   ]
  },
  {
   "cell_type": "markdown",
   "metadata": {},
   "source": [
    "## Energy series"
   ]
  },
  {
   "cell_type": "code",
   "execution_count": null,
   "metadata": {},
   "outputs": [],
   "source": [
    "EnergySeries = readFileFromDialog(1)"
   ]
  },
  {
   "cell_type": "code",
   "execution_count": null,
   "metadata": {},
   "outputs": [],
   "source": [
    "Fig, Ax = plt.subplots(2,2,squeeze=False,figsize=(15,9))\n",
    "Ax[0,0].plot(EnergySeries[:1000,0],label='U')\n",
    "Ax[0,0].plot(EnergySeries[:1000,1],label='T')\n",
    "Ax[0,0].plot(EnergySeries[:1000,2],label='H=U+T')\n",
    "Ax[0,0].legend()\n",
    "Ax[0,1].plot(EnergySeries[:,2],label='H=U+T')\n",
    "Ax[0,1].set_ylabel('H=T+U')\n",
    "MeanH = np.mean(EnergySeries[:,2])\n",
    "print(\"H=\",MeanH,'+-',np.std(EnergySeries[:,2]))\n",
    "print(\"U=\",np.mean(EnergySeries[:,0]),'+-',np.std(EnergySeries[:,0]))\n",
    "print(\"T=\",np.mean(EnergySeries[:,1]),'+-',np.std(EnergySeries[:,1]))\n",
    "Ax[0,1].plot(MeanH*np.ones(len(EnergySeries[:,2])))\n",
    "n,bins,patches = Ax[1,1].hist(EnergySeries[:,2],bins = 41, density = True)\n",
    "Ax[1,1].vlines(MeanH,0,np.max(n),color='darkorange')\n",
    "Ax[1,1].set_title(\"Histogram of H\")\n",
    "Ax[1,0].plot(EnergySeries[:,1])\n",
    "Ax[1,0].set_ylabel('T')"
   ]
  },
  {
   "cell_type": "code",
   "execution_count": null,
   "metadata": {},
   "outputs": [],
   "source": [
    "PotEnergySeriesMC = readFileFromDialog(1)"
   ]
  },
  {
   "cell_type": "code",
   "execution_count": null,
   "metadata": {},
   "outputs": [],
   "source": [
    "Fix, Ax = plt.subplots(2,1,squeeze=False,figsize=(10,12))\n",
    "Ax[0,0].plot(PotEnergySeriesMC)\n",
    "Ax[0,0].plot(EnergySeries[:,0])\n",
    "print(\"U Monte Carlo = \",np.mean(PotEnergySeriesMC),\"+-\",np.std(PotEnergySeriesMC))\n",
    "print(\"U MD = \",np.mean(EnergySeries[:,0]),\"+-\",np.std(EnergySeries[:,0]))\n",
    "a = Ax[1,0].hist(PotEnergySeriesMC,bins = 41, density = True, alpha = 0.7)\n",
    "a = Ax[1,0].hist(EnergySeries[:,0],bins = 41, density = True,alpha =0.7)"
   ]
  },
  {
   "cell_type": "markdown",
   "metadata": {},
   "source": [
    "## Average displacement"
   ]
  },
  {
   "cell_type": "code",
   "execution_count": null,
   "metadata": {},
   "outputs": [],
   "source": [
    "traveledData = readFileFromDialog(1)"
   ]
  },
  {
   "cell_type": "code",
   "execution_count": null,
   "metadata": {
    "scrolled": false
   },
   "outputs": [],
   "source": [
    "Fig, Ax = plt.subplots(len(traveledData[0]),2,squeeze=False, figsize = (10,5*len(traveledData[0])), dpi = 100)\n",
    "Means = np.zeros(len(traveledData[0]))\n",
    "for i in range(len(traveledData[0])):\n",
    "    Ax[i,0].plot(traveledData[1:,i],'.',label='y={}'.format(traveledData[0,i]))\n",
    "    Means[i] = np.mean(traveledData[1:,i])\n",
    "    Ax[i,0].plot(Means[i]*np.ones(len(traveledData[1:,i])))\n",
    "    Ax[i,0].legend()\n",
    "    n,bins,patches = Ax[i,1].hist(traveledData[1:,i],bins = 41, density = True)\n",
    "    Ax[i,1].vlines(Means[i],0,np.max(n),color='darkorange')"
   ]
  },
  {
   "cell_type": "code",
   "execution_count": null,
   "metadata": {},
   "outputs": [],
   "source": [
    "Fig, Ax = plt.subplots(1,1,squeeze=False,figsize=(5,5), dpi = 100)\n",
    "Ax[0,0].plot(Means,traveledData[0],'.')\n",
    "Ax[0,0].set_xlabel('average $\\Delta x / \\sigma$ per sweep')\n",
    "Ax[0,0].set_ylabel('y / $\\sigma$')\n",
    "#Ax[0,0].set_ylim(0,1)\n",
    "popt, pcov = curve_fit(LinearFunction, Means[:], traveledData[0][:])\n",
    "print(popt)\n",
    "print(popt[1]/popt[0])\n",
    "print('shear rate: {:.3E}'.format(1/popt[0]))\n",
    "Ax[0,0].plot(Means[:],LinearFunction(Means[:],*popt))\n",
    "Ax[0,0].set_title('Average $\\Delta x$ vs y')\n",
    "Ax[0,0].ticklabel_format(axis='x', style='sci', scilimits=(-2,2))\n",
    "#Fig.savefig(\"plots/shear_analysis/avg_delta_x_field_no_lees_edwards_T=1.png\",format='png')"
   ]
  },
  {
   "cell_type": "code",
   "execution_count": null,
   "metadata": {},
   "outputs": [],
   "source": []
  }
 ],
 "metadata": {
  "kernelspec": {
   "display_name": "Python 3",
   "language": "python",
   "name": "python3"
  },
  "language_info": {
   "codemirror_mode": {
    "name": "ipython",
    "version": 3
   },
   "file_extension": ".py",
   "mimetype": "text/x-python",
   "name": "python",
   "nbconvert_exporter": "python",
   "pygments_lexer": "ipython3",
   "version": "3.8.5"
  }
 },
 "nbformat": 4,
 "nbformat_minor": 5
}
