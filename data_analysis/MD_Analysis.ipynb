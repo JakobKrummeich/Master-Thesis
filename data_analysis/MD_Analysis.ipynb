{
 "cells": [
  {
   "cell_type": "code",
   "execution_count": null,
   "id": "07a84c7c",
   "metadata": {},
   "outputs": [],
   "source": [
    "import numpy as np\n",
    "import os\n",
    "import matplotlib.pyplot as plt\n",
    "import matplotlib\n",
    "matplotlib.use('Qt5Agg')\n",
    "%matplotlib qt\n",
    "from scipy.optimize import curve_fit\n",
    "import glob\n",
    "import re\n",
    "from tkinter import filedialog as fd\n",
    "from tkinter import *"
   ]
  },
  {
   "cell_type": "code",
   "execution_count": null,
   "id": "a3ec0f91",
   "metadata": {},
   "outputs": [],
   "source": [
    "def getFilePathFromDialog(_initialdir):\n",
    "    root = Tk()\n",
    "    FilePath = fd.askopenfilename(initialdir = _initialdir)\n",
    "    root.destroy()\n",
    "    return FilePath\n",
    "\n",
    "def getDirectoryPathFromDialog(_initialdir):\n",
    "    root = Tk()\n",
    "    Directory = fd.askdirectory(initialdir = _initialdir)\n",
    "    root.destroy()\n",
    "    return Directory"
   ]
  },
  {
   "cell_type": "code",
   "execution_count": null,
   "id": "542134ca",
   "metadata": {},
   "outputs": [],
   "source": [
    "def readFile(path, skiprows):\n",
    "    return np.loadtxt(path, dtype=float, skiprows=skiprows)\n",
    "\n",
    "def readFileFromDialog(skiprows):\n",
    "    return readFile(getFilePathFromDialog(dataPath),skiprows)"
   ]
  },
  {
   "cell_type": "code",
   "execution_count": null,
   "id": "1d4d1dce",
   "metadata": {},
   "outputs": [],
   "source": [
    "def readParticleConfig(path,ConfigurationNumber,Skiplines):\n",
    "    TotalNumberOfParticles = int(re.search(r'(?<=N=)[\\d]*',path).group())\n",
    "    with open(path,'r') as F:\n",
    "        Data = F.read()\n",
    "    RowOffset = Skiplines+ConfigurationNumber*(TotalNumberOfParticles+2)\n",
    "    print(\"RowOffset: \",RowOffset)\n",
    "    Data = Data.strip()\n",
    "    FirstRow = Data.split(sep='\\n')[RowOffset]\n",
    "    NumberOfAParticles = int(FirstRow.split()[7].strip('|'))\n",
    "    NumberOfBParticles = int(FirstRow.split()[9].strip('|'))\n",
    "    ListOfRows = Data.split(sep='\\n')[RowOffset+1:RowOffset+1+TotalNumberOfParticles]\n",
    "    if (len(ListOfRows) > 0):\n",
    "        NumberOfColumns = len(ListOfRows[0].split()) - 1\n",
    "    else:\n",
    "        NumberOfColumns = 0\n",
    "    APositions = np.empty((NumberOfAParticles, 2))\n",
    "    AVelocities = np.empty((NumberOfAParticles, 2))\n",
    "    BPositions = np.empty((NumberOfBParticles, 2))\n",
    "    BVelocities = np.empty((NumberOfBParticles, 2))\n",
    "    AIndex = 0\n",
    "    BIndex = 0\n",
    "    \n",
    "    for i in range(len(ListOfRows)):\n",
    "        if (ListOfRows[i].split()[NumberOfColumns] == 'A'):\n",
    "            for j in range(2):\n",
    "                APositions[AIndex,j] = ListOfRows[i].split()[j]\n",
    "            for j in range(2):\n",
    "                AVelocities[AIndex,j] = ListOfRows[i].split()[2+j]\n",
    "            AIndex += 1\n",
    "        else:\n",
    "            for j in range(2):\n",
    "                BPositions[BIndex,j] = ListOfRows[i].split()[j]\n",
    "            for j in range(2):\n",
    "                BVelocities[BIndex,j] = ListOfRows[i].split()[2+j]\n",
    "            BIndex += 1\n",
    "    return APositions, AVelocities, BPositions, BVelocities\n",
    "\n",
    "def readParticleConfigFromDialog(ConfigurationNumber,Skiplines):\n",
    "    return readParticleConfig(getFilePathFromDialog(dataPath),ConfigurationNumber,Skiplines)"
   ]
  },
  {
   "cell_type": "code",
   "execution_count": null,
   "id": "cd4c29d0",
   "metadata": {},
   "outputs": [],
   "source": [
    "def LinearFunction(x,m,n):\n",
    "    return m*x+n"
   ]
  },
  {
   "cell_type": "code",
   "execution_count": null,
   "id": "6e1c81e5",
   "metadata": {},
   "outputs": [],
   "source": [
    "def extractAngles(structureFactorData):\n",
    "    angleList = []\n",
    "    numberOfEntriesList = []\n",
    "    currentAngle = structureFactorData[0,0]\n",
    "    angleList.append(currentAngle)\n",
    "    numberOfEntries=0\n",
    "    for angle in structureFactorData[:,0]:\n",
    "        if (angle != currentAngle):\n",
    "            angleList.append(angle)\n",
    "            currentAngle = angle\n",
    "            numberOfEntriesList.append(numberOfEntries)\n",
    "            numberOfEntries=1\n",
    "        else:\n",
    "            numberOfEntries+=1\n",
    "    numberOfEntriesList.append(numberOfEntries)\n",
    "    return angleList,numberOfEntriesList"
   ]
  },
  {
   "cell_type": "code",
   "execution_count": null,
   "id": "e07182c6",
   "metadata": {},
   "outputs": [],
   "source": [
    "def extractSeparateAngleArrays(structureFactorData):\n",
    "    angleList, numberOfEntriesList = extractAngles(structureFactorData)\n",
    "    angleArrayList = []\n",
    "    currentIndex = 0\n",
    "    for i in range(len(angleList)):\n",
    "        angleArrayList.append(structureFactorData[currentIndex:currentIndex+numberOfEntriesList[i],1:])\n",
    "        currentIndex+=numberOfEntriesList[i]\n",
    "    return angleList,angleArrayList"
   ]
  },
  {
   "cell_type": "code",
   "execution_count": null,
   "id": "01570ee0",
   "metadata": {},
   "outputs": [],
   "source": [
    "def plotStructureFactors(angleList,angleArrayList,angleIndex):\n",
    "    fig, ax = plt.subplots(4,1,squeeze=False,figsize=(10,12), dpi = 100)\n",
    "    labels = ['$S_{AA}$','$S_{BB}$','$S_{AB}$','$S_{cc}$']\n",
    "    fig.suptitle('angle={}'.format(angleList[angleIndex]))\n",
    "    for i in range(4):\n",
    "        ax[i,0].plot(angleArrayList[angleIndex][:,0],angleArrayList[angleIndex][:,i+1])\n",
    "        ax[i,0].set_ylabel(labels[i])\n",
    "        ax[i,0].set_xlabel('k')\n",
    "    fig.tight_layout()"
   ]
  },
  {
   "cell_type": "code",
   "execution_count": null,
   "id": "fbf9e284",
   "metadata": {},
   "outputs": [],
   "source": [
    "dataPath = getDirectoryPathFromDialog('')"
   ]
  },
  {
   "cell_type": "markdown",
   "id": "df159dbb",
   "metadata": {},
   "source": [
    "## Energy series"
   ]
  },
  {
   "cell_type": "code",
   "execution_count": null,
   "id": "d623badc",
   "metadata": {},
   "outputs": [],
   "source": [
    "EnergySeries = readFileFromDialog(1)"
   ]
  },
  {
   "cell_type": "code",
   "execution_count": null,
   "id": "7e82bd2f",
   "metadata": {
    "scrolled": false
   },
   "outputs": [],
   "source": [
    "Fig, Ax = plt.subplots(2,2,squeeze=False,figsize=(15,9))\n",
    "Ax[0,0].plot(EnergySeries[:1000,2],label='H=U+T')\n",
    "Ax[0,0].plot(EnergySeries[:1000,0],label='U')\n",
    "Ax[0,0].plot(EnergySeries[:1000,1],label='T')\n",
    "Ax[0,0].legend()\n",
    "Ax[0,1].plot(EnergySeries[:,2],label='H=U+T')\n",
    "Ax[0,1].set_ylabel('H=T+U')\n",
    "MeanH = np.mean(EnergySeries[:,2])\n",
    "print(\"H=\",MeanH,'+-',np.std(EnergySeries[:,2]))\n",
    "print(\"U=\",np.mean(EnergySeries[:,0]),'+-',np.std(EnergySeries[:,0]))\n",
    "print(\"T=\",np.mean(EnergySeries[:,1]),'+-',np.std(EnergySeries[:,1]))\n",
    "#Ax[0,1].plot(MeanH*np.ones(len(EnergySeries[:,2])))\n",
    "n,bins,patches = Ax[1,1].hist(EnergySeries[:,2],bins = 41, density = True)\n",
    "#Ax[1,1].vlines(MeanH,0,np.max(n),color='darkorange')\n",
    "Ax[1,1].set_title(\"Histogram of H\")\n",
    "Ax[1,0].plot(EnergySeries[:,1],color='g')\n",
    "Ax[1,0].set_ylabel('T')"
   ]
  },
  {
   "cell_type": "code",
   "execution_count": null,
   "id": "af264626",
   "metadata": {},
   "outputs": [],
   "source": [
    "PotEnergySeriesMC = readFileFromDialog(1)"
   ]
  },
  {
   "cell_type": "code",
   "execution_count": null,
   "id": "aed84166",
   "metadata": {},
   "outputs": [],
   "source": [
    "Fix, Ax = plt.subplots(2,1,squeeze=False,figsize=(10,12))\n",
    "Ax[0,0].plot(PotEnergySeriesMC)\n",
    "Ax[0,0].plot(EnergySeries[:,0])\n",
    "print(\"U Monte Carlo = \",np.mean(PotEnergySeriesMC),\"+-\",np.std(PotEnergySeriesMC))\n",
    "print(\"U MD = \",np.mean(EnergySeries[:,0]),\"+-\",np.std(EnergySeries[:,0]))\n",
    "a = Ax[1,0].hist(PotEnergySeriesMC,bins = 41, density = True, alpha = 0.7)\n",
    "a = Ax[1,0].hist(EnergySeries[:,0],bins = 41, density = True,alpha =0.7)"
   ]
  },
  {
   "cell_type": "markdown",
   "id": "78f4023f",
   "metadata": {},
   "source": [
    "## Average velocity"
   ]
  },
  {
   "cell_type": "code",
   "execution_count": null,
   "id": "3b8336f8",
   "metadata": {},
   "outputs": [],
   "source": [
    "avgVelocities = readFileFromDialog(0)"
   ]
  },
  {
   "cell_type": "code",
   "execution_count": null,
   "id": "527a2abd",
   "metadata": {},
   "outputs": [],
   "source": [
    "Fig, Ax = plt.subplots(1,2,squeeze=False,figsize=(10,5), dpi = 100)\n",
    "Ax[0,0].plot(avgVelocities[1],avgVelocities[0],'.')\n",
    "Ax[0,0].set_xlabel('avg $v_x$ [$\\sigma/\\\\tau$]')\n",
    "Ax[0,0].set_ylabel('y / $\\sigma$')\n",
    "popt, pcov = curve_fit(LinearFunction, avgVelocities[1], avgVelocities[0])\n",
    "print('shear rate: {:.3E}'.format(1/popt[0]))\n",
    "Ax[0,0].plot(avgVelocities[1],LinearFunction(avgVelocities[1],*popt))\n",
    "Ax[0,0].set_title('Average $v_x$ vs y')\n",
    "Ax[0,0].ticklabel_format(axis='x', style='sci', scilimits=(-2,2))\n",
    "\n",
    "Ax[0,1].plot(avgVelocities[2],avgVelocities[0],'.')\n",
    "Ax[0,1].set_xlabel('avg $v_y$ [$\\sigma/\\\\tau$]')\n",
    "Ax[0,1].set_ylabel('y / $\\sigma$')\n",
    "Ax[0,1].set_title('Average $v_y$ vs y')\n",
    "Ax[0,1].ticklabel_format(axis='x', style='sci', scilimits=(-2,2))\n",
    "\n",
    "#Fig.savefig(\"plots/shear_analysis/avg_delta_x_field_no_lees_edwards_T=1.png\",format='png')"
   ]
  },
  {
   "cell_type": "markdown",
   "id": "de0fccef",
   "metadata": {},
   "source": [
    "## Stress plotting"
   ]
  },
  {
   "cell_type": "code",
   "execution_count": null,
   "id": "7ca31e1d",
   "metadata": {},
   "outputs": [],
   "source": [
    "shearStressSeries = readFileFromDialog(1)\n",
    "print(np.mean(shearStressSeries))"
   ]
  },
  {
   "cell_type": "code",
   "execution_count": null,
   "id": "c9c41489",
   "metadata": {},
   "outputs": [],
   "source": [
    "Fig, Ax = plt.subplots(1,2, squeeze=False, figsize=(12,5))\n",
    "Ax[0,0].plot(shearStressSeries[:],alpha=0.4)\n",
    "Ax[0,0].set_xlabel('timestep')\n",
    "Ax[0,0].set_ylabel('shear stress')\n",
    "Ax[0,0].set_title('shear stress vs time')\n",
    "#Ax[0,0].set_xscale('log')\n",
    "Ax[0,0].hlines(np.mean(shearStressSeries), 0, len(shearStressSeries), color='orange')\n",
    "#Fig.savefig(\"shear_stress_time_series_shear_rate=0.05.png\",format='png')\n",
    "n,bins,patches = Ax[0,1].hist(shearStressSeries[:],bins = 41, density = True)\n",
    "Ax[0,1].vlines(np.mean(shearStressSeries),0,np.max(n),color='darkorange')\n",
    "Ax[0,1].set_title('shear stress histogram')\n",
    "Ax[0,1].set_xlabel('shear stress')"
   ]
  },
  {
   "cell_type": "code",
   "execution_count": null,
   "id": "242ecc9c",
   "metadata": {},
   "outputs": [],
   "source": [
    "NumberOfSubdivisions = 14"
   ]
  },
  {
   "cell_type": "code",
   "execution_count": null,
   "id": "2a721315",
   "metadata": {},
   "outputs": [],
   "source": [
    "xStressData = readFileFromDialog(2)"
   ]
  },
  {
   "cell_type": "code",
   "execution_count": null,
   "id": "8ae4f36f",
   "metadata": {
    "scrolled": true
   },
   "outputs": [],
   "source": [
    "Fig, Ax = plt.subplots(NumberOfSubdivisions,2,squeeze=False, figsize= (10,2.5*NumberOfSubdivisions),dpi =100)\n",
    "xAxis = np.linspace(1.0/(2.0*NumberOfSubdivisions),1.0-1.0/(2.0*NumberOfSubdivisions),num = NumberOfSubdivisions)\n",
    "for i in range(NumberOfSubdivisions):\n",
    "    Ax[i,0].plot(xAxis,xStressData[NumberOfSubdivisions-1-i::NumberOfSubdivisions,3],label='y={}'.format(xStressData[NumberOfSubdivisions-1-i,0]))\n",
    "    Ax[i,0].plot(xAxis,np.ones(len(xAxis))*np.mean(xStressData[NumberOfSubdivisions-1-i::NumberOfSubdivisions,3]))\n",
    "    Ax[i,0].legend()\n",
    "    Ax[i,1].plot(xAxis,xStressData[NumberOfSubdivisions-1-i::NumberOfSubdivisions,4],label='y={}'.format(xStressData[NumberOfSubdivisions-1-i,0]))\n",
    "    MeanShear = np.mean(xStressData[NumberOfSubdivisions-1-i::NumberOfSubdivisions,4])\n",
    "    Ax[i,1].plot(xAxis,np.ones(len(xAxis))*MeanShear,label='Avg = {:.4f}'.format(MeanShear))\n",
    "    Ax[i,1].legend()\n",
    "Fig.suptitle(\"Stresses of cuts in x direction (left column normal stresses, right column shear stresses)\",y= 0.90)"
   ]
  },
  {
   "cell_type": "code",
   "execution_count": null,
   "id": "b92cc9f4",
   "metadata": {},
   "outputs": [],
   "source": [
    "Mean = 0\n",
    "for i in range(NumberOfSubdivisions-1):\n",
    "    Mean += np.mean(xStressData[NumberOfSubdivisions-i-2::NumberOfSubdivisions,4])\n",
    "print(\"Avg shear stress except top layer: {:.4f}\".format(Mean/(NumberOfSubdivisions-1)))"
   ]
  },
  {
   "cell_type": "code",
   "execution_count": null,
   "id": "71b0e559",
   "metadata": {},
   "outputs": [],
   "source": [
    "Fig, Ax = plt.subplots(1,1,squeeze=False, figsize= (10,6),dpi =100)\n",
    "xAxis = np.linspace(1.0/(2.0*NumberOfSubdivisions),1.0-1.0/(2.0*NumberOfSubdivisions),num = NumberOfSubdivisions)\n",
    "for i in range(NumberOfSubdivisions):\n",
    "    line = Ax[0,0].plot(xAxis,xStressData[NumberOfSubdivisions-1-i::NumberOfSubdivisions,4])\n",
    "    MeanShear = np.mean(xStressData[NumberOfSubdivisions-1-i::NumberOfSubdivisions,4])\n",
    "    Ax[0,0].plot(xAxis,np.ones(len(xAxis))*MeanShear,color = line[0].get_color(), label='y={}, Avg = {:.4f}'.format(xStressData[NumberOfSubdivisions-1-i,0],MeanShear))\n",
    "Ax[0,0].legend()"
   ]
  },
  {
   "cell_type": "code",
   "execution_count": null,
   "id": "59dfa129",
   "metadata": {},
   "outputs": [],
   "source": [
    "Fig, Ax = plt.subplots(1,1,squeeze=False, figsize= (10,6),dpi =100)\n",
    "xAxis = np.linspace(1.0/NumberOfSubdivisions,1.0,num = NumberOfSubdivisions)\n",
    "for i in range(NumberOfSubdivisions):\n",
    "    line = Ax[0,0].plot(xAxis,xStressData[NumberOfSubdivisions*i:NumberOfSubdivisions*(i+1),4])\n",
    "    MeanShear = np.mean(xStressData[NumberOfSubdivisions*i:NumberOfSubdivisions*(i+1),4])\n",
    "    Ax[0,0].plot(xAxis,np.ones(len(xAxis))*MeanShear,color = line[0].get_color(),label='x={}'.format(xAxis[i]))\n",
    "Ax[0,0].legend()\n",
    "Ax[0,0].set_xlim(0,1)"
   ]
  },
  {
   "cell_type": "code",
   "execution_count": null,
   "id": "e1ce198e",
   "metadata": {},
   "outputs": [],
   "source": [
    "yStressData = readFileFromDialog(2)"
   ]
  },
  {
   "cell_type": "code",
   "execution_count": null,
   "id": "1260c79c",
   "metadata": {
    "scrolled": true
   },
   "outputs": [],
   "source": [
    "Fig, Ax = plt.subplots(NumberOfSubdivisions,2,squeeze=False, figsize= (10,2.5*NumberOfSubdivisions),dpi =100)\n",
    "xAxis = np.linspace(1.0/(2.0*NumberOfSubdivisions),1.0-1.0/(2.0*NumberOfSubdivisions),num = NumberOfSubdivisions)\n",
    "for i in range(NumberOfSubdivisions):\n",
    "    Ax[i,0].plot(xAxis,yStressData[i::NumberOfSubdivisions,3],label='x={}'.format(yStressData[i,0]))\n",
    "    MeanNormal = np.mean(yStressData[i::NumberOfSubdivisions,3])\n",
    "    Ax[i,0].plot(xAxis,np.ones(len(xAxis))*MeanNormal)\n",
    "    Ax[i,0].legend()\n",
    "    Ax[i,1].plot(xAxis,yStressData[i::NumberOfSubdivisions,4],label='x={}'.format(yStressData[i,0]))\n",
    "    MeanShear = np.mean(yStressData[i::NumberOfSubdivisions,4])\n",
    "    Ax[i,1].plot(xAxis,np.ones(len(xAxis))*MeanShear,label='Avg={:.3f}'.format(MeanShear))\n",
    "    Ax[i,1].legend()\n",
    "Fig.suptitle(\"Stresses of cuts in y direction (left column normal stresses, right column shear stresses)\",y= 0.90)"
   ]
  },
  {
   "cell_type": "code",
   "execution_count": null,
   "id": "27b1b77e",
   "metadata": {},
   "outputs": [],
   "source": [
    "Fig, Ax = plt.subplots(1,1,squeeze=False, figsize= (10,6),dpi =100)\n",
    "xAxis = np.linspace(1.0/(2.0*NumberOfSubdivisions),1.0-1.0/(2.0*NumberOfSubdivisions),num = NumberOfSubdivisions)\n",
    "for i in range(NumberOfSubdivisions):\n",
    "    line = Ax[0,0].plot(xAxis,yStressData[NumberOfSubdivisions-1-i::NumberOfSubdivisions,4])\n",
    "    MeanShear = np.mean(yStressData[NumberOfSubdivisions-1-i::NumberOfSubdivisions,4])\n",
    "    Ax[0,0].plot(xAxis,np.ones(len(xAxis))*MeanShear,color = line[0].get_color(), label='x={}, Avg = {:.4f}'.format(yStressData[NumberOfSubdivisions-1-i,0],MeanShear))\n",
    "Ax[0,0].legend()"
   ]
  },
  {
   "cell_type": "code",
   "execution_count": null,
   "id": "76786f03",
   "metadata": {},
   "outputs": [],
   "source": [
    "Fig, Ax = plt.subplots(1,1,squeeze=False, figsize= (10,6),dpi =100)\n",
    "xAxis = np.linspace(1.0/NumberOfSubdivisions,1.0,num = NumberOfSubdivisions)\n",
    "for i in range(NumberOfSubdivisions):\n",
    "    line = Ax[0,0].plot(xAxis,yStressData[NumberOfSubdivisions*i:NumberOfSubdivisions*(i+1),4])\n",
    "    MeanShear = np.mean(yStressData[NumberOfSubdivisions*i:NumberOfSubdivisions*(i+1),4])\n",
    "    Ax[0,0].plot(xAxis,np.ones(len(xAxis))*MeanShear,color = line[0].get_color(),label='y={}'.format(xAxis[i]))\n",
    "#Ax[0,0].legend()\n",
    "Ax[0,0].set_xlim(0,1)"
   ]
  },
  {
   "cell_type": "code",
   "execution_count": null,
   "id": "71df3f87",
   "metadata": {},
   "outputs": [],
   "source": [
    "print(\"Avg normal stress perp to x direction: {:.4f}\".format(np.mean(xStressData[:,3])))\n",
    "print(\"Avg normal stress perp to y direction: {:.4f}\".format(np.mean(yStressData[:,3])))\n",
    "print(\"Avg pressure: {:.4f}\".format((np.mean(xStressData[:,3])+np.mean(yStressData[:,3]))*0.5))\n",
    "print(\"Avg shear stress x direction: {:.4f}\".format(np.mean(xStressData[:,4])))\n",
    "print(\"Avg shear stress y direction: {:.4f}\".format(np.mean(yStressData[:,4])))"
   ]
  },
  {
   "cell_type": "markdown",
   "id": "44f45f5d",
   "metadata": {},
   "source": [
    "## Shear stresses vs shear rates"
   ]
  },
  {
   "cell_type": "code",
   "execution_count": null,
   "id": "ccffb4f3",
   "metadata": {},
   "outputs": [],
   "source": [
    "ShearRates = np.array([0.01,0.02,0.03,0.04,0.05,0.06,0.07,0.08,0.09,0.10])\n",
    "ShearStresses = np.array([0.0067,0.0193,0.0340,0.0405,0.0537,0.0635,0.0732,0.0827,0.0935,0.1051])"
   ]
  },
  {
   "cell_type": "code",
   "execution_count": null,
   "id": "a49a1271",
   "metadata": {},
   "outputs": [],
   "source": [
    "Fig, Ax = plt.subplots(1,1,squeeze=False, figsize=(6,5), dpi = 100)\n",
    "Ax[0,0].plot(ShearRates, ShearStresses,'.')\n",
    "Ax[0,0].set_xlabel(r'shear rate '+r'[$1/\\tau_0$]')\n",
    "Ax[0,0].set_ylabel('shear stress '+r'[$\\epsilon/\\sigma^2$]')\n",
    "popt, pcov = curve_fit(lambda x,m: LinearFunction(x,m,0.0), ShearRates, ShearStresses)\n",
    "Ax[0,0].legend()\n",
    "print('viscosity= {:.4f}'.format(popt[0]), 'epsilon*tau_0 / (sigma^2)')\n",
    "#Fig.savefig(\"avg_shear_stresses_vs_shear_rate_T=2.0.png\",format='png')"
   ]
  },
  {
   "cell_type": "markdown",
   "id": "34d94538",
   "metadata": {},
   "source": [
    "## Number of particles"
   ]
  },
  {
   "cell_type": "code",
   "execution_count": null,
   "id": "e24de469",
   "metadata": {},
   "outputs": [],
   "source": [
    "NAHistequi = readFileFromDialog(1)"
   ]
  },
  {
   "cell_type": "code",
   "execution_count": null,
   "id": "f15c2f30",
   "metadata": {},
   "outputs": [],
   "source": [
    "NAHistshear = []\n",
    "for i in range(5):\n",
    "    newHistshear = readFileFromDialog(1)\n",
    "    NAHistshear.append(newHistshear)"
   ]
  },
  {
   "cell_type": "code",
   "execution_count": null,
   "id": "cb744f6b",
   "metadata": {},
   "outputs": [],
   "source": [
    "Fig, Ax = plt.subplots(1,1,squeeze=False,figsize=(6,6), dpi = 100)\n",
    "Ax[0,0].plot(NAHistequi[:,0],NAHistequi[:,1],label='equilibrium')\n",
    "for i in range(5):\n",
    "    Ax[0,0].plot(NAHistshear[i][:,0],NAHistshear[i][:,1])\n",
    "Ax[0,0].legend()\n",
    "#Ax[0,0].set_xlim(0.1,0.16)\n",
    "#Ax[0,0].set_ylim(2.5,4.5)\n",
    "Ax[0,0].set_xlabel('$x_A$')\n",
    "Ax[0,0].set_ylabel('probability density')"
   ]
  },
  {
   "cell_type": "markdown",
   "id": "c651bd37",
   "metadata": {},
   "source": [
    "## Binder cumulant and first moment vs shear rate"
   ]
  },
  {
   "cell_type": "code",
   "execution_count": null,
   "id": "89d8cc62",
   "metadata": {},
   "outputs": [],
   "source": [
    "cumulant_vs_shear_rate = readFileFromDialog(1)"
   ]
  },
  {
   "cell_type": "code",
   "execution_count": null,
   "id": "786f2a3d",
   "metadata": {},
   "outputs": [],
   "source": [
    "Fig, Ax = plt.subplots(1,2,squeeze=False,figsize=(12,6), dpi = 100)\n",
    "Ax[0,0].plot(cumulant_vs_shear_rate[:,0],cumulant_vs_shear_rate[:,1])\n",
    "Ax[0,1].plot(cumulant_vs_shear_rate[:,0],cumulant_vs_shear_rate[:,2])\n",
    "Ax[0,0].set_xlabel('$\\dot{\\gamma}$')\n",
    "Ax[0,1].set_xlabel('$\\dot{\\gamma}$')\n",
    "Ax[0,0].set_ylabel('first moment xA')\n",
    "Ax[0,1].set_ylabel('binder cumulant')"
   ]
  },
  {
   "cell_type": "markdown",
   "id": "b7294907",
   "metadata": {},
   "source": [
    "## Im(g_22)"
   ]
  },
  {
   "cell_type": "code",
   "execution_count": null,
   "id": "5ca32c29",
   "metadata": {},
   "outputs": [],
   "source": [
    "img22 = readFileFromDialog(1)"
   ]
  },
  {
   "cell_type": "code",
   "execution_count": null,
   "id": "c2113495",
   "metadata": {},
   "outputs": [],
   "source": [
    "Fig, Ax = plt.subplots(3,1,squeeze=False, figsize= (10, 12), dpi = 100)\n",
    "labelList = ['Im($g_{22}^{AA}$)','Im($g_{22}^{BB}$)','Im($g_{22}^{AB}$)']\n",
    "for i in range(3):\n",
    "    Ax[i,0].plot(img22[:,0],img22[:,i+1])\n",
    "    Ax[i,0].set_ylim(-0.4,0.3)\n",
    "    Ax[i,0].set_xlabel('r [$\\sigma$]')\n",
    "    Ax[i,0].set_ylabel(labelList[i])\n",
    "Fig.tight_layout()\n",
    "#Fig.savefig(\"Img22_shear.png\",format='png')"
   ]
  },
  {
   "cell_type": "markdown",
   "id": "50006e2d",
   "metadata": {},
   "source": [
    "## structure factors"
   ]
  },
  {
   "cell_type": "code",
   "execution_count": null,
   "id": "b04f5be0",
   "metadata": {},
   "outputs": [],
   "source": [
    "structureFactors = readFileFromDialog(1)"
   ]
  },
  {
   "cell_type": "code",
   "execution_count": null,
   "id": "d428bb2f",
   "metadata": {},
   "outputs": [],
   "source": [
    "angleList,angleArrayList = extractSeparateAngleArrays(structureFactors)"
   ]
  },
  {
   "cell_type": "code",
   "execution_count": null,
   "id": "280c3716",
   "metadata": {
    "scrolled": false
   },
   "outputs": [],
   "source": [
    "plotStructureFactors(angleList,angleArrayList,0)"
   ]
  },
  {
   "cell_type": "code",
   "execution_count": null,
   "id": "66408aae",
   "metadata": {},
   "outputs": [],
   "source": [
    "plotStructureFactors(angleList,angleArrayList,10)"
   ]
  },
  {
   "cell_type": "markdown",
   "id": "963388f0",
   "metadata": {},
   "source": [
    "## Avg MSD"
   ]
  },
  {
   "cell_type": "code",
   "execution_count": null,
   "id": "4d167c2b",
   "metadata": {},
   "outputs": [],
   "source": [
    "AvgMSDSeries = readFileFromDialog(0)"
   ]
  },
  {
   "cell_type": "code",
   "execution_count": null,
   "id": "f0da04e8",
   "metadata": {},
   "outputs": [],
   "source": [
    "Fig, Ax = plt.subplots(1,2,squeeze=False, figsize = (12,5), dpi = 100)\n",
    "xdata = np.arange(1,len(AvgMSDSeries)+1)*stepsize\n",
    "AvgMSD_Over_t_squared = AvgMSDSeries/(xdata*xdata)\n",
    "Ax[0,0].plot(xdata,AvgMSD_Over_t_squared,'.')\n",
    "popt, pcov = curve_fit(lambda x,n: LinearFunction(x,0.0,n), xdata[:9], AvgMSD_Over_t_squared[:9])\n",
    "print(popt)\n",
    "Ax[0,0].plot(xdata[:9],LinearFunction(xdata[:9],0.0,*popt))\n",
    "Ax[0,0].set_xscale('log')\n",
    "Ax[0,0].set_yscale('log')\n",
    "Ax[0,0].set_xlabel('$t / \\\\tau$')\n",
    "Ax[0,0].set_ylabel('$MSD/t^2$')\n",
    "\n",
    "Ax[0,1].plot(xdata,AvgMSDSeries/xdata)\n",
    "Ax[0,1].set_xscale('log')\n",
    "Ax[0,1].set_yscale('log')\n",
    "Ax[0,1].set_xlabel('$t / \\\\tau$')\n",
    "Ax[0,1].set_ylabel('$MSD/t$')"
   ]
  },
  {
   "cell_type": "markdown",
   "id": "e8f92467",
   "metadata": {},
   "source": [
    "## Plot state"
   ]
  },
  {
   "cell_type": "code",
   "execution_count": null,
   "id": "6222a74e",
   "metadata": {},
   "outputs": [],
   "source": [
    "APos, AVel, BPos, BVel = readParticleConfigFromDialog(0,0)"
   ]
  },
  {
   "cell_type": "code",
   "execution_count": null,
   "id": "3ad71dcc",
   "metadata": {},
   "outputs": [],
   "source": [
    "Fig, Host = plt.subplots(1,1,squeeze=False,figsize=(5,5),dpi =200)\n",
    "Host[0,0].plot(APos[:,0],APos[:,1],'.',color='b',ms=4)\n",
    "Host[0,0].plot(BPos[:,0],BPos[:,1],'.',color='darkorange',ms=4)\n",
    "Host[0,0].set_xlabel('x')\n",
    "Host[0,0].set_ylabel('y')\n",
    "Host[0,0].set_xlim(0,1)\n",
    "Host[0,0].set_ylim(0,1)"
   ]
  },
  {
   "cell_type": "code",
   "execution_count": null,
   "id": "ceb7e339",
   "metadata": {},
   "outputs": [],
   "source": [
    "Fig, Host = plt.subplots(1,1,squeeze=False,figsize=(5,5),dpi =200)\n",
    "Host[0,0].plot(36.5*AVel[:,0],36.5*APos[:,1],'.',color='b',ms=4)\n",
    "Host[0,0].plot(36.5*BVel[:,0],36.5*BPos[:,1],'.',color='darkorange',ms=4)\n",
    "Host[0,0].set_ylabel('y')\n",
    "Host[0,0].set_xlabel('$v_x$')\n",
    "#Host[0,0].set_xlim(0,1)\n",
    "#Host[0,0].set_ylim(0,1)"
   ]
  },
  {
   "cell_type": "code",
   "execution_count": null,
   "id": "5ae21888",
   "metadata": {},
   "outputs": [],
   "source": [
    "Fig, Host = plt.subplots(1,1,squeeze=False,figsize=(5,5),dpi =200)\n",
    "Host[0,0].plot(36.5*AVel[:,1],36.5*APos[:,1],'.',color='b',ms=4)\n",
    "Host[0,0].plot(36.5*BVel[:,1],36.5*BPos[:,1],'.',color='darkorange',ms=4)\n",
    "Host[0,0].set_ylabel('y')\n",
    "Host[0,0].set_xlabel('$v_y$')\n",
    "#Host[0,0].set_xlim(0,1)\n",
    "#Host[0,0].set_ylim(0,1)"
   ]
  },
  {
   "cell_type": "code",
   "execution_count": null,
   "id": "69785f55",
   "metadata": {},
   "outputs": [],
   "source": []
  }
 ],
 "metadata": {
  "kernelspec": {
   "display_name": "Python 3",
   "language": "python",
   "name": "python3"
  },
  "language_info": {
   "codemirror_mode": {
    "name": "ipython",
    "version": 3
   },
   "file_extension": ".py",
   "mimetype": "text/x-python",
   "name": "python",
   "nbconvert_exporter": "python",
   "pygments_lexer": "ipython3",
   "version": "3.8.10"
  }
 },
 "nbformat": 4,
 "nbformat_minor": 5
}
