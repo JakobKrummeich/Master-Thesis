{
 "cells": [
  {
   "cell_type": "code",
   "execution_count": null,
   "id": "43e5933f",
   "metadata": {},
   "outputs": [],
   "source": [
    "import numpy as np\n",
    "import os\n",
    "import matplotlib.pyplot as plt\n",
    "from scipy.optimize import curve_fit\n",
    "import glob\n",
    "import re\n",
    "from tkinter import filedialog as fd\n",
    "from tkinter import *\n",
    "\n",
    "%matplotlib inline"
   ]
  },
  {
   "cell_type": "code",
   "execution_count": null,
   "id": "a945580c",
   "metadata": {},
   "outputs": [],
   "source": [
    "def readStructureFactorValues(path):\n",
    "    return np.loadtxt(path, dtype=float, skiprows = 1)"
   ]
  },
  {
   "cell_type": "code",
   "execution_count": null,
   "id": "51092837",
   "metadata": {},
   "outputs": [],
   "source": [
    "def readParticleConfig(path):\n",
    "    with open(path,'r') as F:\n",
    "        Data = F.read()\n",
    "    Data = Data.strip()\n",
    "    FirstRow = Data.split(sep='\\n')[0]\n",
    "    NumberOfAParticles = int(FirstRow.split()[6].strip('|'))\n",
    "    NumberOfBParticles = int(FirstRow.split()[8].strip('|'))\n",
    "    ListOfRows = Data.split(sep='\\n')[1:]\n",
    "    if (len(ListOfRows) > 0):\n",
    "        NumberOfColumns = len(ListOfRows[0].split()) - 2 \n",
    "    else:\n",
    "        NumberOfColumns = 0\n",
    "    APositions = np.empty((NumberOfAParticles, NumberOfColumns))\n",
    "    BPositions = np.empty((NumberOfBParticles, NumberOfColumns))\n",
    "    AIndex = 0\n",
    "    BIndex = 0\n",
    "    \n",
    "    for i in range(len(ListOfRows)):\n",
    "        if (ListOfRows[i].split()[NumberOfColumns + 1] == 'A'):\n",
    "            for j in range(NumberOfColumns):\n",
    "                APositions[AIndex,j] = ListOfRows[i].split()[j+1]\n",
    "            AIndex += 1\n",
    "        else:\n",
    "            for j in range(NumberOfColumns):\n",
    "                BPositions[BIndex,j] = ListOfRows[i].split()[j+1]\n",
    "            BIndex += 1\n",
    "    return APositions, BPositions"
   ]
  },
  {
   "cell_type": "code",
   "execution_count": null,
   "id": "ca7c5d2c",
   "metadata": {},
   "outputs": [],
   "source": [
    "APositions, BPositions = readParticleConfig(\"/home/krummeich/Master-Thesis/Data_Analysis/data/FinalParticleConfig_N=1000_T=1.000000_AvgDens=0.600000_MCRuns=500000_epsAB=0.100000.dat\")"
   ]
  },
  {
   "cell_type": "code",
   "execution_count": null,
   "id": "97a9811b",
   "metadata": {},
   "outputs": [],
   "source": [
    "Fig, Host = plt.subplots(1,1,squeeze=False,figsize=(5,5),dpi =200)\n",
    "Host[0,0].plot(APositions[:,0],APositions[:,1],'.',color='b')\n",
    "Host[0,0].plot(BPositions[:,0],BPositions[:,1],'.',color='darkorange')\n",
    "Host[0,0].set_xlabel('x')\n",
    "Host[0,0].set_ylabel('y')\n",
    "Host[0,0].set_xlim(0,1)\n",
    "Host[0,0].set_ylim(0,1)\n",
    "Host[0,0].set_title('config for T=0.335')\n",
    "Fig.savefig('Particle_config'+'.png',format='png')"
   ]
  },
  {
   "cell_type": "code",
   "execution_count": null,
   "id": "9fcf8307",
   "metadata": {},
   "outputs": [],
   "source": [
    "StructureFactorResults = readStructureFactorValues(\"/home/jakob/Documents/Studium/Master-Thesis/Data_Analysis/unsorted_data/StructureFactors_N=1000_T=1.000000_AvgDens=0.600000_MCRuns=10000_epsAB=0.100000.dat\")"
   ]
  },
  {
   "cell_type": "code",
   "execution_count": null,
   "id": "9c6bb1b8",
   "metadata": {},
   "outputs": [],
   "source": [
    "Fig, Ax = plt.subplots(1,1,squeeze=False, figsize=(10,6),dpi=200)\n",
    "Ax[0,0].plot(StructureFactorResults[:,0], StructureFactorResults[:,1])\n",
    "Ax[0,0].set_xlabel(r'$k[\\sigma^{-1}]$')\n",
    "Ax[0,0].set_ylabel('$S_{AA}(k)$')\n",
    "Ax[0,0].set_title(r'$S_{AA}$')\n",
    "#Fig.savefig('SAA'+'.png',format='png')"
   ]
  },
  {
   "cell_type": "code",
   "execution_count": null,
   "id": "f902f166",
   "metadata": {},
   "outputs": [],
   "source": [
    "Fig, Ax = plt.subplots(1,1,squeeze=False, figsize=(10,6),dpi=200)\n",
    "Ax[0,0].plot(StructureFactorResults[:,0], StructureFactorResults[:,2])\n",
    "Ax[0,0].set_xlabel(r'$k[\\sigma^{-1}]$')\n",
    "Ax[0,0].set_ylabel('$S_{BB}(k)$')\n",
    "Ax[0,0].set_title(r'$S_{BB}$')\n",
    "#Fig.savefig('SBB'+'.png',format='png')"
   ]
  },
  {
   "cell_type": "code",
   "execution_count": null,
   "id": "ea1fec2b",
   "metadata": {},
   "outputs": [],
   "source": [
    "Fig, Ax = plt.subplots(1,1,squeeze=False, figsize=(10,6),dpi=200)\n",
    "Ax[0,0].plot(StructureFactorResults[:,0], StructureFactorResults[:,3])\n",
    "Ax[0,0].set_xlabel(r'$k[\\sigma^{-1}]$')\n",
    "Ax[0,0].set_ylabel('$S_{AB}(k)$')\n",
    "Ax[0,0].set_title(r'$S_{AB}$')\n",
    "#Fig.savefig('SAB'+'.png',format='png')"
   ]
  },
  {
   "cell_type": "code",
   "execution_count": null,
   "id": "e1040432",
   "metadata": {},
   "outputs": [],
   "source": [
    "Fig, Ax = plt.subplots(1,1,squeeze=False, figsize=(10,6),dpi=200)\n",
    "Ax[0,0].plot(StructureFactorResults[:,0], StructureFactorResults[:,4])\n",
    "Ax[0,0].set_xlabel(r'$k[\\sigma^{-1}]$')\n",
    "Ax[0,0].set_ylabel('$S_{cc}(k)$')\n",
    "Ax[0,0].set_title(r'$S_{cc}$')\n",
    "#Fig.savefig('Scc'+'.png',format='png')"
   ]
  },
  {
   "cell_type": "code",
   "execution_count": null,
   "id": "258d82da",
   "metadata": {},
   "outputs": [],
   "source": []
  }
 ],
 "metadata": {
  "kernelspec": {
   "display_name": "Python 3",
   "language": "python",
   "name": "python3"
  },
  "language_info": {
   "codemirror_mode": {
    "name": "ipython",
    "version": 3
   },
   "file_extension": ".py",
   "mimetype": "text/x-python",
   "name": "python",
   "nbconvert_exporter": "python",
   "pygments_lexer": "ipython3",
   "version": "3.8.5"
  }
 },
 "nbformat": 4,
 "nbformat_minor": 5
}
