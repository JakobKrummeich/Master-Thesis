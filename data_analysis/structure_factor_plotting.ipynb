{
 "cells": [
  {
   "cell_type": "code",
   "execution_count": null,
   "id": "c4ab7bc5",
   "metadata": {},
   "outputs": [],
   "source": [
    "import numpy as np\n",
    "import os\n",
    "import matplotlib.pyplot as plt\n",
    "from scipy.optimize import curve_fit\n",
    "import glob\n",
    "import re\n",
    "from tkinter import filedialog as fd\n",
    "from tkinter import *\n",
    "\n",
    "%matplotlib inline"
   ]
  },
  {
   "cell_type": "code",
   "execution_count": null,
   "id": "e2837e8e",
   "metadata": {},
   "outputs": [],
   "source": [
    "def readParticleConfig(path,ConfigurationNumber):\n",
    "    TotalNumberOfParticles = int(re.search(r'(?<=N=)[\\d]*',path).group())\n",
    "    with open(path,'r') as F:\n",
    "        Data = F.read()\n",
    "    RowOffset = 1+ConfigurationNumber*(TotalNumberOfParticles+2)\n",
    "    print(\"RowOffset: \",RowOffset)\n",
    "    Data = Data.strip()\n",
    "    FirstRow = Data.split(sep='\\n')[RowOffset]\n",
    "    NumberOfAParticles = int(FirstRow.split()[6].strip('|'))\n",
    "    NumberOfBParticles = int(FirstRow.split()[8].strip('|'))\n",
    "    ListOfRows = Data.split(sep='\\n')[RowOffset+1:RowOffset+1+TotalNumberOfParticles]\n",
    "    if (len(ListOfRows) > 0):\n",
    "        NumberOfColumns = len(ListOfRows[0].split()) - 2 \n",
    "    else:\n",
    "        NumberOfColumns = 0\n",
    "    APositions = np.empty((NumberOfAParticles, NumberOfColumns))\n",
    "    BPositions = np.empty((NumberOfBParticles, NumberOfColumns))\n",
    "    AIndex = 0\n",
    "    BIndex = 0\n",
    "    \n",
    "    for i in range(len(ListOfRows)):\n",
    "        if (ListOfRows[i].split()[NumberOfColumns + 1] == 'A'):\n",
    "            for j in range(NumberOfColumns):\n",
    "                APositions[AIndex,j] = ListOfRows[i].split()[j+1]\n",
    "            AIndex += 1\n",
    "        else:\n",
    "            for j in range(NumberOfColumns):\n",
    "                BPositions[BIndex,j] = ListOfRows[i].split()[j+1]\n",
    "            BIndex += 1\n",
    "    return APositions, BPositions"
   ]
  },
  {
   "cell_type": "code",
   "execution_count": null,
   "id": "af99281d",
   "metadata": {},
   "outputs": [],
   "source": [
    "def getFilePathFromDialog(_initialdir):\n",
    "    root = Tk()\n",
    "    FilePath = fd.askopenfilename(initialdir = _initialdir)\n",
    "    root.destroy()\n",
    "    return FilePath\n",
    "\n",
    "def getDirectoryPathFromDialog(_initialdir):\n",
    "    root = Tk()\n",
    "    Directory = fd.askdirectory(initialdir = _initialdir)\n",
    "    root.destroy()\n",
    "    return Directory\n",
    "\n",
    "dataPath = getDirectoryPathFromDialog('')\n",
    "\n",
    "def readParticleConfigFromDialog(ConfigurationNumber):\n",
    "    return readParticleConfig(getFilePathFromDialog(dataPath),ConfigurationNumber)"
   ]
  },
  {
   "cell_type": "code",
   "execution_count": null,
   "id": "4287aed1",
   "metadata": {},
   "outputs": [],
   "source": [
    "def readStructureFactorValues(path):\n",
    "    return np.loadtxt(path, dtype=float, skiprows = 1)\n",
    "\n",
    "def readStructureFactorValuesFromDialog():\n",
    "    return readStructureFactorValues(getFilePathFromDialog(dataPath))"
   ]
  },
  {
   "cell_type": "code",
   "execution_count": null,
   "id": "c08bd6e4",
   "metadata": {},
   "outputs": [],
   "source": [
    "def plotMultiplePotEnergySeries():\n",
    "    Directory = getDirectoryPathFromDialog(dataPath);\n",
    "    AllPotEnergySeries = glob.glob(Directory+\"/PotEnergy*\")\n",
    "    NumberOfSeries = len(AllPotEnergySeries)\n",
    "    Fig,Ax = plt.subplots(NumberOfSeries,2,squeeze=False, figsize=(17,5*NumberOfSeries))\n",
    "    for i in range(NumberOfSeries):\n",
    "        RunNumber = re.search(r'(?<=_)[\\d]*(?=(.dat))',AllPotEnergySeries[i]).group()\n",
    "        PotSeries = np.loadtxt(glob.glob(Directory+\"/PotEnergy*_\"+RunNumber+\".dat\")[0], dtype=float, skiprows = 1)\n",
    "        PotEnergyAverage = np.mean(PotSeries)\n",
    "        Ax[i,0].plot(PotSeries,'.')\n",
    "        Ax[i,1].hist(PotSeries,bins = 20, density = True)\n",
    "        Ax[i,1].vlines(PotEnergyAverage,0,0.004,color='g',label=\"PotEnergyAvg={}\".format(round(PotEnergyAverage,2)))\n",
    "        Ax[i,1].legend()\n",
    "        print(RunNumber)"
   ]
  },
  {
   "cell_type": "code",
   "execution_count": null,
   "id": "de0f0a30",
   "metadata": {},
   "outputs": [],
   "source": [
    "StructureFactorResults = readStructureFactorValuesFromDialog()"
   ]
  },
  {
   "cell_type": "code",
   "execution_count": null,
   "id": "a964729e",
   "metadata": {},
   "outputs": [],
   "source": [
    "Fig, Ax = plt.subplots(1,1,squeeze=False, figsize=(10,6),dpi=200)\n",
    "Ax[0,0].plot(StructureFactorResults[:,0], StructureFactorResults[:,1],'-',label=r'$S_{AA}$')\n",
    "Ax[0,0].plot(StructureFactorResults[:,0], StructureFactorResults[:,2],'-',label=r'$S_{BB}$')\n",
    "Ax[0,0].set_xlabel(r'$k[\\sigma^{-1}]$')\n",
    "Ax[0,0].set_ylabel('strcture factor value')\n",
    "Ax[0,0].legend()\n",
    "Ax[0,0].set_title(r'$S_{AA}$'+' and '+r'$S_{BB}$' + ' as function of k')\n",
    "#Ax[0,0].set_xlim(5.9,6.4)\n",
    "#Ax[0,0].set_ylim(0.71,0.74)\n",
    "#Fig.savefig('SAA_SBB'+'.png',format='png')"
   ]
  },
  {
   "cell_type": "code",
   "execution_count": null,
   "id": "55683fc2",
   "metadata": {},
   "outputs": [],
   "source": [
    "Fig, Ax = plt.subplots(1,1,squeeze=False, figsize=(10,6),dpi=200)\n",
    "Ax[0,0].plot(StructureFactorResults[:,0], StructureFactorResults[:,3])\n",
    "Ax[0,0].set_xlabel(r'$k[\\sigma^{-1}]$')\n",
    "Ax[0,0].set_ylabel('$S_{AB}(k)$')\n",
    "Ax[0,0].set_title(r'$S_{AB}$')\n",
    "#Fig.savefig('SAB'+'.png',format='png')"
   ]
  },
  {
   "cell_type": "code",
   "execution_count": null,
   "id": "93dc151b",
   "metadata": {},
   "outputs": [],
   "source": [
    "Fig, Ax = plt.subplots(1,1,squeeze=False, figsize=(10,6),dpi=200)\n",
    "Ax[0,0].plot(StructureFactorResults[:,0], StructureFactorResults[:,4],'.')\n",
    "Ax[0,0].set_xlabel(r'$k[\\sigma^{-1}]$')\n",
    "Ax[0,0].set_ylabel('$S_{cc}(k)$')\n",
    "Ax[0,0].set_title(r'$S_{cc}$')\n",
    "#Ax[0,0].set_xlim(0,0.45)\n",
    "#Fig.savefig('Scc'+'.png',format='png')"
   ]
  },
  {
   "cell_type": "code",
   "execution_count": null,
   "id": "cb76555f",
   "metadata": {},
   "outputs": [],
   "source": [
    "Fig, Ax = plt.subplots(1,1,squeeze=False, figsize=(10,6),dpi = 200)\n",
    "Ax[0,0].plot(StructureFactorResults[:,0], StructureFactorResults[:,1],'-',label=r'$S_{AA}$')\n",
    "Ax[0,0].plot(StructureFactorResults[:,0], StructureFactorResults[:,2],'-',label=r'$S_{BB}$')\n",
    "Ax[0,0].plot(StructureFactorResults[:,0], StructureFactorResults[:,3],'-',label=r'$S_{AB}$')\n",
    "Ax[0,0].plot(StructureFactorResults[:,0], StructureFactorResults[:,4],'-',label=r'$S_{cc}$')\n",
    "Ax[0,0].legend()"
   ]
  },
  {
   "cell_type": "code",
   "execution_count": null,
   "id": "3d79d03e",
   "metadata": {},
   "outputs": [],
   "source": [
    "APositions, BPositions = readParticleConfigFromDialog(0)"
   ]
  },
  {
   "cell_type": "code",
   "execution_count": null,
   "id": "8f89da64",
   "metadata": {},
   "outputs": [],
   "source": [
    "Fig, Host = plt.subplots(1,1,squeeze=False,figsize=(7,7),dpi =200)\n",
    "Host[0,0].plot(APositions[:,0],APositions[:,1],'.',color='b',ms=2)\n",
    "Host[0,0].plot(BPositions[:,0],BPositions[:,1],'.',color='darkorange',ms=2)\n",
    "Host[0,0].set_xlabel('x')\n",
    "Host[0,0].set_ylabel('y')\n",
    "Host[0,0].set_xlim(0,1)\n",
    "Host[0,0].set_ylim(0,1)\n",
    "#Host[0,0].set_title('config for T=0.84')\n",
    "#Fig.savefig('Particle_config_T=0.84_structure_factors_not_equilibrated'+'.png',format='png')"
   ]
  },
  {
   "cell_type": "code",
   "execution_count": null,
   "id": "fa7edc03",
   "metadata": {
    "scrolled": false
   },
   "outputs": [],
   "source": [
    "plotMultiplePotEnergySeries()"
   ]
  },
  {
   "cell_type": "code",
   "execution_count": null,
   "id": "e9f8b5ac",
   "metadata": {},
   "outputs": [],
   "source": []
  }
 ],
 "metadata": {
  "kernelspec": {
   "display_name": "Python 3",
   "language": "python",
   "name": "python3"
  },
  "language_info": {
   "codemirror_mode": {
    "name": "ipython",
    "version": 3
   },
   "file_extension": ".py",
   "mimetype": "text/x-python",
   "name": "python",
   "nbconvert_exporter": "python",
   "pygments_lexer": "ipython3",
   "version": "3.8.10"
  }
 },
 "nbformat": 4,
 "nbformat_minor": 5
}
