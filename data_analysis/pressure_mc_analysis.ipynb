{
 "cells": [
  {
   "cell_type": "code",
   "execution_count": null,
   "id": "d15de988",
   "metadata": {},
   "outputs": [],
   "source": [
    "import os\n",
    "import numpy as np\n",
    "import matplotlib.pyplot as plt\n",
    "%matplotlib inline\n",
    "import glob\n",
    "import re\n",
    "from tkinter import filedialog as fd\n",
    "from tkinter import *"
   ]
  },
  {
   "cell_type": "code",
   "execution_count": null,
   "id": "583e6216",
   "metadata": {},
   "outputs": [],
   "source": [
    "def readFile(path):\n",
    "    return np.loadtxt(path, dtype=float, skiprows = 1)\n",
    "\n",
    "def getFilePathFromDialog(_initialdir):\n",
    "    root = Tk()\n",
    "    FilePath = fd.askopenfilename(initialdir = _initialdir)\n",
    "    root.destroy()\n",
    "    return FilePath\n",
    "\n",
    "def readFileFromDialog():\n",
    "    return readFile(getFilePathFromDialog(dataPath))\n",
    "\n",
    "def getDirectoryPathFromDialog(_initialdir):\n",
    "    root = Tk()\n",
    "    Directory = fd.askdirectory(initialdir = _initialdir)\n",
    "    root.destroy()\n",
    "    return Directory"
   ]
  },
  {
   "cell_type": "code",
   "execution_count": null,
   "id": "184b32e9",
   "metadata": {},
   "outputs": [],
   "source": [
    "def readParticleConfig(path,ConfigurationNumber):\n",
    "    TotalNumberOfParticles = int(re.search(r'(?<=N=)[\\d]*',path).group())\n",
    "    with open(path,'r') as F:\n",
    "        Data = F.read()\n",
    "    RowOffset = 1+ConfigurationNumber*(TotalNumberOfParticles+2)\n",
    "    print(\"RowOffset: \",RowOffset)\n",
    "    Data = Data.strip()\n",
    "    FirstRow = Data.split(sep='\\n')[RowOffset]\n",
    "    NumberOfAParticles = int(FirstRow.split()[5].strip('|'))\n",
    "    NumberOfBParticles = int(FirstRow.split()[7].strip('|'))\n",
    "    ListOfRows = Data.split(sep='\\n')[RowOffset+1:RowOffset+1+TotalNumberOfParticles]\n",
    "    if (len(ListOfRows) > 0):\n",
    "        NumberOfColumns = len(ListOfRows[0].split()) - 1\n",
    "    else:\n",
    "        NumberOfColumns = 0\n",
    "    APositions = np.empty((NumberOfAParticles, NumberOfColumns))\n",
    "    BPositions = np.empty((NumberOfBParticles, NumberOfColumns))\n",
    "    AIndex = 0\n",
    "    BIndex = 0\n",
    "    \n",
    "    for i in range(len(ListOfRows)):\n",
    "        if (ListOfRows[i].split()[NumberOfColumns] == 'A'):\n",
    "            for j in range(NumberOfColumns):\n",
    "                APositions[AIndex,j] = ListOfRows[i].split()[j]\n",
    "            AIndex += 1\n",
    "        else:\n",
    "            for j in range(NumberOfColumns):\n",
    "                BPositions[BIndex,j] = ListOfRows[i].split()[j]\n",
    "            BIndex += 1\n",
    "    return APositions, BPositions\n",
    "\n",
    "def readParticleConfigFromDialog(ConfigurationNumber):\n",
    "    return readParticleConfig(getFilePathFromDialog(dataPath),ConfigurationNumber)"
   ]
  },
  {
   "cell_type": "code",
   "execution_count": null,
   "id": "5d2e4026",
   "metadata": {},
   "outputs": [],
   "source": [
    "def plotMultipleDensityAndPotEnergySeries(Directory,plotDiagrams=False):\n",
    "    Temperature = re.search(r'(?<=T=).*',Directory).group()\n",
    "    AllDensitySeries = sorted(glob.glob(Directory+\"/p=*\"))\n",
    "    NumberOfSeries = len(AllDensitySeries)\n",
    "    if plotDiagrams:\n",
    "        Fig,Ax = plt.subplots(NumberOfSeries,4,squeeze=False, figsize=(17,5*NumberOfSeries))\n",
    "    PressureList = []\n",
    "    DensityList = []\n",
    "    for i in range(NumberOfSeries):\n",
    "        Pressure = re.search(r'(?<=p=).*',AllDensitySeries[i]).group()\n",
    "        PressureList.append(Pressure)\n",
    "        DensitySeries = readFile(glob.glob(AllDensitySeries[i]+\"/density*\")[0])\n",
    "        PotSeries = readFile(glob.glob(AllDensitySeries[i]+\"/PotEnergySeries*\")[0])\n",
    "        PotEnergyAverage = np.mean(PotSeries)\n",
    "        DensityAverage = np.mean(DensitySeries)\n",
    "        DensityList.append(DensityAverage)\n",
    "        if plotDiagrams:\n",
    "            Ax[i,0].plot(DensitySeries,'.')\n",
    "            Ax[i,0].set_title(\"p= \"+str(Pressure))\n",
    "            DensityHistValues, BinEdges, Patches = Ax[i,1].hist(DensitySeries,bins = 20, density = True)\n",
    "            Ax[i,1].vlines(DensityAverage,0,max(DensityHistValues),color='g',label=\"DensityAvg={}\".format(round(DensityAverage,2)))\n",
    "            Ax[i,1].set_xlabel('density')\n",
    "            Ax[i,1].set_ylabel('number of occurences')\n",
    "            Ax[i,2].plot(PotSeries,'.')\n",
    "            PotEnergyHistValues, BinEdges, Patches = Ax[i,3].hist(PotSeries,bins = 20, density = True)\n",
    "            Ax[i,3].vlines(PotEnergyAverage,0,max(PotEnergyHistValues),color='g',label=\"PotEnergyAvg={}\".format(round(PotEnergyAverage,2)))\n",
    "            Ax[i,3].legend()\n",
    "    return Temperature,PressureList,DensityList"
   ]
  },
  {
   "cell_type": "code",
   "execution_count": null,
   "id": "2ab15758",
   "metadata": {},
   "outputs": [],
   "source": [
    "def plotPressureDensityDiagramForMultipleTemperatures():\n",
    "    Directory = getDirectoryPathFromDialog(dataPath)\n",
    "    Fig,Ax = plt.subplots(1,1,squeeze=False,figsize=(7,7),dpi=200)\n",
    "    Ax[0,0].set_xlim(0.6,0.91)\n",
    "    Ax[0,0].set_ylim(1.0,3.8)\n",
    "    Ax[0,0].set_ylabel('pressure')\n",
    "    Ax[0,0].set_xlabel('density')\n",
    "    Ax[0,0].set_title('p_vs_roh_finer_scan')\n",
    "    for Directory in sorted(glob.glob(Directory+'/T=*')):\n",
    "        Temperature, PressureList, DensityList = plotMultipleDensityAndPotEnergySeries(Directory,False)\n",
    "        Ax[0,0].plot(np.array(DensityList),np.array(PressureList,dtype=float),'.-',label=('T='+str(Temperature)))\n",
    "    Ax[0,0].legend(bbox_to_anchor=(1,1), loc=\"upper left\")\n",
    "    #Fig.savefig('plots/p_vs_roh_finer_scan.png',format='png',dpi=200)"
   ]
  },
  {
   "cell_type": "code",
   "execution_count": null,
   "id": "1e24c6b7",
   "metadata": {},
   "outputs": [],
   "source": [
    "dataPath = getDirectoryPathFromDialog('')"
   ]
  },
  {
   "cell_type": "markdown",
   "id": "d65eacab",
   "metadata": {},
   "source": [
    "## Plot single temperature p vs roh diagram"
   ]
  },
  {
   "cell_type": "code",
   "execution_count": null,
   "id": "2317eff0",
   "metadata": {
    "scrolled": false
   },
   "outputs": [],
   "source": [
    "Temperature, PressureList, DensityList = plotMultipleDensityAndPotEnergySeries(getDirectoryPathFromDialog(dataPath),True)"
   ]
  },
  {
   "cell_type": "code",
   "execution_count": null,
   "id": "bee05285",
   "metadata": {},
   "outputs": [],
   "source": [
    "Fig,Ax = plt.subplots(1,1,squeeze=False,figsize=(5,5))\n",
    "Ax[0,0].plot(np.array(DensityList),np.array(PressureList,dtype=float),'.')\n",
    "#Ax[0,0].set_yscale('log')\n",
    "Ax[0,0].set_ylabel('pressure')\n",
    "Ax[0,0].set_xlabel('density')\n",
    "Ax[0,0].set_title('T='+str(Temperature)+'_p_vs_roh_finer_scan')\n",
    "Ax[0,0].set_xlim(0.7,0.91)\n",
    "#Ax[0,0].set_ylim(0.5,4.0)\n",
    "Fig.savefig('plots/T='+str(Temperature)+'_p_vs_roh_finer_scan.png',format='png',dpi=200)"
   ]
  },
  {
   "cell_type": "markdown",
   "id": "4bf8257d",
   "metadata": {},
   "source": [
    "## Plot multiple temperature p vs roh diagram"
   ]
  },
  {
   "cell_type": "code",
   "execution_count": null,
   "id": "776836dc",
   "metadata": {},
   "outputs": [],
   "source": [
    "plotPressureDensityDiagramForMultipleTemperatures()"
   ]
  },
  {
   "cell_type": "markdown",
   "id": "ae54b167",
   "metadata": {},
   "source": [
    "## Plot single density series"
   ]
  },
  {
   "cell_type": "code",
   "execution_count": null,
   "id": "80d56d79",
   "metadata": {},
   "outputs": [],
   "source": [
    "DensitySeries = readFileFromDialog()"
   ]
  },
  {
   "cell_type": "code",
   "execution_count": null,
   "id": "9a0b92eb",
   "metadata": {},
   "outputs": [],
   "source": [
    "Fig, Ax = plt.subplots(1,1,squeeze=False, figsize=(5,5))\n",
    "Ax[0,0].plot(DensitySeries)"
   ]
  },
  {
   "cell_type": "markdown",
   "id": "94d2ede9",
   "metadata": {},
   "source": [
    "## Plot single pot energy series"
   ]
  },
  {
   "cell_type": "code",
   "execution_count": null,
   "id": "334f2143",
   "metadata": {},
   "outputs": [],
   "source": [
    "PotEnergySeries = readFileFromDialog()"
   ]
  },
  {
   "cell_type": "code",
   "execution_count": null,
   "id": "13ced252",
   "metadata": {},
   "outputs": [],
   "source": [
    "Fig, Ax = plt.subplots(1,1,squeeze=False, figsize=(5,5))\n",
    "Ax[0,0].plot(PotEnergySeries)"
   ]
  },
  {
   "cell_type": "markdown",
   "id": "f5ae19cc",
   "metadata": {},
   "source": [
    "## Plot particle position"
   ]
  },
  {
   "cell_type": "code",
   "execution_count": null,
   "id": "8335f254",
   "metadata": {},
   "outputs": [],
   "source": [
    "APositions, BPositions = readParticleConfigFromDialog(0)"
   ]
  },
  {
   "cell_type": "code",
   "execution_count": null,
   "id": "4ba6c6ed",
   "metadata": {},
   "outputs": [],
   "source": [
    "Fig, Host = plt.subplots(1,1,squeeze=False,figsize=(5,5),dpi =100)\n",
    "Host[0,0].plot(APositions[:,0],APositions[:,1],'.',color='b',ms=2)\n",
    "Host[0,0].plot(BPositions[:,0],BPositions[:,1],'.',color='darkorange',ms=2)\n",
    "Host[0,0].set_xlabel('x')\n",
    "Host[0,0].set_ylabel('y')\n",
    "Host[0,0].set_xlim(0,1)\n",
    "Host[0,0].set_ylim(0,1)"
   ]
  },
  {
   "cell_type": "code",
   "execution_count": null,
   "id": "3646e37c",
   "metadata": {},
   "outputs": [],
   "source": []
  }
 ],
 "metadata": {
  "kernelspec": {
   "display_name": "Python 3",
   "language": "python",
   "name": "python3"
  },
  "language_info": {
   "codemirror_mode": {
    "name": "ipython",
    "version": 3
   },
   "file_extension": ".py",
   "mimetype": "text/x-python",
   "name": "python",
   "nbconvert_exporter": "python",
   "pygments_lexer": "ipython3",
   "version": "3.8.10"
  }
 },
 "nbformat": 4,
 "nbformat_minor": 5
}
